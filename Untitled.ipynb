{
 "cells": [
  {
   "cell_type": "code",
   "execution_count": 2,
   "metadata": {},
   "outputs": [],
   "source": [
    "import pandas as pd\n",
    "import numpy as np"
   ]
  },
  {
   "cell_type": "code",
   "execution_count": 5,
   "metadata": {},
   "outputs": [
    {
     "name": "stdout",
     "output_type": "stream",
     "text": [
      "Collecting datapackage\n",
      "\u001b[?25l  Downloading https://files.pythonhosted.org/packages/08/ff/85c2e70640770c169f2ab4a53dfa8f86fa73bcbfe071a1d477f7c0be7a1d/datapackage-1.13.0-py2.py3-none-any.whl (84kB)\n",
      "\u001b[K     |████████████████████████████████| 92kB 2.4MB/s eta 0:00:01\n",
      "\u001b[?25hRequirement already satisfied: unicodecsv>=0.14 in /Applications/anaconda3/lib/python3.7/site-packages (from datapackage) (0.14.1)\n",
      "Collecting tableschema>=1.12.1 (from datapackage)\n",
      "\u001b[?25l  Downloading https://files.pythonhosted.org/packages/03/34/63c6478eea150dad8c11692dd2e737612d222d6a2a49e38efafeb4fdaff3/tableschema-1.17.0-py2.py3-none-any.whl (68kB)\n",
      "\u001b[K     |████████████████████████████████| 71kB 14.0MB/s eta 0:00:01\n",
      "\u001b[?25hCollecting jsonpointer>=1.10 (from datapackage)\n",
      "  Downloading https://files.pythonhosted.org/packages/18/b0/a80d29577c08eea401659254dfaed87f1af45272899e1812d7e01b679bc5/jsonpointer-2.0-py2.py3-none-any.whl\n",
      "Requirement already satisfied: requests>=2.8 in /Applications/anaconda3/lib/python3.7/site-packages (from datapackage) (2.22.0)\n",
      "Requirement already satisfied: click>=6.7 in /Applications/anaconda3/lib/python3.7/site-packages (from datapackage) (7.0)\n",
      "Requirement already satisfied: jsonschema>=2.5 in /Applications/anaconda3/lib/python3.7/site-packages (from datapackage) (3.0.2)\n",
      "Collecting tabulator>=1.29 (from datapackage)\n",
      "\u001b[?25l  Downloading https://files.pythonhosted.org/packages/8f/02/77fb8395c15b2ea4e32e9b8379df2ebc5ef5c17ecc25d5f7c30b70ed5d05/tabulator-1.42.0-py2.py3-none-any.whl (68kB)\n",
      "\u001b[K     |████████████████████████████████| 71kB 15.0MB/s eta 0:00:01\n",
      "\u001b[?25hRequirement already satisfied: chardet>=3.0 in /Applications/anaconda3/lib/python3.7/site-packages (from datapackage) (3.0.4)\n",
      "Requirement already satisfied: six>=1.10 in /Applications/anaconda3/lib/python3.7/site-packages (from datapackage) (1.12.0)\n",
      "Requirement already satisfied: python-dateutil>=2.4 in /Applications/anaconda3/lib/python3.7/site-packages (from tableschema>=1.12.1->datapackage) (2.8.0)\n",
      "Collecting rfc3986>=1.1.0 (from tableschema>=1.12.1->datapackage)\n",
      "  Downloading https://files.pythonhosted.org/packages/78/be/7b8b99fd74ff5684225f50dd0e865393d2265656ef3b4ba9eaaaffe622b8/rfc3986-1.4.0-py2.py3-none-any.whl\n",
      "Collecting isodate>=0.5.4 (from tableschema>=1.12.1->datapackage)\n",
      "\u001b[?25l  Downloading https://files.pythonhosted.org/packages/9b/9f/b36f7774ff5ea8e428fdcfc4bb332c39ee5b9362ddd3d40d9516a55221b2/isodate-0.6.0-py2.py3-none-any.whl (45kB)\n",
      "\u001b[K     |████████████████████████████████| 51kB 16.8MB/s eta 0:00:01\n",
      "\u001b[?25hRequirement already satisfied: urllib3!=1.25.0,!=1.25.1,<1.26,>=1.21.1 in /Applications/anaconda3/lib/python3.7/site-packages (from requests>=2.8->datapackage) (1.24.2)\n",
      "Requirement already satisfied: certifi>=2017.4.17 in /Applications/anaconda3/lib/python3.7/site-packages (from requests>=2.8->datapackage) (2019.9.11)\n",
      "Requirement already satisfied: idna<2.9,>=2.5 in /Applications/anaconda3/lib/python3.7/site-packages (from requests>=2.8->datapackage) (2.8)\n",
      "Requirement already satisfied: setuptools in /Applications/anaconda3/lib/python3.7/site-packages (from jsonschema>=2.5->datapackage) (41.4.0)\n",
      "Requirement already satisfied: pyrsistent>=0.14.0 in /Applications/anaconda3/lib/python3.7/site-packages (from jsonschema>=2.5->datapackage) (0.15.4)\n",
      "Requirement already satisfied: attrs>=17.4.0 in /Applications/anaconda3/lib/python3.7/site-packages (from jsonschema>=2.5->datapackage) (19.2.0)\n",
      "Requirement already satisfied: sqlalchemy>=0.9.6 in /Applications/anaconda3/lib/python3.7/site-packages (from tabulator>=1.29->datapackage) (1.3.9)\n",
      "Collecting ijson>=3.0.3 (from tabulator>=1.29->datapackage)\n",
      "\u001b[?25l  Downloading https://files.pythonhosted.org/packages/ca/6e/0e04f8d287448e8bc4d48f1c5b19ef9a6e5bf048fbf8bdac2fb895a24222/ijson-3.0.3-cp37-cp37m-macosx_10_6_x86_64.whl (50kB)\n",
      "\u001b[K     |████████████████████████████████| 51kB 13.2MB/s eta 0:00:01\n",
      "\u001b[?25hCollecting boto3>=1.9 (from tabulator>=1.29->datapackage)\n",
      "\u001b[?25l  Downloading https://files.pythonhosted.org/packages/c8/1e/587abcd94e8f6dbd42df730f40eb5f7313b6fd7255f5ef5a0db53d116999/boto3-1.13.1-py2.py3-none-any.whl (128kB)\n",
      "\u001b[K     |████████████████████████████████| 133kB 6.9MB/s eta 0:00:01\n",
      "\u001b[?25hRequirement already satisfied: openpyxl>=2.6 in /Applications/anaconda3/lib/python3.7/site-packages (from tabulator>=1.29->datapackage) (3.0.0)\n",
      "Collecting linear-tsv>=1.0 (from tabulator>=1.29->datapackage)\n",
      "  Downloading https://files.pythonhosted.org/packages/82/e5/03207a0f11e1d60df85b97b61704ed701b725a7c2feaf83f7bfbd0c2d83e/linear-tsv-1.1.0.tar.gz\n",
      "Collecting jsonlines>=1.1 (from tabulator>=1.29->datapackage)\n",
      "  Downloading https://files.pythonhosted.org/packages/4f/9a/ab96291470e305504aa4b7a2e0ec132e930da89eb3ca7a82fbe03167c131/jsonlines-1.2.0-py2.py3-none-any.whl\n",
      "Requirement already satisfied: xlrd>=1.0 in /Applications/anaconda3/lib/python3.7/site-packages (from tabulator>=1.29->datapackage) (1.2.0)\n",
      "Collecting botocore<1.17.0,>=1.16.1 (from boto3>=1.9->tabulator>=1.29->datapackage)\n",
      "\u001b[?25l  Downloading https://files.pythonhosted.org/packages/46/b8/588f44ac91f280beabd0d5ce192a65f50e32e39ebb2a4193590ccb3afff2/botocore-1.16.1-py2.py3-none-any.whl (6.2MB)\n",
      "\u001b[K     |████████████████████████████████| 6.2MB 14.1MB/s eta 0:00:01\n",
      "\u001b[?25hCollecting s3transfer<0.4.0,>=0.3.0 (from boto3>=1.9->tabulator>=1.29->datapackage)\n",
      "\u001b[?25l  Downloading https://files.pythonhosted.org/packages/69/79/e6afb3d8b0b4e96cefbdc690f741d7dd24547ff1f94240c997a26fa908d3/s3transfer-0.3.3-py2.py3-none-any.whl (69kB)\n",
      "\u001b[K     |████████████████████████████████| 71kB 13.7MB/s eta 0:00:01\n",
      "\u001b[?25hCollecting jmespath<1.0.0,>=0.7.1 (from boto3>=1.9->tabulator>=1.29->datapackage)\n",
      "  Downloading https://files.pythonhosted.org/packages/a3/43/1e939e1fcd87b827fe192d0c9fc25b48c5b3368902bfb913de7754b0dc03/jmespath-0.9.5-py2.py3-none-any.whl\n",
      "Requirement already satisfied: jdcal in /Applications/anaconda3/lib/python3.7/site-packages (from openpyxl>=2.6->tabulator>=1.29->datapackage) (1.4.1)\n",
      "Requirement already satisfied: et-xmlfile in /Applications/anaconda3/lib/python3.7/site-packages (from openpyxl>=2.6->tabulator>=1.29->datapackage) (1.0.1)\n",
      "Requirement already satisfied: docutils<0.16,>=0.10 in /Applications/anaconda3/lib/python3.7/site-packages (from botocore<1.17.0,>=1.16.1->boto3>=1.9->tabulator>=1.29->datapackage) (0.15.2)\n",
      "Building wheels for collected packages: linear-tsv\n",
      "  Building wheel for linear-tsv (setup.py) ... \u001b[?25ldone\n",
      "\u001b[?25h  Created wheel for linear-tsv: filename=linear_tsv-1.1.0-cp37-none-any.whl size=7383 sha256=fd402773b948f853c28b4927583614248d0bbdddf89c5938c2faaa84b14eda5f\n",
      "  Stored in directory: /Users/rajeevpanwar/Library/Caches/pip/wheels/3f/8a/cb/38917fd1ef4356b9870ace7331b83417dc594bf2c029bd991f\n",
      "Successfully built linear-tsv\n",
      "Installing collected packages: rfc3986, isodate, ijson, jmespath, botocore, s3transfer, boto3, linear-tsv, jsonlines, tabulator, tableschema, jsonpointer, datapackage\n",
      "Successfully installed boto3-1.13.1 botocore-1.16.1 datapackage-1.13.0 ijson-3.0.3 isodate-0.6.0 jmespath-0.9.5 jsonlines-1.2.0 jsonpointer-2.0 linear-tsv-1.1.0 rfc3986-1.4.0 s3transfer-0.3.3 tableschema-1.17.0 tabulator-1.42.0\n",
      "Note: you may need to restart the kernel to use updated packages.\n"
     ]
    }
   ],
   "source": [
    "pip install datapackage"
   ]
  },
  {
   "cell_type": "code",
   "execution_count": null,
   "metadata": {},
   "outputs": [
    {
     "name": "stdout",
     "output_type": "stream",
     "text": [
      "['validation_report', 'annual_csv', 'monthly_csv', 'annual_json', 'monthly_json', 'gold-prices_zip', 'annual', 'monthly']\n",
      "[[yearmonth(year=1950, month=12), Decimal('34.720')], [yearmonth(year=1951, month=12), Decimal('34.660')], [yearmonth(year=1952, month=12), Decimal('34.790')], [yearmonth(year=1953, month=12), Decimal('34.850')], [yearmonth(year=1954, month=12), Decimal('35.040')], [yearmonth(year=1955, month=12), Decimal('34.970')], [yearmonth(year=1956, month=12), Decimal('34.900')], [yearmonth(year=1957, month=12), Decimal('34.990')], [yearmonth(year=1958, month=12), Decimal('35.090')], [yearmonth(year=1959, month=12), Decimal('35.050')], [yearmonth(year=1960, month=12), Decimal('35.540')], [yearmonth(year=1961, month=12), Decimal('35.150')], [yearmonth(year=1962, month=12), Decimal('35.080')], [yearmonth(year=1963, month=12), Decimal('35.080')], [yearmonth(year=1964, month=12), Decimal('35.120')], [yearmonth(year=1965, month=12), Decimal('35.130')], [yearmonth(year=1966, month=12), Decimal('35.180')], [yearmonth(year=1967, month=12), Decimal('35.190')], [yearmonth(year=1968, month=12), Decimal('41.113')], [yearmonth(year=1969, month=12), Decimal('35.189')], [yearmonth(year=1970, month=12), Decimal('37.434')], [yearmonth(year=1971, month=12), Decimal('43.455')], [yearmonth(year=1972, month=12), Decimal('63.779')], [yearmonth(year=1973, month=12), Decimal('106.236')], [yearmonth(year=1974, month=12), Decimal('183.683')], [yearmonth(year=1975, month=12), Decimal('139.279')], [yearmonth(year=1976, month=12), Decimal('133.674')], [yearmonth(year=1977, month=12), Decimal('160.480')], [yearmonth(year=1978, month=12), Decimal('207.895')], [yearmonth(year=1979, month=12), Decimal('463.666')], [yearmonth(year=1980, month=12), Decimal('596.712')], [yearmonth(year=1981, month=12), Decimal('410.119')], [yearmonth(year=1982, month=12), Decimal('444.776')], [yearmonth(year=1983, month=12), Decimal('388.060')], [yearmonth(year=1984, month=12), Decimal('319.622')], [yearmonth(year=1985, month=12), Decimal('321.985')], [yearmonth(year=1986, month=12), Decimal('391.595')], [yearmonth(year=1987, month=12), Decimal('487.079')], [yearmonth(year=1988, month=12), Decimal('419.248')], [yearmonth(year=1989, month=12), Decimal('409.655')], [yearmonth(year=1990, month=12), Decimal('378.161')], [yearmonth(year=1991, month=12), Decimal('361.875')], [yearmonth(year=1992, month=12), Decimal('334.657')], [yearmonth(year=1993, month=12), Decimal('383.243')], [yearmonth(year=1994, month=12), Decimal('379.480')], [yearmonth(year=1995, month=12), Decimal('387.445')], [yearmonth(year=1996, month=12), Decimal('369.338')], [yearmonth(year=1997, month=12), Decimal('288.776')], [yearmonth(year=1998, month=12), Decimal('291.357')], [yearmonth(year=1999, month=12), Decimal('283.743')], [yearmonth(year=2000, month=12), Decimal('271.892')], [yearmonth(year=2001, month=12), Decimal('275.992')], [yearmonth(year=2002, month=12), Decimal('333.300')], [yearmonth(year=2003, month=12), Decimal('407.674')], [yearmonth(year=2004, month=12), Decimal('442.974')], [yearmonth(year=2005, month=12), Decimal('509.423')], [yearmonth(year=2006, month=12), Decimal('629.513')], [yearmonth(year=2007, month=12), Decimal('803.618')], [yearmonth(year=2008, month=12), Decimal('819.940')], [yearmonth(year=2009, month=12), Decimal('1135.012')], [yearmonth(year=2010, month=12), Decimal('1393.512')], [yearmonth(year=2011, month=12), Decimal('1652.725')], [yearmonth(year=2012, month=12), Decimal('1687.342')], [yearmonth(year=2013, month=12), Decimal('1221.588')], [yearmonth(year=2014, month=12), Decimal('1200.440')], [yearmonth(year=2015, month=12), Decimal('1068.317')], [yearmonth(year=2016, month=12), Decimal('1152.165')], [yearmonth(year=2017, month=12), Decimal('1265.674')], [yearmonth(year=2018, month=12), Decimal('1249.887')], [yearmonth(year=2019, month=12), Decimal('1480.025')]]\n"
     ]
    }
   ],
   "source": [
    "from datapackage import Package\n",
    "\n",
    "package = Package('https://datahub.io/core/gold-prices/datapackage.json')\n",
    "\n",
    "# print list of all resources:\n",
    "print(package.resource_names)\n",
    "\n",
    "# print processed tabular data (if exists any)\n",
    "for resource in package.resources:\n",
    "    if resource.descriptor['datahub']['type'] == 'derived/csv':\n",
    "        print(resource.read())"
   ]
  },
  {
   "cell_type": "code",
   "execution_count": null,
   "metadata": {},
   "outputs": [],
   "source": []
  },
  {
   "cell_type": "code",
   "execution_count": null,
   "metadata": {},
   "outputs": [],
   "source": []
  }
 ],
 "metadata": {
  "kernelspec": {
   "display_name": "Python 3",
   "language": "python",
   "name": "python3"
  },
  "language_info": {
   "codemirror_mode": {
    "name": "ipython",
    "version": 3
   },
   "file_extension": ".py",
   "mimetype": "text/x-python",
   "name": "python",
   "nbconvert_exporter": "python",
   "pygments_lexer": "ipython3",
   "version": "3.7.4"
  }
 },
 "nbformat": 4,
 "nbformat_minor": 2
}
