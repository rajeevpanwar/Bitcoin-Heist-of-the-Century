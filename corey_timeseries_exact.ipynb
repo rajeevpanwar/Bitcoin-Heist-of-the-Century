{
 "cells": [
  {
   "cell_type": "markdown",
   "metadata": {},
   "source": [
    "## Imports"
   ]
  },
  {
   "cell_type": "code",
   "execution_count": 10,
   "metadata": {},
   "outputs": [],
   "source": [
    "#Library imports\n",
    "import re\n",
    "import os\n",
    "import time\n",
    "import math\n",
    "import random\n",
    "import itertools\n",
    "import numpy as np\n",
    "import pandas as pd\n",
    "import statsmodels.api as sm\n",
    "import matplotlib.pyplot as plt\n",
    "from pylab import rcParams\n",
    "from sklearn.pipeline import Pipeline\n",
    "from sklearn.preprocessing import StandardScaler, MinMaxScaler\n",
    "from sklearn.model_selection import train_test_split, GridSearchCV\n",
    "from sklearn.preprocessing import FunctionTransformer\n",
    "from statsmodels.graphics.tsaplots import plot_pacf, plot_acf\n",
    "from tensorflow.keras.models import Sequential\n",
    "from tensorflow.keras.layers import Dense, LSTM\n",
    "from tensorflow.keras.wrappers.scikit_learn import KerasRegressor\n",
    "\n",
    "\n",
    "#User Created functions\n",
    "from scraping_functions import *\n",
    "from cleaning_functions import *\n",
    "from eda_functions import *\n",
    "from modeling_functions import *\n",
    "from keras_wrapper_fix import Keras_Custom_Fitter\n",
    "\n",
    "#Notebook arguments\n",
    "%matplotlib inline"
   ]
  },
  {
   "cell_type": "code",
   "execution_count": 11,
   "metadata": {},
   "outputs": [],
   "source": [
    "#Device specific gpu deterministic arguments\n",
    "from tensorflow import config as tfconfig\n",
    "physical_devices = tfconfig.list_physical_devices('GPU')\n",
    "tfconfig.experimental.set_memory_growth(physical_devices[0], enable=True)\n",
    "os.environ['TF_DETERMINISTIC_OPS'] = '1'"
   ]
  },
  {
   "cell_type": "code",
   "execution_count": 12,
   "metadata": {},
   "outputs": [],
   "source": [
    "#Sets random seeds to allow for reproducable results.\n",
    "from tensorflow import random as tfrandom\n",
    "SEED=127\n",
    "os.environ['PYTHONHASHSEED']=str(SEED)\n",
    "random.seed(SEED)\n",
    "np.random.seed(SEED)\n",
    "tfrandom.set_seed(SEED)"
   ]
  },
  {
   "cell_type": "code",
   "execution_count": 13,
   "metadata": {},
   "outputs": [],
   "source": [
    "btc=pd.read_pickle(\"bitcoin.pickle\")"
   ]
  },
  {
   "cell_type": "code",
   "execution_count": 5,
   "metadata": {},
   "outputs": [
    {
     "data": {
      "text/html": [
       "<div>\n",
       "<style scoped>\n",
       "    .dataframe tbody tr th:only-of-type {\n",
       "        vertical-align: middle;\n",
       "    }\n",
       "\n",
       "    .dataframe tbody tr th {\n",
       "        vertical-align: top;\n",
       "    }\n",
       "\n",
       "    .dataframe thead th {\n",
       "        text-align: right;\n",
       "    }\n",
       "</style>\n",
       "<table border=\"1\" class=\"dataframe\">\n",
       "  <thead>\n",
       "    <tr style=\"text-align: right;\">\n",
       "      <th></th>\n",
       "      <th>Open</th>\n",
       "      <th>High</th>\n",
       "      <th>Low</th>\n",
       "      <th>Close</th>\n",
       "      <th>Volume</th>\n",
       "      <th>Market Cap</th>\n",
       "    </tr>\n",
       "    <tr>\n",
       "      <th>Date</th>\n",
       "      <th></th>\n",
       "      <th></th>\n",
       "      <th></th>\n",
       "      <th></th>\n",
       "      <th></th>\n",
       "      <th></th>\n",
       "    </tr>\n",
       "  </thead>\n",
       "  <tbody>\n",
       "    <tr>\n",
       "      <th>2013-04-28</th>\n",
       "      <td>135.30</td>\n",
       "      <td>135.98</td>\n",
       "      <td>132.10</td>\n",
       "      <td>134.21</td>\n",
       "      <td>NaN</td>\n",
       "      <td>1500520000</td>\n",
       "    </tr>\n",
       "    <tr>\n",
       "      <th>2013-04-29</th>\n",
       "      <td>134.44</td>\n",
       "      <td>147.49</td>\n",
       "      <td>134.00</td>\n",
       "      <td>144.54</td>\n",
       "      <td>NaN</td>\n",
       "      <td>1491160000</td>\n",
       "    </tr>\n",
       "    <tr>\n",
       "      <th>2013-04-30</th>\n",
       "      <td>144.00</td>\n",
       "      <td>146.93</td>\n",
       "      <td>134.05</td>\n",
       "      <td>139.00</td>\n",
       "      <td>NaN</td>\n",
       "      <td>1597780000</td>\n",
       "    </tr>\n",
       "    <tr>\n",
       "      <th>2013-05-01</th>\n",
       "      <td>139.00</td>\n",
       "      <td>139.89</td>\n",
       "      <td>107.72</td>\n",
       "      <td>116.99</td>\n",
       "      <td>NaN</td>\n",
       "      <td>1542820000</td>\n",
       "    </tr>\n",
       "    <tr>\n",
       "      <th>2013-05-02</th>\n",
       "      <td>116.38</td>\n",
       "      <td>125.60</td>\n",
       "      <td>92.28</td>\n",
       "      <td>105.21</td>\n",
       "      <td>NaN</td>\n",
       "      <td>1292190000</td>\n",
       "    </tr>\n",
       "    <tr>\n",
       "      <th>...</th>\n",
       "      <td>...</td>\n",
       "      <td>...</td>\n",
       "      <td>...</td>\n",
       "      <td>...</td>\n",
       "      <td>...</td>\n",
       "      <td>...</td>\n",
       "    </tr>\n",
       "    <tr>\n",
       "      <th>2020-05-01</th>\n",
       "      <td>8672.78</td>\n",
       "      <td>9048.02</td>\n",
       "      <td>8667.76</td>\n",
       "      <td>8864.77</td>\n",
       "      <td>4.406839e+10</td>\n",
       "      <td>162722652380</td>\n",
       "    </tr>\n",
       "    <tr>\n",
       "      <th>2020-05-02</th>\n",
       "      <td>8869.06</td>\n",
       "      <td>9007.19</td>\n",
       "      <td>8811.37</td>\n",
       "      <td>8988.60</td>\n",
       "      <td>4.013439e+10</td>\n",
       "      <td>165012307600</td>\n",
       "    </tr>\n",
       "    <tr>\n",
       "      <th>2020-05-03</th>\n",
       "      <td>8983.61</td>\n",
       "      <td>9167.78</td>\n",
       "      <td>8830.97</td>\n",
       "      <td>8897.47</td>\n",
       "      <td>4.710179e+10</td>\n",
       "      <td>163358189151</td>\n",
       "    </tr>\n",
       "    <tr>\n",
       "      <th>2020-05-04</th>\n",
       "      <td>8895.74</td>\n",
       "      <td>8956.91</td>\n",
       "      <td>8645.02</td>\n",
       "      <td>8912.65</td>\n",
       "      <td>4.571880e+10</td>\n",
       "      <td>163654493632</td>\n",
       "    </tr>\n",
       "    <tr>\n",
       "      <th>2020-05-05</th>\n",
       "      <td>8912.83</td>\n",
       "      <td>9062.41</td>\n",
       "      <td>8856.83</td>\n",
       "      <td>9003.07</td>\n",
       "      <td>4.314846e+10</td>\n",
       "      <td>165332488792</td>\n",
       "    </tr>\n",
       "  </tbody>\n",
       "</table>\n",
       "<p>2565 rows × 6 columns</p>\n",
       "</div>"
      ],
      "text/plain": [
       "               Open     High      Low    Close        Volume    Market Cap\n",
       "Date                                                                      \n",
       "2013-04-28   135.30   135.98   132.10   134.21           NaN    1500520000\n",
       "2013-04-29   134.44   147.49   134.00   144.54           NaN    1491160000\n",
       "2013-04-30   144.00   146.93   134.05   139.00           NaN    1597780000\n",
       "2013-05-01   139.00   139.89   107.72   116.99           NaN    1542820000\n",
       "2013-05-02   116.38   125.60    92.28   105.21           NaN    1292190000\n",
       "...             ...      ...      ...      ...           ...           ...\n",
       "2020-05-01  8672.78  9048.02  8667.76  8864.77  4.406839e+10  162722652380\n",
       "2020-05-02  8869.06  9007.19  8811.37  8988.60  4.013439e+10  165012307600\n",
       "2020-05-03  8983.61  9167.78  8830.97  8897.47  4.710179e+10  163358189151\n",
       "2020-05-04  8895.74  8956.91  8645.02  8912.65  4.571880e+10  163654493632\n",
       "2020-05-05  8912.83  9062.41  8856.83  9003.07  4.314846e+10  165332488792\n",
       "\n",
       "[2565 rows x 6 columns]"
      ]
     },
     "execution_count": 5,
     "metadata": {},
     "output_type": "execute_result"
    }
   ],
   "source": [
    "btc"
   ]
  },
  {
   "cell_type": "code",
   "execution_count": 5,
   "metadata": {},
   "outputs": [],
   "source": [
    "def resample_metrics(df, rule, max_list=[], min_list=[], start_list=[], end_list=[], avg_list=[]):\n",
    "    df"
   ]
  },
  {
   "cell_type": "code",
   "execution_count": 4,
   "metadata": {},
   "outputs": [],
   "source": [
    "btc_week_log = np.log(btc.resample(\"W\").mean()[\"Close\"])"
   ]
  },
  {
   "cell_type": "code",
   "execution_count": 5,
   "metadata": {},
   "outputs": [],
   "source": [
    "btc_log = np.log(btc[\"Close\"])\n",
    "btc_sqrt = np.sqrt(btc[\"Close\"])"
   ]
  },
  {
   "cell_type": "code",
   "execution_count": 13,
   "metadata": {},
   "outputs": [
    {
     "data": {
      "image/png": "[encoded data removed]",
      "text/plain": [
       "<Figure size 1296x936 with 4 Axes>"
      ]
     },
     "metadata": {
      "needs_background": "light"
     },
     "output_type": "display_data"
    }
   ],
   "source": [
    "rcParams['figure.figsize'] = 18, 13\n",
    "decomposition = sm.tsa.seasonal_decompose(btc_week_log, model='additive', period=52)\n",
    "residual = decomposition.resid\n",
    "fig = decomposition.plot()\n",
    "plt.show()"
   ]
  },
  {
   "cell_type": "code",
   "execution_count": 46,
   "metadata": {},
   "outputs": [
    {
     "data": {
      "image/png": "[encoded data removed]",
      "text/plain": [
       "<Figure size 1440x720 with 1 Axes>"
      ]
     },
     "metadata": {},
     "output_type": "display_data"
    },
    {
     "data": {
      "text/plain": [
       "Test Statistic                   -3.919320\n",
       "p-value                           0.001897\n",
       "#Lags Used                       24.000000\n",
       "Number of Observations Used    2173.000000\n",
       "Critical Value (1%)              -3.433363\n",
       "Critical Value (5%)              -2.862871\n",
       "Critical Value (10%)             -2.567479\n",
       "dtype: float64"
      ]
     },
     "execution_count": 46,
     "metadata": {},
     "output_type": "execute_result"
    }
   ],
   "source": [
    "stationarity_check(residual.dropna(), 8, figsize=(20, 10))"
   ]
  },
  {
   "cell_type": "code",
   "execution_count": 25,
   "metadata": {},
   "outputs": [
    {
     "data": {
      "image/png": "[encoded data removed]",
      "text/plain": [
       "<Figure size 1080x720 with 1 Axes>"
      ]
     },
     "metadata": {},
     "output_type": "display_data"
    },
    {
     "data": {
      "text/plain": [
       "Test Statistic                -9.421022e+00\n",
       "p-value                        5.502958e-16\n",
       "#Lags Used                     2.200000e+01\n",
       "Number of Observations Used    2.538000e+03\n",
       "Critical Value (1%)           -3.432929e+00\n",
       "Critical Value (5%)           -2.862679e+00\n",
       "Critical Value (10%)          -2.567377e+00\n",
       "dtype: float64"
      ]
     },
     "execution_count": 25,
     "metadata": {},
     "output_type": "execute_result"
    }
   ],
   "source": [
    "stationarity_check(btc_log.diff(1).dropna(), 8, figsize=(15, 10))"
   ]
  },
  {
   "cell_type": "code",
   "execution_count": 43,
   "metadata": {},
   "outputs": [
    {
     "data": {
      "image/png": "[encoded data removed]",
      "text/plain": [
       "<Figure size 1296x936 with 1 Axes>"
      ]
     },
     "execution_count": 43,
     "metadata": {},
     "output_type": "execute_result"
    },
    {
     "data": {
      "image/png": "[encoded data removed]",
      "text/plain": [
       "<Figure size 1296x936 with 1 Axes>"
      ]
     },
     "metadata": {
      "needs_background": "light"
     },
     "output_type": "display_data"
    }
   ],
   "source": [
    "rcParams['figure.figsize'] = 18, 13\n",
    "plot_pacf(btc_log, alpha=.05, lags=7*12)"
   ]
  },
  {
   "cell_type": "code",
   "execution_count": null,
   "metadata": {},
   "outputs": [],
   "source": [
    "scaled_pipeline_2 = Pipeline([(\"scaler\", StandardScaler()), ('RF', RandomForestClassifier(random_state=123))])"
   ]
  },
  {
   "cell_type": "code",
   "execution_count": 7,
   "metadata": {},
   "outputs": [],
   "source": [
    "btc_log_train, btc_log_test = btc_log[:\"2020-03-02\"], btc_log[\"2020-03-03\":]\n",
    "btc_week_log_train, btc_week_log_test = btc_week_log[:\"2020-03-02\"], btc_week_log[\"2020-03-03\":]"
   ]
  },
  {
   "cell_type": "code",
   "execution_count": 170,
   "metadata": {
    "collapsed": true,
    "jupyter": {
     "outputs_hidden": true
    }
   },
   "outputs": [
    {
     "name": "stdout",
     "output_type": "stream",
     "text": [
      "ARIMA(0, 0, 0)x(0, 0, 0, 52)12 - rmse:7.277200584650921\n",
      "ARIMA(0, 0, 0)x(0, 0, 1, 52)12 - rmse:4.964145709023613\n"
     ]
    },
    {
     "name": "stderr",
     "output_type": "stream",
     "text": [
      "/opt/conda/lib/python3.7/site-packages/statsmodels/base/model.py:568: ConvergenceWarning:\n",
      "\n",
      "Maximum Likelihood optimization failed to converge. Check mle_retvals\n",
      "\n"
     ]
    },
    {
     "name": "stdout",
     "output_type": "stream",
     "text": [
      "ARIMA(0, 0, 0)x(0, 0, 2, 52)12 - rmse:5.288289673340116\n",
      "ARIMA(0, 0, 0)x(0, 1, 0, 52)12 - rmse:2.4047407012351227\n"
     ]
    },
    {
     "name": "stderr",
     "output_type": "stream",
     "text": [
      "/opt/conda/lib/python3.7/site-packages/statsmodels/base/model.py:568: ConvergenceWarning:\n",
      "\n",
      "Maximum Likelihood optimization failed to converge. Check mle_retvals\n",
      "\n"
     ]
    },
    {
     "name": "stdout",
     "output_type": "stream",
     "text": [
      "ARIMA(0, 0, 0)x(0, 1, 1, 52)12 - rmse:2.404620603974837\n"
     ]
    },
    {
     "name": "stderr",
     "output_type": "stream",
     "text": [
      "/opt/conda/lib/python3.7/site-packages/statsmodels/tsa/statespace/sarimax.py:868: UserWarning:\n",
      "\n",
      "Too few observations to estimate starting parameters for seasonal ARMA. All parameters except for variances will be set to zeros.\n",
      "\n"
     ]
    },
    {
     "name": "stdout",
     "output_type": "stream",
     "text": [
      "ARIMA(0, 0, 0)x(0, 1, 2, 52)12 - rmse:2.3988397137995547\n"
     ]
    },
    {
     "name": "stderr",
     "output_type": "stream",
     "text": [
      "/opt/conda/lib/python3.7/site-packages/statsmodels/base/model.py:568: ConvergenceWarning:\n",
      "\n",
      "Maximum Likelihood optimization failed to converge. Check mle_retvals\n",
      "\n"
     ]
    },
    {
     "name": "stdout",
     "output_type": "stream",
     "text": [
      "ARIMA(0, 0, 0)x(1, 0, 0, 52)12 - rmse:2.359586794207256\n"
     ]
    },
    {
     "name": "stderr",
     "output_type": "stream",
     "text": [
      "/opt/conda/lib/python3.7/site-packages/statsmodels/base/model.py:568: ConvergenceWarning:\n",
      "\n",
      "Maximum Likelihood optimization failed to converge. Check mle_retvals\n",
      "\n"
     ]
    },
    {
     "name": "stdout",
     "output_type": "stream",
     "text": [
      "ARIMA(0, 0, 0)x(1, 0, 1, 52)12 - rmse:2.361038622064176\n"
     ]
    },
    {
     "name": "stderr",
     "output_type": "stream",
     "text": [
      "/opt/conda/lib/python3.7/site-packages/statsmodels/base/model.py:568: ConvergenceWarning:\n",
      "\n",
      "Maximum Likelihood optimization failed to converge. Check mle_retvals\n",
      "\n"
     ]
    },
    {
     "name": "stdout",
     "output_type": "stream",
     "text": [
      "ARIMA(0, 0, 0)x(1, 0, 2, 52)12 - rmse:2.843003741975424\n",
      "ARIMA(0, 0, 0)x(1, 1, 0, 52)12 - rmse:2.403950627008218\n",
      "ARIMA(0, 0, 0)x(1, 1, 1, 52)12 - rmse:2.41802391846093\n",
      "ARIMA(0, 0, 0)x(1, 1, 2, 52)12 - rmse:2.431464699888556\n",
      "ARIMA(0, 0, 0)x(2, 0, 0, 52)12 - rmse:2.4114980747274517\n"
     ]
    },
    {
     "name": "stderr",
     "output_type": "stream",
     "text": [
      "/opt/conda/lib/python3.7/site-packages/statsmodels/base/model.py:568: ConvergenceWarning:\n",
      "\n",
      "Maximum Likelihood optimization failed to converge. Check mle_retvals\n",
      "\n"
     ]
    },
    {
     "name": "stdout",
     "output_type": "stream",
     "text": [
      "ARIMA(0, 0, 0)x(2, 0, 1, 52)12 - rmse:2.427892498844385\n",
      "ARIMA(0, 0, 0)x(2, 0, 2, 52)12 - rmse:2.4844113599552786\n",
      "ARIMA(0, 0, 0)x(2, 1, 0, 52)12 - rmse:2.412356341171035\n",
      "ARIMA(0, 0, 0)x(2, 1, 1, 52)12 - rmse:2.40665050578462\n",
      "ARIMA(0, 0, 0)x(2, 1, 2, 52)12 - rmse:2.3993998835267103\n",
      "ARIMA(0, 0, 1)x(0, 0, 0, 52)12 - rmse:3.6853485129330035\n",
      "ARIMA(0, 0, 1)x(0, 0, 1, 52)12 - rmse:3.1629208522288055\n"
     ]
    },
    {
     "name": "stderr",
     "output_type": "stream",
     "text": [
      "/opt/conda/lib/python3.7/site-packages/statsmodels/base/model.py:568: ConvergenceWarning:\n",
      "\n",
      "Maximum Likelihood optimization failed to converge. Check mle_retvals\n",
      "\n"
     ]
    },
    {
     "name": "stdout",
     "output_type": "stream",
     "text": [
      "ARIMA(0, 0, 1)x(0, 0, 2, 52)12 - rmse:1084631861.0906034\n",
      "ARIMA(0, 0, 1)x(0, 1, 0, 52)12 - rmse:2.2242339376337434\n"
     ]
    },
    {
     "name": "stderr",
     "output_type": "stream",
     "text": [
      "/opt/conda/lib/python3.7/site-packages/statsmodels/base/model.py:568: ConvergenceWarning:\n",
      "\n",
      "Maximum Likelihood optimization failed to converge. Check mle_retvals\n",
      "\n"
     ]
    },
    {
     "name": "stdout",
     "output_type": "stream",
     "text": [
      "ARIMA(0, 0, 1)x(0, 1, 1, 52)12 - rmse:2.2259903072234875\n",
      "ARIMA(0, 0, 1)x(0, 1, 2, 52)12 - rmse:2.258713956752682\n",
      "ARIMA(0, 0, 1)x(1, 0, 0, 52)12 - rmse:2.2108702921995196\n",
      "ARIMA(0, 0, 1)x(1, 0, 1, 52)12 - rmse:2.193995623027546\n"
     ]
    },
    {
     "name": "stderr",
     "output_type": "stream",
     "text": [
      "/opt/conda/lib/python3.7/site-packages/statsmodels/base/model.py:568: ConvergenceWarning:\n",
      "\n",
      "Maximum Likelihood optimization failed to converge. Check mle_retvals\n",
      "\n"
     ]
    },
    {
     "name": "stdout",
     "output_type": "stream",
     "text": [
      "ARIMA(0, 0, 1)x(1, 0, 2, 52)12 - rmse:10.865442161820289\n",
      "ARIMA(0, 0, 1)x(1, 1, 0, 52)12 - rmse:2.2242552699868625\n",
      "ARIMA(0, 0, 1)x(1, 1, 1, 52)12 - rmse:2.2836891968805246\n",
      "ARIMA(0, 0, 1)x(1, 1, 2, 52)12 - rmse:2.258515467892063\n",
      "ARIMA(0, 0, 1)x(2, 0, 0, 52)12 - rmse:2.316240404736509\n",
      "ARIMA(0, 0, 1)x(2, 0, 1, 52)12 - rmse:2.248064027000382\n"
     ]
    },
    {
     "name": "stderr",
     "output_type": "stream",
     "text": [
      "/opt/conda/lib/python3.7/site-packages/statsmodels/base/model.py:568: ConvergenceWarning:\n",
      "\n",
      "Maximum Likelihood optimization failed to converge. Check mle_retvals\n",
      "\n"
     ]
    },
    {
     "name": "stdout",
     "output_type": "stream",
     "text": [
      "ARIMA(0, 0, 1)x(2, 0, 2, 52)12 - rmse:245995045.4026781\n",
      "ARIMA(0, 0, 1)x(2, 1, 0, 52)12 - rmse:2.2796350095275955\n",
      "ARIMA(0, 0, 1)x(2, 1, 1, 52)12 - rmse:2.2734826203793284\n",
      "ARIMA(0, 0, 1)x(2, 1, 2, 52)12 - rmse:2.2660721853514896\n",
      "ARIMA(0, 0, 2)x(0, 0, 0, 52)12 - rmse:1.9758079616264754\n",
      "ARIMA(0, 0, 2)x(0, 0, 1, 52)12 - rmse:2.546745785343078\n",
      "ARIMA(0, 0, 2)x(0, 0, 2, 52)12 - rmse:1213457188182.259\n",
      "ARIMA(0, 0, 2)x(0, 1, 0, 52)12 - rmse:2.1782151173003514\n"
     ]
    },
    {
     "name": "stderr",
     "output_type": "stream",
     "text": [
      "/opt/conda/lib/python3.7/site-packages/statsmodels/base/model.py:568: ConvergenceWarning:\n",
      "\n",
      "Maximum Likelihood optimization failed to converge. Check mle_retvals\n",
      "\n"
     ]
    },
    {
     "name": "stdout",
     "output_type": "stream",
     "text": [
      "ARIMA(0, 0, 2)x(0, 1, 1, 52)12 - rmse:2.1803729398288847\n",
      "ARIMA(0, 0, 2)x(0, 1, 2, 52)12 - rmse:2.222079353101851\n",
      "ARIMA(0, 0, 2)x(1, 0, 0, 52)12 - rmse:2.1722482104617042\n",
      "ARIMA(0, 0, 2)x(1, 0, 1, 52)12 - rmse:2.1664522472225047\n"
     ]
    },
    {
     "name": "stderr",
     "output_type": "stream",
     "text": [
      "/opt/conda/lib/python3.7/site-packages/statsmodels/base/model.py:568: ConvergenceWarning:\n",
      "\n",
      "Maximum Likelihood optimization failed to converge. Check mle_retvals\n",
      "\n"
     ]
    },
    {
     "name": "stdout",
     "output_type": "stream",
     "text": [
      "ARIMA(0, 0, 2)x(1, 0, 2, 52)12 - rmse:2912788980.6085443\n",
      "ARIMA(0, 0, 2)x(1, 1, 0, 52)12 - rmse:2.2244560488125913\n",
      "ARIMA(0, 0, 2)x(1, 1, 1, 52)12 - rmse:2.260971452264978\n",
      "ARIMA(0, 0, 2)x(1, 1, 2, 52)12 - rmse:2.384774920775448\n",
      "ARIMA(0, 0, 2)x(2, 0, 0, 52)12 - rmse:2.3367510192131173\n",
      "ARIMA(0, 0, 2)x(2, 0, 1, 52)12 - rmse:2.2462407519295677\n"
     ]
    },
    {
     "name": "stderr",
     "output_type": "stream",
     "text": [
      "/opt/conda/lib/python3.7/site-packages/statsmodels/base/model.py:568: ConvergenceWarning:\n",
      "\n",
      "Maximum Likelihood optimization failed to converge. Check mle_retvals\n",
      "\n"
     ]
    },
    {
     "name": "stdout",
     "output_type": "stream",
     "text": [
      "ARIMA(0, 0, 2)x(2, 0, 2, 52)12 - rmse:1234379200.1499202\n",
      "ARIMA(0, 0, 2)x(2, 1, 0, 52)12 - rmse:2.2443898790210235\n"
     ]
    },
    {
     "name": "stderr",
     "output_type": "stream",
     "text": [
      "/opt/conda/lib/python3.7/site-packages/statsmodels/base/model.py:568: ConvergenceWarning:\n",
      "\n",
      "Maximum Likelihood optimization failed to converge. Check mle_retvals\n",
      "\n"
     ]
    },
    {
     "name": "stdout",
     "output_type": "stream",
     "text": [
      "ARIMA(0, 0, 2)x(2, 1, 1, 52)12 - rmse:2.2415939011210577\n",
      "ARIMA(0, 0, 2)x(2, 1, 2, 52)12 - rmse:2.2429746045362755\n",
      "ARIMA(0, 1, 0)x(0, 0, 0, 52)12 - rmse:0.2764279602906454\n",
      "ARIMA(0, 1, 0)x(0, 0, 1, 52)12 - rmse:0.27638043426979514\n",
      "ARIMA(0, 1, 0)x(0, 0, 2, 52)12 - rmse:0.27795299494270614\n",
      "ARIMA(0, 1, 0)x(0, 1, 0, 52)12 - rmse:0.34055643303189836\n",
      "ARIMA(0, 1, 0)x(0, 1, 1, 52)12 - rmse:0.33537949867823613\n",
      "ARIMA(0, 1, 0)x(0, 1, 2, 52)12 - rmse:0.3342217141724749\n",
      "ARIMA(0, 1, 0)x(1, 0, 0, 52)12 - rmse:0.2764095100833285\n",
      "ARIMA(0, 1, 0)x(1, 0, 1, 52)12 - rmse:0.27639839902101454\n"
     ]
    },
    {
     "name": "stderr",
     "output_type": "stream",
     "text": [
      "/opt/conda/lib/python3.7/site-packages/statsmodels/base/model.py:568: ConvergenceWarning:\n",
      "\n",
      "Maximum Likelihood optimization failed to converge. Check mle_retvals\n",
      "\n"
     ]
    },
    {
     "name": "stdout",
     "output_type": "stream",
     "text": [
      "ARIMA(0, 1, 0)x(1, 0, 2, 52)12 - rmse:0.2787618040938389\n",
      "ARIMA(0, 1, 0)x(1, 1, 0, 52)12 - rmse:0.31546311406403277\n",
      "ARIMA(0, 1, 0)x(1, 1, 1, 52)12 - rmse:0.3257648712679098\n",
      "ARIMA(0, 1, 0)x(1, 1, 2, 52)12 - rmse:0.32828347493801424\n",
      "ARIMA(0, 1, 0)x(2, 0, 0, 52)12 - rmse:0.27654501000238\n",
      "ARIMA(0, 1, 0)x(2, 0, 1, 52)12 - rmse:0.27655274644616384\n"
     ]
    },
    {
     "name": "stderr",
     "output_type": "stream",
     "text": [
      "/opt/conda/lib/python3.7/site-packages/statsmodels/base/model.py:568: ConvergenceWarning:\n",
      "\n",
      "Maximum Likelihood optimization failed to converge. Check mle_retvals\n",
      "\n"
     ]
    },
    {
     "name": "stdout",
     "output_type": "stream",
     "text": [
      "ARIMA(0, 1, 0)x(2, 0, 2, 52)12 - rmse:0.2819820310124351\n",
      "ARIMA(0, 1, 0)x(2, 1, 0, 52)12 - rmse:0.3140323645928871\n",
      "ARIMA(0, 1, 0)x(2, 1, 1, 52)12 - rmse:0.31692086251604207\n",
      "ARIMA(0, 1, 0)x(2, 1, 2, 52)12 - rmse:0.31470202544356607\n",
      "ARIMA(0, 1, 1)x(0, 0, 0, 52)12 - rmse:0.2743796290415786\n",
      "ARIMA(0, 1, 1)x(0, 0, 1, 52)12 - rmse:0.2754972794486327\n"
     ]
    },
    {
     "name": "stderr",
     "output_type": "stream",
     "text": [
      "/opt/conda/lib/python3.7/site-packages/statsmodels/base/model.py:568: ConvergenceWarning:\n",
      "\n",
      "Maximum Likelihood optimization failed to converge. Check mle_retvals\n",
      "\n"
     ]
    },
    {
     "name": "stdout",
     "output_type": "stream",
     "text": [
      "ARIMA(0, 1, 1)x(0, 0, 2, 52)12 - rmse:0.27708113187472816\n",
      "ARIMA(0, 1, 1)x(0, 1, 0, 52)12 - rmse:0.33827850511954005\n",
      "ARIMA(0, 1, 1)x(0, 1, 1, 52)12 - rmse:0.33320591770758873\n",
      "ARIMA(0, 1, 1)x(0, 1, 2, 52)12 - rmse:0.33348613940695565\n",
      "ARIMA(0, 1, 1)x(1, 0, 0, 52)12 - rmse:0.2755281861357369\n",
      "ARIMA(0, 1, 1)x(1, 0, 1, 52)12 - rmse:0.2755059099605017\n"
     ]
    },
    {
     "name": "stderr",
     "output_type": "stream",
     "text": [
      "/opt/conda/lib/python3.7/site-packages/statsmodels/base/model.py:568: ConvergenceWarning:\n",
      "\n",
      "Maximum Likelihood optimization failed to converge. Check mle_retvals\n",
      "\n"
     ]
    },
    {
     "name": "stdout",
     "output_type": "stream",
     "text": [
      "ARIMA(0, 1, 1)x(1, 0, 2, 52)12 - rmse:0.27784698925606416\n",
      "ARIMA(0, 1, 1)x(1, 1, 0, 52)12 - rmse:0.3137502884664071\n",
      "ARIMA(0, 1, 1)x(1, 1, 1, 52)12 - rmse:0.3245043866543009\n",
      "ARIMA(0, 1, 1)x(1, 1, 2, 52)12 - rmse:0.3261240602201556\n",
      "ARIMA(0, 1, 1)x(2, 0, 0, 52)12 - rmse:0.2757355738289962\n",
      "ARIMA(0, 1, 1)x(2, 0, 1, 52)12 - rmse:0.27571986743421595\n"
     ]
    },
    {
     "name": "stderr",
     "output_type": "stream",
     "text": [
      "/opt/conda/lib/python3.7/site-packages/statsmodels/base/model.py:568: ConvergenceWarning:\n",
      "\n",
      "Maximum Likelihood optimization failed to converge. Check mle_retvals\n",
      "\n"
     ]
    },
    {
     "name": "stdout",
     "output_type": "stream",
     "text": [
      "ARIMA(0, 1, 1)x(2, 0, 2, 52)12 - rmse:0.2814253265429883\n",
      "ARIMA(0, 1, 1)x(2, 1, 0, 52)12 - rmse:0.3129443519662844\n",
      "ARIMA(0, 1, 1)x(2, 1, 1, 52)12 - rmse:0.31634800635900934\n",
      "ARIMA(0, 1, 1)x(2, 1, 2, 52)12 - rmse:0.31414984223043446\n",
      "ARIMA(0, 1, 2)x(0, 0, 0, 52)12 - rmse:0.2739559133656569\n",
      "ARIMA(0, 1, 2)x(0, 0, 1, 52)12 - rmse:0.27536382852343083\n"
     ]
    },
    {
     "name": "stderr",
     "output_type": "stream",
     "text": [
      "/opt/conda/lib/python3.7/site-packages/statsmodels/base/model.py:568: ConvergenceWarning:\n",
      "\n",
      "Maximum Likelihood optimization failed to converge. Check mle_retvals\n",
      "\n"
     ]
    },
    {
     "name": "stdout",
     "output_type": "stream",
     "text": [
      "ARIMA(0, 1, 2)x(0, 0, 2, 52)12 - rmse:0.2769267807037367\n",
      "ARIMA(0, 1, 2)x(0, 1, 0, 52)12 - rmse:0.33787723130757336\n",
      "ARIMA(0, 1, 2)x(0, 1, 1, 52)12 - rmse:0.33283947164566385\n",
      "ARIMA(0, 1, 2)x(0, 1, 2, 52)12 - rmse:0.3334389493332408\n",
      "ARIMA(0, 1, 2)x(1, 0, 0, 52)12 - rmse:0.2753931829562013\n",
      "ARIMA(0, 1, 2)x(1, 0, 1, 52)12 - rmse:0.27537351550415484\n"
     ]
    },
    {
     "name": "stderr",
     "output_type": "stream",
     "text": [
      "/opt/conda/lib/python3.7/site-packages/statsmodels/base/model.py:568: ConvergenceWarning:\n",
      "\n",
      "Maximum Likelihood optimization failed to converge. Check mle_retvals\n",
      "\n"
     ]
    },
    {
     "name": "stdout",
     "output_type": "stream",
     "text": [
      "ARIMA(0, 1, 2)x(1, 0, 2, 52)12 - rmse:0.2776980181512182\n",
      "ARIMA(0, 1, 2)x(1, 1, 0, 52)12 - rmse:0.3131925734965698\n",
      "ARIMA(0, 1, 2)x(1, 1, 1, 52)12 - rmse:0.32445757578336964\n",
      "ARIMA(0, 1, 2)x(1, 1, 2, 52)12 - rmse:0.32540839542551886\n",
      "ARIMA(0, 1, 2)x(2, 0, 0, 52)12 - rmse:0.2755792360682906\n",
      "ARIMA(0, 1, 2)x(2, 0, 1, 52)12 - rmse:0.27560400840609656\n"
     ]
    },
    {
     "name": "stderr",
     "output_type": "stream",
     "text": [
      "/opt/conda/lib/python3.7/site-packages/statsmodels/base/model.py:568: ConvergenceWarning:\n",
      "\n",
      "Maximum Likelihood optimization failed to converge. Check mle_retvals\n",
      "\n"
     ]
    },
    {
     "name": "stdout",
     "output_type": "stream",
     "text": [
      "ARIMA(0, 1, 2)x(2, 0, 2, 52)12 - rmse:0.2812467227425063\n",
      "ARIMA(0, 1, 2)x(2, 1, 0, 52)12 - rmse:0.3129967280360902\n",
      "ARIMA(0, 1, 2)x(2, 1, 1, 52)12 - rmse:0.315992815772518\n",
      "ARIMA(0, 1, 2)x(2, 1, 2, 52)12 - rmse:0.3141735022945978\n",
      "ARIMA(1, 0, 0)x(0, 0, 0, 52)12 - rmse:0.2762226553326686\n",
      "ARIMA(1, 0, 0)x(0, 0, 1, 52)12 - rmse:0.2762838999283334\n"
     ]
    },
    {
     "name": "stderr",
     "output_type": "stream",
     "text": [
      "/opt/conda/lib/python3.7/site-packages/statsmodels/base/model.py:568: ConvergenceWarning:\n",
      "\n",
      "Maximum Likelihood optimization failed to converge. Check mle_retvals\n",
      "\n"
     ]
    },
    {
     "name": "stdout",
     "output_type": "stream",
     "text": [
      "ARIMA(1, 0, 0)x(0, 0, 2, 52)12 - rmse:0.2821112756562569\n",
      "ARIMA(1, 0, 0)x(0, 1, 0, 52)12 - rmse:0.7103711992967877\n"
     ]
    },
    {
     "name": "stderr",
     "output_type": "stream",
     "text": [
      "/opt/conda/lib/python3.7/site-packages/statsmodels/base/model.py:568: ConvergenceWarning:\n",
      "\n",
      "Maximum Likelihood optimization failed to converge. Check mle_retvals\n",
      "\n"
     ]
    },
    {
     "name": "stdout",
     "output_type": "stream",
     "text": [
      "ARIMA(1, 0, 0)x(0, 1, 1, 52)12 - rmse:0.4156539846395375\n",
      "ARIMA(1, 0, 0)x(0, 1, 2, 52)12 - rmse:0.41054207232144035\n",
      "ARIMA(1, 0, 0)x(1, 0, 0, 52)12 - rmse:0.276328964768308\n"
     ]
    },
    {
     "name": "stderr",
     "output_type": "stream",
     "text": [
      "/opt/conda/lib/python3.7/site-packages/statsmodels/base/model.py:568: ConvergenceWarning:\n",
      "\n",
      "Maximum Likelihood optimization failed to converge. Check mle_retvals\n",
      "\n"
     ]
    },
    {
     "name": "stdout",
     "output_type": "stream",
     "text": [
      "ARIMA(1, 0, 0)x(1, 0, 1, 52)12 - rmse:0.2768001659995624\n"
     ]
    },
    {
     "name": "stderr",
     "output_type": "stream",
     "text": [
      "/opt/conda/lib/python3.7/site-packages/statsmodels/base/model.py:568: ConvergenceWarning:\n",
      "\n",
      "Maximum Likelihood optimization failed to converge. Check mle_retvals\n",
      "\n"
     ]
    },
    {
     "name": "stdout",
     "output_type": "stream",
     "text": [
      "ARIMA(1, 0, 0)x(1, 0, 2, 52)12 - rmse:0.353692056557786\n",
      "ARIMA(1, 0, 0)x(1, 1, 0, 52)12 - rmse:0.42965531969772497\n"
     ]
    },
    {
     "name": "stderr",
     "output_type": "stream",
     "text": [
      "/opt/conda/lib/python3.7/site-packages/statsmodels/base/model.py:568: ConvergenceWarning:\n",
      "\n",
      "Maximum Likelihood optimization failed to converge. Check mle_retvals\n",
      "\n"
     ]
    },
    {
     "name": "stdout",
     "output_type": "stream",
     "text": [
      "ARIMA(1, 0, 0)x(1, 1, 1, 52)12 - rmse:0.4275247476526721\n",
      "ARIMA(1, 0, 0)x(1, 1, 2, 52)12 - rmse:0.39909413050127324\n",
      "ARIMA(1, 0, 0)x(2, 0, 0, 52)12 - rmse:0.2770963611529232\n"
     ]
    },
    {
     "name": "stderr",
     "output_type": "stream",
     "text": [
      "/opt/conda/lib/python3.7/site-packages/statsmodels/base/model.py:568: ConvergenceWarning:\n",
      "\n",
      "Maximum Likelihood optimization failed to converge. Check mle_retvals\n",
      "\n"
     ]
    },
    {
     "name": "stdout",
     "output_type": "stream",
     "text": [
      "ARIMA(1, 0, 0)x(2, 0, 1, 52)12 - rmse:0.2804754772927714\n"
     ]
    },
    {
     "name": "stderr",
     "output_type": "stream",
     "text": [
      "/opt/conda/lib/python3.7/site-packages/statsmodels/base/model.py:568: ConvergenceWarning:\n",
      "\n",
      "Maximum Likelihood optimization failed to converge. Check mle_retvals\n",
      "\n"
     ]
    },
    {
     "name": "stdout",
     "output_type": "stream",
     "text": [
      "ARIMA(1, 0, 0)x(2, 0, 2, 52)12 - rmse:0.3700665149758099\n",
      "ARIMA(1, 0, 0)x(2, 1, 0, 52)12 - rmse:0.3718375453312415\n"
     ]
    },
    {
     "name": "stderr",
     "output_type": "stream",
     "text": [
      "/opt/conda/lib/python3.7/site-packages/statsmodels/base/model.py:568: ConvergenceWarning:\n",
      "\n",
      "Maximum Likelihood optimization failed to converge. Check mle_retvals\n",
      "\n"
     ]
    },
    {
     "name": "stdout",
     "output_type": "stream",
     "text": [
      "ARIMA(1, 0, 0)x(2, 1, 1, 52)12 - rmse:0.37205055861246344\n",
      "ARIMA(1, 0, 0)x(2, 1, 2, 52)12 - rmse:0.37166898144654953\n",
      "ARIMA(1, 0, 1)x(0, 0, 0, 52)12 - rmse:0.27427472195738833\n",
      "ARIMA(1, 0, 1)x(0, 0, 1, 52)12 - rmse:0.2758680863535128\n"
     ]
    },
    {
     "name": "stderr",
     "output_type": "stream",
     "text": [
      "/opt/conda/lib/python3.7/site-packages/statsmodels/base/model.py:568: ConvergenceWarning:\n",
      "\n",
      "Maximum Likelihood optimization failed to converge. Check mle_retvals\n",
      "\n"
     ]
    },
    {
     "name": "stdout",
     "output_type": "stream",
     "text": [
      "ARIMA(1, 0, 1)x(0, 0, 2, 52)12 - rmse:0.2809063296165334\n",
      "ARIMA(1, 0, 1)x(0, 1, 0, 52)12 - rmse:0.7529229151643586\n"
     ]
    },
    {
     "name": "stderr",
     "output_type": "stream",
     "text": [
      "/opt/conda/lib/python3.7/site-packages/statsmodels/base/model.py:568: ConvergenceWarning:\n",
      "\n",
      "Maximum Likelihood optimization failed to converge. Check mle_retvals\n",
      "\n"
     ]
    },
    {
     "name": "stdout",
     "output_type": "stream",
     "text": [
      "ARIMA(1, 0, 1)x(0, 1, 1, 52)12 - rmse:0.41420691849396735\n",
      "ARIMA(1, 0, 1)x(0, 1, 2, 52)12 - rmse:0.4098654917733738\n",
      "ARIMA(1, 0, 1)x(1, 0, 0, 52)12 - rmse:0.2755268571390916\n"
     ]
    },
    {
     "name": "stderr",
     "output_type": "stream",
     "text": [
      "/opt/conda/lib/python3.7/site-packages/statsmodels/base/model.py:568: ConvergenceWarning:\n",
      "\n",
      "Maximum Likelihood optimization failed to converge. Check mle_retvals\n",
      "\n"
     ]
    },
    {
     "name": "stdout",
     "output_type": "stream",
     "text": [
      "ARIMA(1, 0, 1)x(1, 0, 1, 52)12 - rmse:0.2795941199074834\n"
     ]
    },
    {
     "name": "stderr",
     "output_type": "stream",
     "text": [
      "/opt/conda/lib/python3.7/site-packages/statsmodels/base/model.py:568: ConvergenceWarning:\n",
      "\n",
      "Maximum Likelihood optimization failed to converge. Check mle_retvals\n",
      "\n"
     ]
    },
    {
     "name": "stdout",
     "output_type": "stream",
     "text": [
      "ARIMA(1, 0, 1)x(1, 0, 2, 52)12 - rmse:0.35174735092536497\n",
      "ARIMA(1, 0, 1)x(1, 1, 0, 52)12 - rmse:0.42047202849448734\n"
     ]
    },
    {
     "name": "stderr",
     "output_type": "stream",
     "text": [
      "/opt/conda/lib/python3.7/site-packages/statsmodels/base/model.py:568: ConvergenceWarning:\n",
      "\n",
      "Maximum Likelihood optimization failed to converge. Check mle_retvals\n",
      "\n"
     ]
    },
    {
     "name": "stdout",
     "output_type": "stream",
     "text": [
      "ARIMA(1, 0, 1)x(1, 1, 1, 52)12 - rmse:0.41704198154905525\n",
      "ARIMA(1, 0, 1)x(1, 1, 2, 52)12 - rmse:0.3951574337653611\n",
      "ARIMA(1, 0, 1)x(2, 0, 0, 52)12 - rmse:0.27634316472340476\n"
     ]
    },
    {
     "name": "stderr",
     "output_type": "stream",
     "text": [
      "/opt/conda/lib/python3.7/site-packages/statsmodels/base/model.py:568: ConvergenceWarning:\n",
      "\n",
      "Maximum Likelihood optimization failed to converge. Check mle_retvals\n",
      "\n"
     ]
    },
    {
     "name": "stdout",
     "output_type": "stream",
     "text": [
      "ARIMA(1, 0, 1)x(2, 0, 1, 52)12 - rmse:0.28759464373100563\n"
     ]
    },
    {
     "name": "stderr",
     "output_type": "stream",
     "text": [
      "/opt/conda/lib/python3.7/site-packages/statsmodels/base/model.py:568: ConvergenceWarning:\n",
      "\n",
      "Maximum Likelihood optimization failed to converge. Check mle_retvals\n",
      "\n"
     ]
    },
    {
     "name": "stdout",
     "output_type": "stream",
     "text": [
      "ARIMA(1, 0, 1)x(2, 0, 2, 52)12 - rmse:0.36938409812697953\n"
     ]
    },
    {
     "name": "stderr",
     "output_type": "stream",
     "text": [
      "/opt/conda/lib/python3.7/site-packages/statsmodels/base/model.py:568: ConvergenceWarning:\n",
      "\n",
      "Maximum Likelihood optimization failed to converge. Check mle_retvals\n",
      "\n"
     ]
    },
    {
     "name": "stdout",
     "output_type": "stream",
     "text": [
      "ARIMA(1, 0, 1)x(2, 1, 0, 52)12 - rmse:0.37089304652617283\n"
     ]
    },
    {
     "name": "stderr",
     "output_type": "stream",
     "text": [
      "/opt/conda/lib/python3.7/site-packages/statsmodels/base/model.py:568: ConvergenceWarning:\n",
      "\n",
      "Maximum Likelihood optimization failed to converge. Check mle_retvals\n",
      "\n"
     ]
    },
    {
     "name": "stdout",
     "output_type": "stream",
     "text": [
      "ARIMA(1, 0, 1)x(2, 1, 1, 52)12 - rmse:0.3712460771862685\n"
     ]
    },
    {
     "name": "stderr",
     "output_type": "stream",
     "text": [
      "/opt/conda/lib/python3.7/site-packages/statsmodels/base/model.py:568: ConvergenceWarning:\n",
      "\n",
      "Maximum Likelihood optimization failed to converge. Check mle_retvals\n",
      "\n"
     ]
    },
    {
     "name": "stdout",
     "output_type": "stream",
     "text": [
      "ARIMA(1, 0, 1)x(2, 1, 2, 52)12 - rmse:0.37147769179260576\n",
      "ARIMA(1, 0, 2)x(0, 0, 0, 52)12 - rmse:0.2738852850110645\n"
     ]
    },
    {
     "name": "stderr",
     "output_type": "stream",
     "text": [
      "/opt/conda/lib/python3.7/site-packages/statsmodels/base/model.py:568: ConvergenceWarning:\n",
      "\n",
      "Maximum Likelihood optimization failed to converge. Check mle_retvals\n",
      "\n"
     ]
    },
    {
     "name": "stdout",
     "output_type": "stream",
     "text": [
      "ARIMA(1, 0, 2)x(0, 0, 1, 52)12 - rmse:0.27540493200515653\n"
     ]
    },
    {
     "name": "stderr",
     "output_type": "stream",
     "text": [
      "/opt/conda/lib/python3.7/site-packages/statsmodels/base/model.py:568: ConvergenceWarning:\n",
      "\n",
      "Maximum Likelihood optimization failed to converge. Check mle_retvals\n",
      "\n"
     ]
    },
    {
     "name": "stdout",
     "output_type": "stream",
     "text": [
      "ARIMA(1, 0, 2)x(0, 0, 2, 52)12 - rmse:0.2811009056598044\n",
      "ARIMA(1, 0, 2)x(0, 1, 0, 52)12 - rmse:0.800082285999489\n"
     ]
    },
    {
     "name": "stderr",
     "output_type": "stream",
     "text": [
      "/opt/conda/lib/python3.7/site-packages/statsmodels/base/model.py:568: ConvergenceWarning:\n",
      "\n",
      "Maximum Likelihood optimization failed to converge. Check mle_retvals\n",
      "\n"
     ]
    },
    {
     "name": "stdout",
     "output_type": "stream",
     "text": [
      "ARIMA(1, 0, 2)x(0, 1, 1, 52)12 - rmse:0.4141815620990708\n",
      "ARIMA(1, 0, 2)x(0, 1, 2, 52)12 - rmse:0.409784031216318\n"
     ]
    },
    {
     "name": "stderr",
     "output_type": "stream",
     "text": [
      "/opt/conda/lib/python3.7/site-packages/statsmodels/base/model.py:568: ConvergenceWarning:\n",
      "\n",
      "Maximum Likelihood optimization failed to converge. Check mle_retvals\n",
      "\n"
     ]
    },
    {
     "name": "stdout",
     "output_type": "stream",
     "text": [
      "ARIMA(1, 0, 2)x(1, 0, 0, 52)12 - rmse:0.2754062149522184\n"
     ]
    },
    {
     "name": "stderr",
     "output_type": "stream",
     "text": [
      "/opt/conda/lib/python3.7/site-packages/statsmodels/base/model.py:568: ConvergenceWarning:\n",
      "\n",
      "Maximum Likelihood optimization failed to converge. Check mle_retvals\n",
      "\n"
     ]
    },
    {
     "name": "stdout",
     "output_type": "stream",
     "text": [
      "ARIMA(1, 0, 2)x(1, 0, 1, 52)12 - rmse:0.2786336981570337\n"
     ]
    },
    {
     "name": "stderr",
     "output_type": "stream",
     "text": [
      "/opt/conda/lib/python3.7/site-packages/statsmodels/base/model.py:568: ConvergenceWarning:\n",
      "\n",
      "Maximum Likelihood optimization failed to converge. Check mle_retvals\n",
      "\n"
     ]
    },
    {
     "name": "stdout",
     "output_type": "stream",
     "text": [
      "ARIMA(1, 0, 2)x(1, 0, 2, 52)12 - rmse:0.35205069505170816\n",
      "ARIMA(1, 0, 2)x(1, 1, 0, 52)12 - rmse:0.41397533644362466\n"
     ]
    },
    {
     "name": "stderr",
     "output_type": "stream",
     "text": [
      "/opt/conda/lib/python3.7/site-packages/statsmodels/base/model.py:568: ConvergenceWarning:\n",
      "\n",
      "Maximum Likelihood optimization failed to converge. Check mle_retvals\n",
      "\n"
     ]
    },
    {
     "name": "stdout",
     "output_type": "stream",
     "text": [
      "ARIMA(1, 0, 2)x(1, 1, 1, 52)12 - rmse:0.40004808757660215\n",
      "ARIMA(1, 0, 2)x(1, 1, 2, 52)12 - rmse:0.39375191935264403\n",
      "ARIMA(1, 0, 2)x(2, 0, 0, 52)12 - rmse:0.2762073251699352\n"
     ]
    },
    {
     "name": "stderr",
     "output_type": "stream",
     "text": [
      "/opt/conda/lib/python3.7/site-packages/statsmodels/base/model.py:568: ConvergenceWarning:\n",
      "\n",
      "Maximum Likelihood optimization failed to converge. Check mle_retvals\n",
      "\n"
     ]
    },
    {
     "name": "stdout",
     "output_type": "stream",
     "text": [
      "ARIMA(1, 0, 2)x(2, 0, 1, 52)12 - rmse:0.28388715925591096\n"
     ]
    },
    {
     "name": "stderr",
     "output_type": "stream",
     "text": [
      "/opt/conda/lib/python3.7/site-packages/statsmodels/base/model.py:568: ConvergenceWarning:\n",
      "\n",
      "Maximum Likelihood optimization failed to converge. Check mle_retvals\n",
      "\n"
     ]
    },
    {
     "name": "stdout",
     "output_type": "stream",
     "text": [
      "ARIMA(1, 0, 2)x(2, 0, 2, 52)12 - rmse:0.3697077224556186\n",
      "ARIMA(1, 0, 2)x(2, 1, 0, 52)12 - rmse:0.37094307759349154\n"
     ]
    },
    {
     "name": "stderr",
     "output_type": "stream",
     "text": [
      "/opt/conda/lib/python3.7/site-packages/statsmodels/base/model.py:568: ConvergenceWarning:\n",
      "\n",
      "Maximum Likelihood optimization failed to converge. Check mle_retvals\n",
      "\n"
     ]
    },
    {
     "name": "stdout",
     "output_type": "stream",
     "text": [
      "ARIMA(1, 0, 2)x(2, 1, 1, 52)12 - rmse:0.37704009415220324\n"
     ]
    },
    {
     "name": "stderr",
     "output_type": "stream",
     "text": [
      "/opt/conda/lib/python3.7/site-packages/statsmodels/base/model.py:568: ConvergenceWarning:\n",
      "\n",
      "Maximum Likelihood optimization failed to converge. Check mle_retvals\n",
      "\n"
     ]
    },
    {
     "name": "stdout",
     "output_type": "stream",
     "text": [
      "ARIMA(1, 0, 2)x(2, 1, 2, 52)12 - rmse:0.37176641403709454\n",
      "ARIMA(1, 1, 0)x(0, 0, 0, 52)12 - rmse:0.2795187059799801\n",
      "ARIMA(1, 1, 0)x(0, 0, 1, 52)12 - rmse:0.277776734964507\n"
     ]
    },
    {
     "name": "stderr",
     "output_type": "stream",
     "text": [
      "/opt/conda/lib/python3.7/site-packages/statsmodels/base/model.py:568: ConvergenceWarning:\n",
      "\n",
      "Maximum Likelihood optimization failed to converge. Check mle_retvals\n",
      "\n"
     ]
    },
    {
     "name": "stdout",
     "output_type": "stream",
     "text": [
      "ARIMA(1, 1, 0)x(0, 0, 2, 52)12 - rmse:0.2817549707022553\n",
      "ARIMA(1, 1, 0)x(0, 1, 0, 52)12 - rmse:0.3377375943774038\n",
      "ARIMA(1, 1, 0)x(0, 1, 1, 52)12 - rmse:0.33589327329072277\n",
      "ARIMA(1, 1, 0)x(0, 1, 2, 52)12 - rmse:0.3346864944347282\n",
      "ARIMA(1, 1, 0)x(1, 0, 0, 52)12 - rmse:0.27778861304712094\n",
      "ARIMA(1, 1, 0)x(1, 0, 1, 52)12 - rmse:0.2777958595040559\n"
     ]
    },
    {
     "name": "stderr",
     "output_type": "stream",
     "text": [
      "/opt/conda/lib/python3.7/site-packages/statsmodels/base/model.py:568: ConvergenceWarning:\n",
      "\n",
      "Maximum Likelihood optimization failed to converge. Check mle_retvals\n",
      "\n"
     ]
    },
    {
     "name": "stdout",
     "output_type": "stream",
     "text": [
      "ARIMA(1, 1, 0)x(1, 0, 2, 52)12 - rmse:0.2808705717944412\n",
      "ARIMA(1, 1, 0)x(1, 1, 0, 52)12 - rmse:0.31910885376508497\n",
      "ARIMA(1, 1, 0)x(1, 1, 1, 52)12 - rmse:0.32602821353695044\n",
      "ARIMA(1, 1, 0)x(1, 1, 2, 52)12 - rmse:0.3271714608409063\n",
      "ARIMA(1, 1, 0)x(2, 0, 0, 52)12 - rmse:0.27819339296539786\n",
      "ARIMA(1, 1, 0)x(2, 0, 1, 52)12 - rmse:0.27819914054056927\n"
     ]
    },
    {
     "name": "stderr",
     "output_type": "stream",
     "text": [
      "/opt/conda/lib/python3.7/site-packages/statsmodels/base/model.py:568: ConvergenceWarning:\n",
      "\n",
      "Maximum Likelihood optimization failed to converge. Check mle_retvals\n",
      "\n"
     ]
    },
    {
     "name": "stdout",
     "output_type": "stream",
     "text": [
      "ARIMA(1, 1, 0)x(2, 0, 2, 52)12 - rmse:0.28274693980659527\n",
      "ARIMA(1, 1, 0)x(2, 1, 0, 52)12 - rmse:0.3155919702828094\n",
      "ARIMA(1, 1, 0)x(2, 1, 1, 52)12 - rmse:0.3182773447740707\n",
      "ARIMA(1, 1, 0)x(2, 1, 2, 52)12 - rmse:0.31598180416556154\n",
      "ARIMA(1, 1, 1)x(0, 0, 0, 52)12 - rmse:0.28110514891175975\n",
      "ARIMA(1, 1, 1)x(0, 0, 1, 52)12 - rmse:0.27991738025415813\n"
     ]
    },
    {
     "name": "stderr",
     "output_type": "stream",
     "text": [
      "/opt/conda/lib/python3.7/site-packages/statsmodels/base/model.py:568: ConvergenceWarning:\n",
      "\n",
      "Maximum Likelihood optimization failed to converge. Check mle_retvals\n",
      "\n"
     ]
    },
    {
     "name": "stdout",
     "output_type": "stream",
     "text": [
      "ARIMA(1, 1, 1)x(0, 0, 2, 52)12 - rmse:0.282769085796339\n",
      "ARIMA(1, 1, 1)x(0, 1, 0, 52)12 - rmse:0.33910868633900165\n",
      "ARIMA(1, 1, 1)x(0, 1, 1, 52)12 - rmse:0.33516120333870786\n",
      "ARIMA(1, 1, 1)x(0, 1, 2, 52)12 - rmse:0.3384348487862209\n",
      "ARIMA(1, 1, 1)x(1, 0, 0, 52)12 - rmse:0.2794518942670648\n",
      "ARIMA(1, 1, 1)x(1, 0, 1, 52)12 - rmse:0.2800091205922812\n"
     ]
    },
    {
     "name": "stderr",
     "output_type": "stream",
     "text": [
      "/opt/conda/lib/python3.7/site-packages/statsmodels/base/model.py:568: ConvergenceWarning:\n",
      "\n",
      "Maximum Likelihood optimization failed to converge. Check mle_retvals\n",
      "\n"
     ]
    },
    {
     "name": "stdout",
     "output_type": "stream",
     "text": [
      "ARIMA(1, 1, 1)x(1, 0, 2, 52)12 - rmse:0.28337442966197407\n",
      "ARIMA(1, 1, 1)x(1, 1, 0, 52)12 - rmse:0.3190825512978826\n",
      "ARIMA(1, 1, 1)x(1, 1, 1, 52)12 - rmse:0.32734921953958673\n",
      "ARIMA(1, 1, 1)x(1, 1, 2, 52)12 - rmse:0.3316625198924563\n",
      "ARIMA(1, 1, 1)x(2, 0, 0, 52)12 - rmse:0.2808408765530499\n",
      "ARIMA(1, 1, 1)x(2, 0, 1, 52)12 - rmse:0.2808768498279766\n"
     ]
    },
    {
     "name": "stderr",
     "output_type": "stream",
     "text": [
      "/opt/conda/lib/python3.7/site-packages/statsmodels/base/model.py:568: ConvergenceWarning:\n",
      "\n",
      "Maximum Likelihood optimization failed to converge. Check mle_retvals\n",
      "\n"
     ]
    },
    {
     "name": "stdout",
     "output_type": "stream",
     "text": [
      "ARIMA(1, 1, 1)x(2, 0, 2, 52)12 - rmse:0.2861432193020887\n",
      "ARIMA(1, 1, 1)x(2, 1, 0, 52)12 - rmse:0.3207300599260667\n",
      "ARIMA(1, 1, 1)x(2, 1, 1, 52)12 - rmse:0.3228657035174541\n",
      "ARIMA(1, 1, 1)x(2, 1, 2, 52)12 - rmse:0.3208612832890185\n",
      "ARIMA(1, 1, 2)x(0, 0, 0, 52)12 - rmse:0.27659856496241164\n",
      "ARIMA(1, 1, 2)x(0, 0, 1, 52)12 - rmse:0.27787171238573066\n",
      "ARIMA(1, 1, 2)x(0, 0, 2, 52)12 - rmse:0.27853348968924585\n",
      "ARIMA(1, 1, 2)x(0, 1, 0, 52)12 - rmse:0.33837415471947324\n",
      "ARIMA(1, 1, 2)x(0, 1, 1, 52)12 - rmse:0.3328846960614504\n",
      "ARIMA(1, 1, 2)x(0, 1, 2, 52)12 - rmse:0.3358153904516923\n",
      "ARIMA(1, 1, 2)x(1, 0, 0, 52)12 - rmse:0.2772256186224709\n",
      "ARIMA(1, 1, 2)x(1, 0, 1, 52)12 - rmse:0.2779814440903123\n",
      "ARIMA(1, 1, 2)x(1, 0, 2, 52)12 - rmse:0.27921149636194653\n",
      "ARIMA(1, 1, 2)x(1, 1, 0, 52)12 - rmse:0.34394331692901536\n",
      "ARIMA(1, 1, 2)x(1, 1, 1, 52)12 - rmse:0.32523420737355535\n",
      "ARIMA(1, 1, 2)x(1, 1, 2, 52)12 - rmse:0.3283127760727221\n",
      "ARIMA(1, 1, 2)x(2, 0, 0, 52)12 - rmse:0.2770877842745049\n"
     ]
    },
    {
     "name": "stderr",
     "output_type": "stream",
     "text": [
      "/opt/conda/lib/python3.7/site-packages/statsmodels/base/model.py:568: ConvergenceWarning:\n",
      "\n",
      "Maximum Likelihood optimization failed to converge. Check mle_retvals\n",
      "\n"
     ]
    },
    {
     "name": "stdout",
     "output_type": "stream",
     "text": [
      "ARIMA(1, 1, 2)x(2, 0, 1, 52)12 - rmse:0.27712700229734566\n"
     ]
    },
    {
     "name": "stderr",
     "output_type": "stream",
     "text": [
      "/opt/conda/lib/python3.7/site-packages/statsmodels/base/model.py:568: ConvergenceWarning:\n",
      "\n",
      "Maximum Likelihood optimization failed to converge. Check mle_retvals\n",
      "\n"
     ]
    },
    {
     "name": "stdout",
     "output_type": "stream",
     "text": [
      "ARIMA(1, 1, 2)x(2, 0, 2, 52)12 - rmse:0.28238149663806317\n",
      "ARIMA(1, 1, 2)x(2, 1, 0, 52)12 - rmse:0.3156414514966655\n",
      "ARIMA(1, 1, 2)x(2, 1, 1, 52)12 - rmse:0.32020707582437485\n",
      "ARIMA(1, 1, 2)x(2, 1, 2, 52)12 - rmse:0.3182034280966828\n",
      "ARIMA(2, 0, 0)x(0, 0, 0, 52)12 - rmse:0.2926785594624612\n",
      "ARIMA(2, 0, 0)x(0, 0, 1, 52)12 - rmse:0.28691711003245796\n"
     ]
    },
    {
     "name": "stderr",
     "output_type": "stream",
     "text": [
      "/opt/conda/lib/python3.7/site-packages/statsmodels/base/model.py:568: ConvergenceWarning:\n",
      "\n",
      "Maximum Likelihood optimization failed to converge. Check mle_retvals\n",
      "\n"
     ]
    },
    {
     "name": "stdout",
     "output_type": "stream",
     "text": [
      "ARIMA(2, 0, 0)x(0, 0, 2, 52)12 - rmse:0.2981783784955761\n",
      "ARIMA(2, 0, 0)x(0, 1, 0, 52)12 - rmse:0.8055803105642134\n"
     ]
    },
    {
     "name": "stderr",
     "output_type": "stream",
     "text": [
      "/opt/conda/lib/python3.7/site-packages/statsmodels/base/model.py:568: ConvergenceWarning:\n",
      "\n",
      "Maximum Likelihood optimization failed to converge. Check mle_retvals\n",
      "\n"
     ]
    },
    {
     "name": "stdout",
     "output_type": "stream",
     "text": [
      "ARIMA(2, 0, 0)x(0, 1, 1, 52)12 - rmse:0.4008451958423546\n",
      "ARIMA(2, 0, 0)x(0, 1, 2, 52)12 - rmse:0.3967227848487989\n",
      "ARIMA(2, 0, 0)x(1, 0, 0, 52)12 - rmse:0.28641322822706006\n"
     ]
    },
    {
     "name": "stderr",
     "output_type": "stream",
     "text": [
      "/opt/conda/lib/python3.7/site-packages/statsmodels/base/model.py:568: ConvergenceWarning:\n",
      "\n",
      "Maximum Likelihood optimization failed to converge. Check mle_retvals\n",
      "\n"
     ]
    },
    {
     "name": "stdout",
     "output_type": "stream",
     "text": [
      "ARIMA(2, 0, 0)x(1, 0, 1, 52)12 - rmse:0.29046848091539884\n"
     ]
    },
    {
     "name": "stderr",
     "output_type": "stream",
     "text": [
      "/opt/conda/lib/python3.7/site-packages/statsmodels/base/model.py:568: ConvergenceWarning:\n",
      "\n",
      "Maximum Likelihood optimization failed to converge. Check mle_retvals\n",
      "\n"
     ]
    },
    {
     "name": "stdout",
     "output_type": "stream",
     "text": [
      "ARIMA(2, 0, 0)x(1, 0, 2, 52)12 - rmse:0.37653980590803676\n",
      "ARIMA(2, 0, 0)x(1, 1, 0, 52)12 - rmse:0.40204604856927756\n"
     ]
    },
    {
     "name": "stderr",
     "output_type": "stream",
     "text": [
      "/opt/conda/lib/python3.7/site-packages/statsmodels/base/model.py:568: ConvergenceWarning:\n",
      "\n",
      "Maximum Likelihood optimization failed to converge. Check mle_retvals\n",
      "\n"
     ]
    },
    {
     "name": "stdout",
     "output_type": "stream",
     "text": [
      "ARIMA(2, 0, 0)x(1, 1, 1, 52)12 - rmse:0.39451906498986294\n",
      "ARIMA(2, 0, 0)x(1, 1, 2, 52)12 - rmse:0.38175967240008035\n",
      "ARIMA(2, 0, 0)x(2, 0, 0, 52)12 - rmse:0.287796542215946\n"
     ]
    },
    {
     "name": "stderr",
     "output_type": "stream",
     "text": [
      "/opt/conda/lib/python3.7/site-packages/statsmodels/base/model.py:568: ConvergenceWarning:\n",
      "\n",
      "Maximum Likelihood optimization failed to converge. Check mle_retvals\n",
      "\n"
     ]
    },
    {
     "name": "stdout",
     "output_type": "stream",
     "text": [
      "ARIMA(2, 0, 0)x(2, 0, 1, 52)12 - rmse:0.2995590857763599\n"
     ]
    },
    {
     "name": "stderr",
     "output_type": "stream",
     "text": [
      "/opt/conda/lib/python3.7/site-packages/statsmodels/base/model.py:568: ConvergenceWarning:\n",
      "\n",
      "Maximum Likelihood optimization failed to converge. Check mle_retvals\n",
      "\n"
     ]
    },
    {
     "name": "stdout",
     "output_type": "stream",
     "text": [
      "ARIMA(2, 0, 0)x(2, 0, 2, 52)12 - rmse:0.3891166757179764\n",
      "ARIMA(2, 0, 0)x(2, 1, 0, 52)12 - rmse:0.35966918565960226\n"
     ]
    },
    {
     "name": "stderr",
     "output_type": "stream",
     "text": [
      "/opt/conda/lib/python3.7/site-packages/statsmodels/base/model.py:568: ConvergenceWarning:\n",
      "\n",
      "Maximum Likelihood optimization failed to converge. Check mle_retvals\n",
      "\n"
     ]
    },
    {
     "name": "stdout",
     "output_type": "stream",
     "text": [
      "ARIMA(2, 0, 0)x(2, 1, 1, 52)12 - rmse:0.3623256453763463\n"
     ]
    },
    {
     "name": "stderr",
     "output_type": "stream",
     "text": [
      "/opt/conda/lib/python3.7/site-packages/statsmodels/base/model.py:568: ConvergenceWarning:\n",
      "\n",
      "Maximum Likelihood optimization failed to converge. Check mle_retvals\n",
      "\n"
     ]
    },
    {
     "name": "stdout",
     "output_type": "stream",
     "text": [
      "ARIMA(2, 0, 0)x(2, 1, 2, 52)12 - rmse:0.35952172386229964\n",
      "ARIMA(2, 0, 1)x(0, 0, 0, 52)12 - rmse:0.29845322116891915\n"
     ]
    },
    {
     "name": "stderr",
     "output_type": "stream",
     "text": [
      "/opt/conda/lib/python3.7/site-packages/statsmodels/base/model.py:568: ConvergenceWarning:\n",
      "\n",
      "Maximum Likelihood optimization failed to converge. Check mle_retvals\n",
      "\n"
     ]
    },
    {
     "name": "stdout",
     "output_type": "stream",
     "text": [
      "ARIMA(2, 0, 1)x(0, 0, 1, 52)12 - rmse:0.2931343783278799\n"
     ]
    },
    {
     "name": "stderr",
     "output_type": "stream",
     "text": [
      "/opt/conda/lib/python3.7/site-packages/statsmodels/base/model.py:568: ConvergenceWarning:\n",
      "\n",
      "Maximum Likelihood optimization failed to converge. Check mle_retvals\n",
      "\n"
     ]
    },
    {
     "name": "stdout",
     "output_type": "stream",
     "text": [
      "ARIMA(2, 0, 1)x(0, 0, 2, 52)12 - rmse:0.304028265188023\n",
      "ARIMA(2, 0, 1)x(0, 1, 0, 52)12 - rmse:0.8293161605062747\n",
      "ARIMA(2, 0, 1)x(0, 1, 1, 52)12 - rmse:0.41399849389254845\n",
      "ARIMA(2, 0, 1)x(0, 1, 2, 52)12 - rmse:0.3975415082285225\n",
      "ARIMA(2, 0, 1)x(1, 0, 0, 52)12 - rmse:0.2960197309991167\n"
     ]
    },
    {
     "name": "stderr",
     "output_type": "stream",
     "text": [
      "/opt/conda/lib/python3.7/site-packages/statsmodels/base/model.py:568: ConvergenceWarning:\n",
      "\n",
      "Maximum Likelihood optimization failed to converge. Check mle_retvals\n",
      "\n"
     ]
    },
    {
     "name": "stdout",
     "output_type": "stream",
     "text": [
      "ARIMA(2, 0, 1)x(1, 0, 1, 52)12 - rmse:0.2811239591915893\n"
     ]
    },
    {
     "name": "stderr",
     "output_type": "stream",
     "text": [
      "/opt/conda/lib/python3.7/site-packages/statsmodels/base/model.py:568: ConvergenceWarning:\n",
      "\n",
      "Maximum Likelihood optimization failed to converge. Check mle_retvals\n",
      "\n"
     ]
    },
    {
     "name": "stdout",
     "output_type": "stream",
     "text": [
      "ARIMA(2, 0, 1)x(1, 0, 2, 52)12 - rmse:0.3844890054057409\n",
      "ARIMA(2, 0, 1)x(1, 1, 0, 52)12 - rmse:0.40192843295548086\n"
     ]
    },
    {
     "name": "stderr",
     "output_type": "stream",
     "text": [
      "/opt/conda/lib/python3.7/site-packages/statsmodels/base/model.py:568: ConvergenceWarning:\n",
      "\n",
      "Maximum Likelihood optimization failed to converge. Check mle_retvals\n",
      "\n"
     ]
    },
    {
     "name": "stdout",
     "output_type": "stream",
     "text": [
      "ARIMA(2, 0, 1)x(1, 1, 1, 52)12 - rmse:0.3861352817028148\n"
     ]
    },
    {
     "name": "stderr",
     "output_type": "stream",
     "text": [
      "/opt/conda/lib/python3.7/site-packages/statsmodels/base/model.py:568: ConvergenceWarning:\n",
      "\n",
      "Maximum Likelihood optimization failed to converge. Check mle_retvals\n",
      "\n"
     ]
    },
    {
     "name": "stdout",
     "output_type": "stream",
     "text": [
      "ARIMA(2, 0, 1)x(1, 1, 2, 52)12 - rmse:0.3844652429210112\n",
      "ARIMA(2, 0, 1)x(2, 0, 0, 52)12 - rmse:0.29569025874425475\n"
     ]
    },
    {
     "name": "stderr",
     "output_type": "stream",
     "text": [
      "/opt/conda/lib/python3.7/site-packages/statsmodels/base/model.py:568: ConvergenceWarning:\n",
      "\n",
      "Maximum Likelihood optimization failed to converge. Check mle_retvals\n",
      "\n"
     ]
    },
    {
     "name": "stdout",
     "output_type": "stream",
     "text": [
      "ARIMA(2, 0, 1)x(2, 0, 1, 52)12 - rmse:0.310424747633128\n"
     ]
    },
    {
     "name": "stderr",
     "output_type": "stream",
     "text": [
      "/opt/conda/lib/python3.7/site-packages/statsmodels/base/model.py:568: ConvergenceWarning:\n",
      "\n",
      "Maximum Likelihood optimization failed to converge. Check mle_retvals\n",
      "\n"
     ]
    },
    {
     "name": "stdout",
     "output_type": "stream",
     "text": [
      "ARIMA(2, 0, 1)x(2, 0, 2, 52)12 - rmse:0.3960554482701978\n",
      "ARIMA(2, 0, 1)x(2, 1, 0, 52)12 - rmse:0.36449401512489243\n"
     ]
    },
    {
     "name": "stderr",
     "output_type": "stream",
     "text": [
      "/opt/conda/lib/python3.7/site-packages/statsmodels/base/model.py:568: ConvergenceWarning:\n",
      "\n",
      "Maximum Likelihood optimization failed to converge. Check mle_retvals\n",
      "\n"
     ]
    },
    {
     "name": "stdout",
     "output_type": "stream",
     "text": [
      "ARIMA(2, 0, 1)x(2, 1, 1, 52)12 - rmse:0.38004996412071246\n"
     ]
    },
    {
     "name": "stderr",
     "output_type": "stream",
     "text": [
      "/opt/conda/lib/python3.7/site-packages/statsmodels/base/model.py:568: ConvergenceWarning:\n",
      "\n",
      "Maximum Likelihood optimization failed to converge. Check mle_retvals\n",
      "\n"
     ]
    },
    {
     "name": "stdout",
     "output_type": "stream",
     "text": [
      "ARIMA(2, 0, 1)x(2, 1, 2, 52)12 - rmse:0.36333886411700533\n",
      "ARIMA(2, 0, 2)x(0, 0, 0, 52)12 - rmse:0.27916589189011787\n"
     ]
    },
    {
     "name": "stderr",
     "output_type": "stream",
     "text": [
      "/opt/conda/lib/python3.7/site-packages/statsmodels/base/model.py:568: ConvergenceWarning:\n",
      "\n",
      "Maximum Likelihood optimization failed to converge. Check mle_retvals\n",
      "\n"
     ]
    },
    {
     "name": "stdout",
     "output_type": "stream",
     "text": [
      "ARIMA(2, 0, 2)x(0, 0, 1, 52)12 - rmse:0.2957727977536149\n"
     ]
    },
    {
     "name": "stderr",
     "output_type": "stream",
     "text": [
      "/opt/conda/lib/python3.7/site-packages/statsmodels/base/model.py:568: ConvergenceWarning:\n",
      "\n",
      "Maximum Likelihood optimization failed to converge. Check mle_retvals\n",
      "\n"
     ]
    },
    {
     "name": "stdout",
     "output_type": "stream",
     "text": [
      "ARIMA(2, 0, 2)x(0, 0, 2, 52)12 - rmse:0.2853413713504365\n",
      "ARIMA(2, 0, 2)x(0, 1, 0, 52)12 - rmse:0.8209439803066415\n"
     ]
    },
    {
     "name": "stderr",
     "output_type": "stream",
     "text": [
      "/opt/conda/lib/python3.7/site-packages/statsmodels/base/model.py:568: ConvergenceWarning:\n",
      "\n",
      "Maximum Likelihood optimization failed to converge. Check mle_retvals\n",
      "\n"
     ]
    },
    {
     "name": "stdout",
     "output_type": "stream",
     "text": [
      "ARIMA(2, 0, 2)x(0, 1, 1, 52)12 - rmse:0.4005274915667826\n",
      "ARIMA(2, 0, 2)x(0, 1, 2, 52)12 - rmse:0.39595528460627694\n"
     ]
    },
    {
     "name": "stderr",
     "output_type": "stream",
     "text": [
      "/opt/conda/lib/python3.7/site-packages/statsmodels/base/model.py:568: ConvergenceWarning:\n",
      "\n",
      "Maximum Likelihood optimization failed to converge. Check mle_retvals\n",
      "\n"
     ]
    },
    {
     "name": "stdout",
     "output_type": "stream",
     "text": [
      "ARIMA(2, 0, 2)x(1, 0, 0, 52)12 - rmse:0.281686677817353\n"
     ]
    },
    {
     "name": "stderr",
     "output_type": "stream",
     "text": [
      "/opt/conda/lib/python3.7/site-packages/statsmodels/base/model.py:568: ConvergenceWarning:\n",
      "\n",
      "Maximum Likelihood optimization failed to converge. Check mle_retvals\n",
      "\n"
     ]
    },
    {
     "name": "stdout",
     "output_type": "stream",
     "text": [
      "ARIMA(2, 0, 2)x(1, 0, 1, 52)12 - rmse:0.283718573925251\n"
     ]
    },
    {
     "name": "stderr",
     "output_type": "stream",
     "text": [
      "/opt/conda/lib/python3.7/site-packages/statsmodels/base/model.py:568: ConvergenceWarning:\n",
      "\n",
      "Maximum Likelihood optimization failed to converge. Check mle_retvals\n",
      "\n"
     ]
    },
    {
     "name": "stdout",
     "output_type": "stream",
     "text": [
      "ARIMA(2, 0, 2)x(1, 0, 2, 52)12 - rmse:0.3587612981136189\n",
      "ARIMA(2, 0, 2)x(1, 1, 0, 52)12 - rmse:0.42081538951344694\n"
     ]
    },
    {
     "name": "stderr",
     "output_type": "stream",
     "text": [
      "/opt/conda/lib/python3.7/site-packages/statsmodels/base/model.py:568: ConvergenceWarning:\n",
      "\n",
      "Maximum Likelihood optimization failed to converge. Check mle_retvals\n",
      "\n"
     ]
    },
    {
     "name": "stdout",
     "output_type": "stream",
     "text": [
      "ARIMA(2, 0, 2)x(1, 1, 1, 52)12 - rmse:0.4455817932891067\n"
     ]
    },
    {
     "name": "stderr",
     "output_type": "stream",
     "text": [
      "/opt/conda/lib/python3.7/site-packages/statsmodels/base/model.py:568: ConvergenceWarning:\n",
      "\n",
      "Maximum Likelihood optimization failed to converge. Check mle_retvals\n",
      "\n"
     ]
    },
    {
     "name": "stdout",
     "output_type": "stream",
     "text": [
      "ARIMA(2, 0, 2)x(1, 1, 2, 52)12 - rmse:0.38207283250546287\n",
      "ARIMA(2, 0, 2)x(2, 0, 0, 52)12 - rmse:0.2792352301312274\n"
     ]
    },
    {
     "name": "stderr",
     "output_type": "stream",
     "text": [
      "/opt/conda/lib/python3.7/site-packages/statsmodels/base/model.py:568: ConvergenceWarning:\n",
      "\n",
      "Maximum Likelihood optimization failed to converge. Check mle_retvals\n",
      "\n"
     ]
    },
    {
     "name": "stdout",
     "output_type": "stream",
     "text": [
      "ARIMA(2, 0, 2)x(2, 0, 1, 52)12 - rmse:0.2957839780776181\n"
     ]
    },
    {
     "name": "stderr",
     "output_type": "stream",
     "text": [
      "/opt/conda/lib/python3.7/site-packages/statsmodels/base/model.py:568: ConvergenceWarning:\n",
      "\n",
      "Maximum Likelihood optimization failed to converge. Check mle_retvals\n",
      "\n"
     ]
    },
    {
     "name": "stdout",
     "output_type": "stream",
     "text": [
      "ARIMA(2, 0, 2)x(2, 0, 2, 52)12 - rmse:0.3742740399510948\n",
      "ARIMA(2, 0, 2)x(2, 1, 0, 52)12 - rmse:0.35965240416856176\n"
     ]
    },
    {
     "name": "stderr",
     "output_type": "stream",
     "text": [
      "/opt/conda/lib/python3.7/site-packages/statsmodels/base/model.py:568: ConvergenceWarning:\n",
      "\n",
      "Maximum Likelihood optimization failed to converge. Check mle_retvals\n",
      "\n"
     ]
    },
    {
     "name": "stdout",
     "output_type": "stream",
     "text": [
      "ARIMA(2, 0, 2)x(2, 1, 1, 52)12 - rmse:0.37169321543218825\n"
     ]
    },
    {
     "name": "stderr",
     "output_type": "stream",
     "text": [
      "/opt/conda/lib/python3.7/site-packages/statsmodels/base/model.py:568: ConvergenceWarning:\n",
      "\n",
      "Maximum Likelihood optimization failed to converge. Check mle_retvals\n",
      "\n"
     ]
    },
    {
     "name": "stdout",
     "output_type": "stream",
     "text": [
      "ARIMA(2, 0, 2)x(2, 1, 2, 52)12 - rmse:0.3605034808654599\n",
      "ARIMA(2, 1, 0)x(0, 0, 0, 52)12 - rmse:0.279218122392653\n",
      "ARIMA(2, 1, 0)x(0, 0, 1, 52)12 - rmse:0.2775541647812587\n"
     ]
    },
    {
     "name": "stderr",
     "output_type": "stream",
     "text": [
      "/opt/conda/lib/python3.7/site-packages/statsmodels/base/model.py:568: ConvergenceWarning:\n",
      "\n",
      "Maximum Likelihood optimization failed to converge. Check mle_retvals\n",
      "\n"
     ]
    },
    {
     "name": "stdout",
     "output_type": "stream",
     "text": [
      "ARIMA(2, 1, 0)x(0, 0, 2, 52)12 - rmse:0.28143496664305073\n",
      "ARIMA(2, 1, 0)x(0, 1, 0, 52)12 - rmse:0.3386196568653864\n",
      "ARIMA(2, 1, 0)x(0, 1, 1, 52)12 - rmse:0.3360831193495172\n",
      "ARIMA(2, 1, 0)x(0, 1, 2, 52)12 - rmse:0.3343960942003053\n",
      "ARIMA(2, 1, 0)x(1, 0, 0, 52)12 - rmse:0.27759934604533837\n",
      "ARIMA(2, 1, 0)x(1, 0, 1, 52)12 - rmse:0.27758540709703367\n"
     ]
    },
    {
     "name": "stderr",
     "output_type": "stream",
     "text": [
      "/opt/conda/lib/python3.7/site-packages/statsmodels/base/model.py:568: ConvergenceWarning:\n",
      "\n",
      "Maximum Likelihood optimization failed to converge. Check mle_retvals\n",
      "\n"
     ]
    },
    {
     "name": "stdout",
     "output_type": "stream",
     "text": [
      "ARIMA(2, 1, 0)x(1, 0, 2, 52)12 - rmse:0.28062382986149775\n",
      "ARIMA(2, 1, 0)x(1, 1, 0, 52)12 - rmse:0.32122834470407735\n",
      "ARIMA(2, 1, 0)x(1, 1, 1, 52)12 - rmse:0.32639559883516417\n",
      "ARIMA(2, 1, 0)x(1, 1, 2, 52)12 - rmse:0.32666267986566766\n",
      "ARIMA(2, 1, 0)x(2, 0, 0, 52)12 - rmse:0.2779236540326473\n",
      "ARIMA(2, 1, 0)x(2, 0, 1, 52)12 - rmse:0.27796573922758194\n"
     ]
    },
    {
     "name": "stderr",
     "output_type": "stream",
     "text": [
      "/opt/conda/lib/python3.7/site-packages/statsmodels/base/model.py:568: ConvergenceWarning:\n",
      "\n",
      "Maximum Likelihood optimization failed to converge. Check mle_retvals\n",
      "\n"
     ]
    },
    {
     "name": "stdout",
     "output_type": "stream",
     "text": [
      "ARIMA(2, 1, 0)x(2, 0, 2, 52)12 - rmse:0.28245313274117484\n",
      "ARIMA(2, 1, 0)x(2, 1, 0, 52)12 - rmse:0.31626549451433456\n",
      "ARIMA(2, 1, 0)x(2, 1, 1, 52)12 - rmse:0.318199097332254\n",
      "ARIMA(2, 1, 0)x(2, 1, 2, 52)12 - rmse:0.3161197296793851\n",
      "ARIMA(2, 1, 1)x(0, 0, 0, 52)12 - rmse:0.28370036599559656\n",
      "ARIMA(2, 1, 1)x(0, 0, 1, 52)12 - rmse:0.29028466535829633\n"
     ]
    },
    {
     "name": "stderr",
     "output_type": "stream",
     "text": [
      "/opt/conda/lib/python3.7/site-packages/statsmodels/base/model.py:568: ConvergenceWarning:\n",
      "\n",
      "Maximum Likelihood optimization failed to converge. Check mle_retvals\n",
      "\n"
     ]
    },
    {
     "name": "stdout",
     "output_type": "stream",
     "text": [
      "ARIMA(2, 1, 1)x(0, 0, 2, 52)12 - rmse:2389535.5616533975\n",
      "ARIMA(2, 1, 1)x(0, 1, 0, 52)12 - rmse:0.33796627554535835\n",
      "ARIMA(2, 1, 1)x(0, 1, 1, 52)12 - rmse:0.33297042395126597\n",
      "ARIMA(2, 1, 1)x(0, 1, 2, 52)12 - rmse:0.33707505172184454\n",
      "ARIMA(2, 1, 1)x(1, 0, 0, 52)12 - rmse:0.29036333757241456\n",
      "ARIMA(2, 1, 1)x(1, 0, 1, 52)12 - rmse:0.2902863013931363\n"
     ]
    },
    {
     "name": "stderr",
     "output_type": "stream",
     "text": [
      "/opt/conda/lib/python3.7/site-packages/statsmodels/base/model.py:568: ConvergenceWarning:\n",
      "\n",
      "Maximum Likelihood optimization failed to converge. Check mle_retvals\n",
      "\n"
     ]
    },
    {
     "name": "stdout",
     "output_type": "stream",
     "text": [
      "ARIMA(2, 1, 1)x(1, 0, 2, 52)12 - rmse:655700.4288879981\n",
      "ARIMA(2, 1, 1)x(1, 1, 0, 52)12 - rmse:0.33255899058661686\n",
      "ARIMA(2, 1, 1)x(1, 1, 1, 52)12 - rmse:0.32447244930238084\n",
      "ARIMA(2, 1, 1)x(1, 1, 2, 52)12 - rmse:0.32675492795356037\n",
      "ARIMA(2, 1, 1)x(2, 0, 0, 52)12 - rmse:0.29191107174925107\n",
      "ARIMA(2, 1, 1)x(2, 0, 1, 52)12 - rmse:0.29197562151025136\n"
     ]
    },
    {
     "name": "stderr",
     "output_type": "stream",
     "text": [
      "/opt/conda/lib/python3.7/site-packages/statsmodels/base/model.py:568: ConvergenceWarning:\n",
      "\n",
      "Maximum Likelihood optimization failed to converge. Check mle_retvals\n",
      "\n"
     ]
    },
    {
     "name": "stdout",
     "output_type": "stream",
     "text": [
      "ARIMA(2, 1, 1)x(2, 0, 2, 52)12 - rmse:3379439.5427301917\n",
      "ARIMA(2, 1, 1)x(2, 1, 0, 52)12 - rmse:0.3336387996096808\n"
     ]
    },
    {
     "name": "stderr",
     "output_type": "stream",
     "text": [
      "/opt/conda/lib/python3.7/site-packages/statsmodels/base/model.py:568: ConvergenceWarning:\n",
      "\n",
      "Maximum Likelihood optimization failed to converge. Check mle_retvals\n",
      "\n"
     ]
    },
    {
     "name": "stdout",
     "output_type": "stream",
     "text": [
      "ARIMA(2, 1, 1)x(2, 1, 1, 52)12 - rmse:0.31732781194578247\n"
     ]
    },
    {
     "name": "stderr",
     "output_type": "stream",
     "text": [
      "/opt/conda/lib/python3.7/site-packages/statsmodels/base/model.py:568: ConvergenceWarning:\n",
      "\n",
      "Maximum Likelihood optimization failed to converge. Check mle_retvals\n",
      "\n"
     ]
    },
    {
     "name": "stdout",
     "output_type": "stream",
     "text": [
      "ARIMA(2, 1, 1)x(2, 1, 2, 52)12 - rmse:0.31540324453896107\n",
      "ARIMA(2, 1, 2)x(0, 0, 0, 52)12 - rmse:0.2822734845468519\n"
     ]
    },
    {
     "name": "stderr",
     "output_type": "stream",
     "text": [
      "/opt/conda/lib/python3.7/site-packages/statsmodels/base/model.py:568: ConvergenceWarning:\n",
      "\n",
      "Maximum Likelihood optimization failed to converge. Check mle_retvals\n",
      "\n"
     ]
    },
    {
     "name": "stdout",
     "output_type": "stream",
     "text": [
      "ARIMA(2, 1, 2)x(0, 0, 1, 52)12 - rmse:0.3154804016189357\n",
      "ARIMA(2, 1, 2)x(0, 0, 2, 52)12 - rmse:0.2821081479431996\n",
      "ARIMA(2, 1, 2)x(0, 1, 0, 52)12 - rmse:0.34168899093947996\n",
      "ARIMA(2, 1, 2)x(0, 1, 1, 52)12 - rmse:0.3533937258087052\n"
     ]
    },
    {
     "name": "stderr",
     "output_type": "stream",
     "text": [
      "/opt/conda/lib/python3.7/site-packages/statsmodels/base/model.py:568: ConvergenceWarning:\n",
      "\n",
      "Maximum Likelihood optimization failed to converge. Check mle_retvals\n",
      "\n"
     ]
    },
    {
     "name": "stdout",
     "output_type": "stream",
     "text": [
      "ARIMA(2, 1, 2)x(0, 1, 2, 52)12 - rmse:0.36711842513434984\n",
      "ARIMA(2, 1, 2)x(1, 0, 0, 52)12 - rmse:0.27985237545664393\n"
     ]
    },
    {
     "name": "stderr",
     "output_type": "stream",
     "text": [
      "/opt/conda/lib/python3.7/site-packages/statsmodels/base/model.py:568: ConvergenceWarning:\n",
      "\n",
      "Maximum Likelihood optimization failed to converge. Check mle_retvals\n",
      "\n"
     ]
    },
    {
     "name": "stdout",
     "output_type": "stream",
     "text": [
      "ARIMA(2, 1, 2)x(1, 0, 1, 52)12 - rmse:0.3031361176444089\n"
     ]
    },
    {
     "name": "stderr",
     "output_type": "stream",
     "text": [
      "/opt/conda/lib/python3.7/site-packages/statsmodels/base/model.py:568: ConvergenceWarning:\n",
      "\n",
      "Maximum Likelihood optimization failed to converge. Check mle_retvals\n",
      "\n"
     ]
    },
    {
     "name": "stdout",
     "output_type": "stream",
     "text": [
      "ARIMA(2, 1, 2)x(1, 0, 2, 52)12 - rmse:0.28265191147699537\n",
      "ARIMA(2, 1, 2)x(1, 1, 0, 52)12 - rmse:0.3461106243070201\n",
      "ARIMA(2, 1, 2)x(1, 1, 1, 52)12 - rmse:0.3507921375528162\n",
      "ARIMA(2, 1, 2)x(1, 1, 2, 52)12 - rmse:0.3567537295516033\n",
      "ARIMA(2, 1, 2)x(2, 0, 0, 52)12 - rmse:0.28416001520526424\n"
     ]
    },
    {
     "name": "stderr",
     "output_type": "stream",
     "text": [
      "/opt/conda/lib/python3.7/site-packages/statsmodels/base/model.py:568: ConvergenceWarning:\n",
      "\n",
      "Maximum Likelihood optimization failed to converge. Check mle_retvals\n",
      "\n"
     ]
    },
    {
     "name": "stdout",
     "output_type": "stream",
     "text": [
      "ARIMA(2, 1, 2)x(2, 0, 1, 52)12 - rmse:0.28037301651264435\n",
      "ARIMA(2, 1, 2)x(2, 0, 2, 52)12 - rmse:0.2854996319505196\n",
      "ARIMA(2, 1, 2)x(2, 1, 0, 52)12 - rmse:0.35692353873134985\n",
      "ARIMA(2, 1, 2)x(2, 1, 1, 52)12 - rmse:0.3548778302009079\n"
     ]
    },
    {
     "name": "stderr",
     "output_type": "stream",
     "text": [
      "/opt/conda/lib/python3.7/site-packages/statsmodels/base/model.py:568: ConvergenceWarning:\n",
      "\n",
      "Maximum Likelihood optimization failed to converge. Check mle_retvals\n",
      "\n"
     ]
    },
    {
     "name": "stdout",
     "output_type": "stream",
     "text": [
      "ARIMA(2, 1, 2)x(2, 1, 2, 52)12 - rmse:0.36377896111844804\n"
     ]
    }
   ],
   "source": [
    "pdq_params = pdq_hyperparam_search(btc_week_log_train, 52, max_p=2, max_d=1, max_q=2)"
   ]
  },
  {
   "cell_type": "code",
   "execution_count": 171,
   "metadata": {},
   "outputs": [
    {
     "data": {
      "text/html": [
       "<div>\n",
       "<style scoped>\n",
       "    .dataframe tbody tr th:only-of-type {\n",
       "        vertical-align: middle;\n",
       "    }\n",
       "\n",
       "    .dataframe tbody tr th {\n",
       "        vertical-align: top;\n",
       "    }\n",
       "\n",
       "    .dataframe thead th {\n",
       "        text-align: right;\n",
       "    }\n",
       "</style>\n",
       "<table border=\"1\" class=\"dataframe\">\n",
       "  <thead>\n",
       "    <tr style=\"text-align: right;\">\n",
       "      <th></th>\n",
       "      <th>PDQ</th>\n",
       "      <th>S-PDQ</th>\n",
       "      <th>Error</th>\n",
       "    </tr>\n",
       "  </thead>\n",
       "  <tbody>\n",
       "    <tr>\n",
       "      <th>0</th>\n",
       "      <td>(1, 0, 2)</td>\n",
       "      <td>(0, 0, 0, 52)</td>\n",
       "      <td>2.738853e-01</td>\n",
       "    </tr>\n",
       "    <tr>\n",
       "      <th>1</th>\n",
       "      <td>(0, 1, 2)</td>\n",
       "      <td>(0, 0, 0, 52)</td>\n",
       "      <td>2.739559e-01</td>\n",
       "    </tr>\n",
       "    <tr>\n",
       "      <th>2</th>\n",
       "      <td>(1, 0, 1)</td>\n",
       "      <td>(0, 0, 0, 52)</td>\n",
       "      <td>2.742747e-01</td>\n",
       "    </tr>\n",
       "    <tr>\n",
       "      <th>3</th>\n",
       "      <td>(0, 1, 1)</td>\n",
       "      <td>(0, 0, 0, 52)</td>\n",
       "      <td>2.743796e-01</td>\n",
       "    </tr>\n",
       "    <tr>\n",
       "      <th>4</th>\n",
       "      <td>(0, 1, 2)</td>\n",
       "      <td>(0, 0, 1, 52)</td>\n",
       "      <td>2.753638e-01</td>\n",
       "    </tr>\n",
       "    <tr>\n",
       "      <th>...</th>\n",
       "      <td>...</td>\n",
       "      <td>...</td>\n",
       "      <td>...</td>\n",
       "    </tr>\n",
       "    <tr>\n",
       "      <th>319</th>\n",
       "      <td>(0, 0, 1)</td>\n",
       "      <td>(2, 0, 2, 52)</td>\n",
       "      <td>2.459950e+08</td>\n",
       "    </tr>\n",
       "    <tr>\n",
       "      <th>320</th>\n",
       "      <td>(0, 0, 1)</td>\n",
       "      <td>(0, 0, 2, 52)</td>\n",
       "      <td>1.084632e+09</td>\n",
       "    </tr>\n",
       "    <tr>\n",
       "      <th>321</th>\n",
       "      <td>(0, 0, 2)</td>\n",
       "      <td>(2, 0, 2, 52)</td>\n",
       "      <td>1.234379e+09</td>\n",
       "    </tr>\n",
       "    <tr>\n",
       "      <th>322</th>\n",
       "      <td>(0, 0, 2)</td>\n",
       "      <td>(1, 0, 2, 52)</td>\n",
       "      <td>2.912789e+09</td>\n",
       "    </tr>\n",
       "    <tr>\n",
       "      <th>323</th>\n",
       "      <td>(0, 0, 2)</td>\n",
       "      <td>(0, 0, 2, 52)</td>\n",
       "      <td>1.213457e+12</td>\n",
       "    </tr>\n",
       "  </tbody>\n",
       "</table>\n",
       "<p>324 rows × 3 columns</p>\n",
       "</div>"
      ],
      "text/plain": [
       "           PDQ          S-PDQ         Error\n",
       "0    (1, 0, 2)  (0, 0, 0, 52)  2.738853e-01\n",
       "1    (0, 1, 2)  (0, 0, 0, 52)  2.739559e-01\n",
       "2    (1, 0, 1)  (0, 0, 0, 52)  2.742747e-01\n",
       "3    (0, 1, 1)  (0, 0, 0, 52)  2.743796e-01\n",
       "4    (0, 1, 2)  (0, 0, 1, 52)  2.753638e-01\n",
       "..         ...            ...           ...\n",
       "319  (0, 0, 1)  (2, 0, 2, 52)  2.459950e+08\n",
       "320  (0, 0, 1)  (0, 0, 2, 52)  1.084632e+09\n",
       "321  (0, 0, 2)  (2, 0, 2, 52)  1.234379e+09\n",
       "322  (0, 0, 2)  (1, 0, 2, 52)  2.912789e+09\n",
       "323  (0, 0, 2)  (0, 0, 2, 52)  1.213457e+12\n",
       "\n",
       "[324 rows x 3 columns]"
      ]
     },
     "execution_count": 171,
     "metadata": {},
     "output_type": "execute_result"
    }
   ],
   "source": [
    "pdq_params"
   ]
  },
  {
   "cell_type": "code",
   "execution_count": 172,
   "metadata": {
    "collapsed": true,
    "jupyter": {
     "outputs_hidden": true
    }
   },
   "outputs": [
    {
     "name": "stderr",
     "output_type": "stream",
     "text": [
      "/opt/conda/lib/python3.7/site-packages/statsmodels/tsa/base/tsa_model.py:162: ValueWarning:\n",
      "\n",
      "No frequency information was provided, so inferred frequency D will be used.\n",
      "\n",
      "/opt/conda/lib/python3.7/site-packages/statsmodels/tsa/base/tsa_model.py:162: ValueWarning:\n",
      "\n",
      "No frequency information was provided, so inferred frequency D will be used.\n",
      "\n"
     ]
    },
    {
     "name": "stdout",
     "output_type": "stream",
     "text": [
      "ARIMA(1, 0, 2)x[0, 0, 0, 365]12 - rmse:0.10673741409187877\n",
      "ARIMA(0, 1, 2)x[0, 0, 0, 365]12 - rmse:0.1067480421324613\n"
     ]
    },
    {
     "name": "stderr",
     "output_type": "stream",
     "text": [
      "/opt/conda/lib/python3.7/site-packages/statsmodels/tsa/base/tsa_model.py:162: ValueWarning:\n",
      "\n",
      "No frequency information was provided, so inferred frequency D will be used.\n",
      "\n",
      "/opt/conda/lib/python3.7/site-packages/statsmodels/tsa/base/tsa_model.py:162: ValueWarning:\n",
      "\n",
      "No frequency information was provided, so inferred frequency D will be used.\n",
      "\n"
     ]
    }
   ],
   "source": [
    "pdq_full_params = pdq_hyperparam_df_search(btc_log_train, pdq_params=pdq_params, new_period=365, n_combs=2)"
   ]
  },
  {
   "cell_type": "code",
   "execution_count": 87,
   "metadata": {
    "collapsed": true,
    "jupyter": {
     "outputs_hidden": true
    }
   },
   "outputs": [
    {
     "name": "stderr",
     "output_type": "stream",
     "text": [
      "/opt/conda/lib/python3.7/site-packages/statsmodels/tsa/base/tsa_model.py:162: ValueWarning: No frequency information was provided, so inferred frequency D will be used.\n",
      "  % freq, ValueWarning)\n",
      "/opt/conda/lib/python3.7/site-packages/statsmodels/tsa/base/tsa_model.py:162: ValueWarning: No frequency information was provided, so inferred frequency D will be used.\n",
      "  % freq, ValueWarning)\n",
      "/opt/conda/lib/python3.7/site-packages/statsmodels/tsa/base/tsa_model.py:162: ValueWarning: No frequency information was provided, so inferred frequency D will be used.\n",
      "  % freq, ValueWarning)\n",
      "/opt/conda/lib/python3.7/site-packages/statsmodels/tsa/base/tsa_model.py:162: ValueWarning: No frequency information was provided, so inferred frequency D will be used.\n",
      "  % freq, ValueWarning)\n",
      "/opt/conda/lib/python3.7/site-packages/statsmodels/tsa/base/tsa_model.py:162: ValueWarning: No frequency information was provided, so inferred frequency D will be used.\n",
      "  % freq, ValueWarning)\n",
      "/opt/conda/lib/python3.7/site-packages/statsmodels/tsa/base/tsa_model.py:162: ValueWarning: No frequency information was provided, so inferred frequency D will be used.\n",
      "  % freq, ValueWarning)\n"
     ]
    },
    {
     "name": "stdout",
     "output_type": "stream",
     "text": [
      "ARIMA(1, 0, 1)x[0, 0, 0, 365]12 - rmse:0.1067386186312902\n",
      "ARIMA(0, 1, 1)x[0, 0, 0, 365]12 - rmse:0.10674894217338904\n",
      "ARIMA(0, 1, 1)x[0, 0, 1, 365]12 - rmse:0.10674734912692616\n"
     ]
    },
    {
     "name": "stderr",
     "output_type": "stream",
     "text": [
      "/opt/conda/lib/python3.7/site-packages/statsmodels/tsa/base/tsa_model.py:162: ValueWarning: No frequency information was provided, so inferred frequency D will be used.\n",
      "  % freq, ValueWarning)\n",
      "/opt/conda/lib/python3.7/site-packages/statsmodels/tsa/base/tsa_model.py:162: ValueWarning: No frequency information was provided, so inferred frequency D will be used.\n",
      "  % freq, ValueWarning)\n"
     ]
    },
    {
     "name": "stdout",
     "output_type": "stream",
     "text": [
      "ARIMA(0, 1, 1)x[1, 0, 1, 365]12 - rmse:0.10674797461700665\n"
     ]
    },
    {
     "name": "stderr",
     "output_type": "stream",
     "text": [
      "/opt/conda/lib/python3.7/site-packages/statsmodels/tsa/base/tsa_model.py:162: ValueWarning: No frequency information was provided, so inferred frequency D will be used.\n",
      "  % freq, ValueWarning)\n",
      "/opt/conda/lib/python3.7/site-packages/statsmodels/tsa/base/tsa_model.py:162: ValueWarning: No frequency information was provided, so inferred frequency D will be used.\n",
      "  % freq, ValueWarning)\n"
     ]
    },
    {
     "name": "stdout",
     "output_type": "stream",
     "text": [
      "ARIMA(1, 0, 1)x[1, 0, 0, 365]12 - rmse:0.10674618602604598\n"
     ]
    }
   ],
   "source": [
    "pdq_full_params = pdq_hyperparam_df_search(btc_log_train, pdq_params=pdq_params, new_period=365)"
   ]
  },
  {
   "cell_type": "code",
   "execution_count": 11,
   "metadata": {},
   "outputs": [
    {
     "name": "stderr",
     "output_type": "stream",
     "text": [
      "/opt/conda/lib/python3.7/site-packages/statsmodels/tsa/base/tsa_model.py:162: ValueWarning: No frequency information was provided, so inferred frequency D will be used.\n",
      "  % freq, ValueWarning)\n",
      "/opt/conda/lib/python3.7/site-packages/statsmodels/tsa/base/tsa_model.py:162: ValueWarning: No frequency information was provided, so inferred frequency D will be used.\n",
      "  % freq, ValueWarning)\n"
     ]
    },
    {
     "name": "stdout",
     "output_type": "stream",
     "text": [
      "==============================================================================\n",
      "                 coef    std err          z      P>|z|      [0.025      0.975]\n",
      "------------------------------------------------------------------------------\n",
      "ar.L1         -0.0195      0.010     -1.877      0.060      -0.040       0.001\n",
      "ma.S.L52       0.0164      0.020      0.825      0.409      -0.023       0.055\n",
      "sigma2         0.0019   2.01e-05     93.571      0.000       0.002       0.002\n",
      "==============================================================================\n"
     ]
    }
   ],
   "source": [
    "mod = sm.tsa.statespace.SARIMAX(btc_log,\n",
    "                                order=(1, 1, 0),\n",
    "                                seasonal_order=(0, 0, 1, 52),\n",
    "                                enforce_stationarity=False,\n",
    "                                enforce_invertibility=False)\n",
    "results = mod.fit()\n",
    "print(results.summary().tables[1])"
   ]
  },
  {
   "cell_type": "code",
   "execution_count": 116,
   "metadata": {},
   "outputs": [
    {
     "data": {
      "text/plain": [
       "2020-03-08    9.067427\n",
       "2020-03-15    9.058555\n",
       "2020-03-22    9.054232\n",
       "2020-03-29    9.053950\n",
       "2020-04-05    9.040876\n",
       "2020-04-12    9.036402\n",
       "2020-04-19    9.034709\n",
       "2020-04-26    9.032962\n",
       "2020-05-03    9.030133\n",
       "Freq: W-SUN, dtype: float64"
      ]
     },
     "execution_count": 116,
     "metadata": {},
     "output_type": "execute_result"
    }
   ],
   "source": [
    "results.get_prediction(start=btc_log_test.index[0], end=btc_log_test.index[-1], dynamic=False).predicted_mean"
   ]
  },
  {
   "cell_type": "code",
   "execution_count": 150,
   "metadata": {},
   "outputs": [],
   "source": []
  },
  {
   "cell_type": "code",
   "execution_count": 151,
   "metadata": {},
   "outputs": [
    {
     "data": {
      "image/png": "[encoded data removed]",
      "text/plain": [
       "<Figure size 1008x504 with 1 Axes>"
      ]
     },
     "metadata": {
      "needs_background": "light"
     },
     "output_type": "display_data"
    },
    {
     "name": "stdout",
     "output_type": "stream",
     "text": [
      "Mean Squared Error - 200856.87642754772\n",
      "Root Mean Squared Error - 448.1705885347093\n"
     ]
    }
   ],
   "source": [
    "plot_sarimax_one_step(results, btc_log, \"2020-02-15\", date_trim=\"2020\", inv_func=np.exp)"
   ]
  },
  {
   "cell_type": "code",
   "execution_count": 35,
   "metadata": {},
   "outputs": [],
   "source": [
    "btc_log_train, btc_log_test = btc_log[:\"2020-03-02\"], btc_log[\"2020-03-03\":]"
   ]
  },
  {
   "cell_type": "code",
   "execution_count": 31,
   "metadata": {},
   "outputs": [
    {
     "data": {
      "text/html": [
       "<div>\n",
       "<style scoped>\n",
       "    .dataframe tbody tr th:only-of-type {\n",
       "        vertical-align: middle;\n",
       "    }\n",
       "\n",
       "    .dataframe tbody tr th {\n",
       "        vertical-align: top;\n",
       "    }\n",
       "\n",
       "    .dataframe thead th {\n",
       "        text-align: right;\n",
       "    }\n",
       "</style>\n",
       "<table border=\"1\" class=\"dataframe\">\n",
       "  <thead>\n",
       "    <tr style=\"text-align: right;\">\n",
       "      <th></th>\n",
       "      <th>ARIMA</th>\n",
       "      <th>Season</th>\n",
       "      <th>Error</th>\n",
       "    </tr>\n",
       "  </thead>\n",
       "  <tbody>\n",
       "    <tr>\n",
       "      <th>0</th>\n",
       "      <td>(1, 0, 1)</td>\n",
       "      <td>(0, 0, 0, 52)</td>\n",
       "      <td>0.271632</td>\n",
       "    </tr>\n",
       "    <tr>\n",
       "      <th>1</th>\n",
       "      <td>(0, 1, 1)</td>\n",
       "      <td>(0, 0, 0, 52)</td>\n",
       "      <td>0.271732</td>\n",
       "    </tr>\n",
       "    <tr>\n",
       "      <th>2</th>\n",
       "      <td>(0, 1, 1)</td>\n",
       "      <td>(0, 0, 1, 52)</td>\n",
       "      <td>0.272840</td>\n",
       "    </tr>\n",
       "    <tr>\n",
       "      <th>3</th>\n",
       "      <td>(0, 1, 1)</td>\n",
       "      <td>(1, 0, 1, 52)</td>\n",
       "      <td>0.272845</td>\n",
       "    </tr>\n",
       "    <tr>\n",
       "      <th>4</th>\n",
       "      <td>(0, 1, 1)</td>\n",
       "      <td>(1, 0, 0, 52)</td>\n",
       "      <td>0.272867</td>\n",
       "    </tr>\n",
       "    <tr>\n",
       "      <th>...</th>\n",
       "      <td>...</td>\n",
       "      <td>...</td>\n",
       "      <td>...</td>\n",
       "    </tr>\n",
       "    <tr>\n",
       "      <th>59</th>\n",
       "      <td>(0, 0, 0)</td>\n",
       "      <td>(1, 1, 1, 52)</td>\n",
       "      <td>2.391090</td>\n",
       "    </tr>\n",
       "    <tr>\n",
       "      <th>60</th>\n",
       "      <td>(0, 0, 1)</td>\n",
       "      <td>(0, 0, 0, 52)</td>\n",
       "      <td>3.706587</td>\n",
       "    </tr>\n",
       "    <tr>\n",
       "      <th>61</th>\n",
       "      <td>(0, 0, 1)</td>\n",
       "      <td>(0, 0, 1, 52)</td>\n",
       "      <td>4.162421</td>\n",
       "    </tr>\n",
       "    <tr>\n",
       "      <th>62</th>\n",
       "      <td>(0, 0, 0)</td>\n",
       "      <td>(0, 0, 1, 52)</td>\n",
       "      <td>4.978828</td>\n",
       "    </tr>\n",
       "    <tr>\n",
       "      <th>63</th>\n",
       "      <td>(0, 0, 0)</td>\n",
       "      <td>(0, 0, 0, 52)</td>\n",
       "      <td>7.320134</td>\n",
       "    </tr>\n",
       "  </tbody>\n",
       "</table>\n",
       "<p>64 rows × 3 columns</p>\n",
       "</div>"
      ],
      "text/plain": [
       "        ARIMA         Season     Error\n",
       "0   (1, 0, 1)  (0, 0, 0, 52)  0.271632\n",
       "1   (0, 1, 1)  (0, 0, 0, 52)  0.271732\n",
       "2   (0, 1, 1)  (0, 0, 1, 52)  0.272840\n",
       "3   (0, 1, 1)  (1, 0, 1, 52)  0.272845\n",
       "4   (0, 1, 1)  (1, 0, 0, 52)  0.272867\n",
       "..        ...            ...       ...\n",
       "59  (0, 0, 0)  (1, 1, 1, 52)  2.391090\n",
       "60  (0, 0, 1)  (0, 0, 0, 52)  3.706587\n",
       "61  (0, 0, 1)  (0, 0, 1, 52)  4.162421\n",
       "62  (0, 0, 0)  (0, 0, 1, 52)  4.978828\n",
       "63  (0, 0, 0)  (0, 0, 0, 52)  7.320134\n",
       "\n",
       "[64 rows x 3 columns]"
      ]
     },
     "execution_count": 31,
     "metadata": {},
     "output_type": "execute_result"
    }
   ],
   "source": [
    "pd.DataFrame(all_results, columns = [\"ARIMA\", \"Season\", \"Error\"]).sort_values(\"Error\", ascending=True).reset_index(drop=True)"
   ]
  },
  {
   "cell_type": "code",
   "execution_count": 86,
   "metadata": {},
   "outputs": [
    {
     "name": "stdout",
     "output_type": "stream",
     "text": [
      "==============================================================================\n",
      "                 coef    std err          z      P>|z|      [0.025      0.975]\n",
      "------------------------------------------------------------------------------\n",
      "sigma2         0.0018    2.3e-05     78.112      0.000       0.002       0.002\n",
      "==============================================================================\n"
     ]
    },
    {
     "name": "stderr",
     "output_type": "stream",
     "text": [
      "/opt/conda/lib/python3.7/site-packages/statsmodels/tsa/base/tsa_model.py:162: ValueWarning: No frequency information was provided, so inferred frequency D will be used.\n",
      "  % freq, ValueWarning)\n",
      "/opt/conda/lib/python3.7/site-packages/statsmodels/tsa/base/tsa_model.py:162: ValueWarning: No frequency information was provided, so inferred frequency D will be used.\n",
      "  % freq, ValueWarning)\n"
     ]
    }
   ],
   "source": [
    "mod = sm.tsa.statespace.SARIMAX(btc_log_train,\n",
    "                                order=(0, 1, 0),\n",
    "                                seasonal_order=(0, 0, 0, 52),\n",
    "                                enforce_stationarity=False,\n",
    "                                enforce_invertibility=False)\n",
    "results = mod.fit()\n",
    "print(results.summary().tables[1])"
   ]
  },
  {
   "cell_type": "code",
   "execution_count": 43,
   "metadata": {},
   "outputs": [
    {
     "data": {
      "text/plain": [
       "(61,)"
      ]
     },
     "execution_count": 43,
     "metadata": {},
     "output_type": "execute_result"
    }
   ],
   "source": [
    "btc_log_test"
   ]
  },
  {
   "cell_type": "code",
   "execution_count": 87,
   "metadata": {},
   "outputs": [
    {
     "data": {
      "image/png": "[encoded data removed]",
      "text/plain": [
       "<Figure size 1008x504 with 1 Axes>"
      ]
     },
     "metadata": {
      "needs_background": "light"
     },
     "output_type": "display_data"
    }
   ],
   "source": [
    "pred = results.get_prediction(start=pd.to_datetime('2020-03-03'), end=pd.to_datetime('2020-05-02'), dynamic=False)\n",
    "pred_ci = pred.conf_int()\n",
    "ax = btc_log[\"2020\":].plot(label='observed')\n",
    "pred.predicted_mean.plot(ax=ax, label='One-step ahead Forecast', alpha=.7, figsize=(14, 7))\n",
    "ax.fill_between(pred_ci.index,\n",
    "                pred_ci.iloc[:, 0],\n",
    "                pred_ci.iloc[:, 1], color='k', alpha=.2)\n",
    "ax.set_xlabel('Date')\n",
    "ax.set_ylabel('bitcoin')\n",
    "plt.legend()\n",
    "plt.show()"
   ]
  },
  {
   "cell_type": "code",
   "execution_count": 83,
   "metadata": {},
   "outputs": [
    {
     "name": "stdout",
     "output_type": "stream",
     "text": [
      "The Mean Squared Error of our forecasts is 6496069.59\n"
     ]
    }
   ],
   "source": [
    "y_forecasted = np.exp(pred.predicted_mean)\n",
    "y_truth = np.exp(btc_log_test)\n",
    "mse = ((y_forecasted - y_truth) ** 2).mean()\n",
    "print('The Mean Squared Error of our forecasts is {}'.format(round(mse, 2)))"
   ]
  },
  {
   "cell_type": "code",
   "execution_count": 72,
   "metadata": {},
   "outputs": [
    {
     "data": {
      "text/plain": [
       "Date\n",
       "2020-03-03    9.081119\n",
       "2020-03-04    9.077409\n",
       "2020-03-05    9.113693\n",
       "2020-03-06    9.118505\n",
       "2020-03-07    9.094924\n",
       "                ...   \n",
       "2020-04-28    8.962784\n",
       "2020-04-29    9.082625\n",
       "2020-04-30    9.066303\n",
       "2020-05-01    9.089840\n",
       "2020-05-02    9.103712\n",
       "Name: Close, Length: 61, dtype: float64"
      ]
     },
     "execution_count": 72,
     "metadata": {},
     "output_type": "execute_result"
    }
   ],
   "source": [
    "y_truth"
   ]
  },
  {
   "cell_type": "code",
   "execution_count": null,
   "metadata": {},
   "outputs": [],
   "source": [
    "scaled_pipeline_2 = Pipeline([(\"scaler\", StandardScaler()), ('SARIMAX', sm.tsa.statespace.SARIMAX())])"
   ]
  },
  {
   "cell_type": "code",
   "execution_count": 29,
   "metadata": {},
   "outputs": [],
   "source": [
    "btc_train, btc_test = btc[:\"2020-03-02\"], btc[\"2020-03-03\":]\n"
   ]
  },
  {
   "cell_type": "code",
   "execution_count": null,
   "metadata": {},
   "outputs": [],
   "source": [
    "scaled_pipeline_1 = Pipeline([(\"scaler\", StandardScaler()), ('SARIMAX', sm.tsa.statespace.SARIMAX())])"
   ]
  },
  {
   "cell_type": "code",
   "execution_count": 29,
   "metadata": {},
   "outputs": [],
   "source": [
    "scaled_pipeline_1 = Pipeline([(\"log\", FunctionTransformer(np.log1p, np.expm1), 'SARIMAX', sm.tsa.statespace.SARIMAX())])"
   ]
  },
  {
   "cell_type": "code",
   "execution_count": 167,
   "metadata": {},
   "outputs": [
    {
     "data": {
      "text/html": [
       "<div>\n",
       "<style scoped>\n",
       "    .dataframe tbody tr th:only-of-type {\n",
       "        vertical-align: middle;\n",
       "    }\n",
       "\n",
       "    .dataframe tbody tr th {\n",
       "        vertical-align: top;\n",
       "    }\n",
       "\n",
       "    .dataframe thead th {\n",
       "        text-align: right;\n",
       "    }\n",
       "</style>\n",
       "<table border=\"1\" class=\"dataframe\">\n",
       "  <thead>\n",
       "    <tr style=\"text-align: right;\">\n",
       "      <th></th>\n",
       "      <th>Date</th>\n",
       "      <th>Close</th>\n",
       "    </tr>\n",
       "  </thead>\n",
       "  <tbody>\n",
       "    <tr>\n",
       "      <th>0</th>\n",
       "      <td>2013-04-28</td>\n",
       "      <td>4.899406</td>\n",
       "    </tr>\n",
       "    <tr>\n",
       "      <th>1</th>\n",
       "      <td>2013-04-29</td>\n",
       "      <td>4.973556</td>\n",
       "    </tr>\n",
       "    <tr>\n",
       "      <th>2</th>\n",
       "      <td>2013-04-30</td>\n",
       "      <td>4.934474</td>\n",
       "    </tr>\n",
       "    <tr>\n",
       "      <th>3</th>\n",
       "      <td>2013-05-01</td>\n",
       "      <td>4.762088</td>\n",
       "    </tr>\n",
       "    <tr>\n",
       "      <th>4</th>\n",
       "      <td>2013-05-02</td>\n",
       "      <td>4.655958</td>\n",
       "    </tr>\n",
       "    <tr>\n",
       "      <th>...</th>\n",
       "      <td>...</td>\n",
       "      <td>...</td>\n",
       "    </tr>\n",
       "    <tr>\n",
       "      <th>2496</th>\n",
       "      <td>2020-02-27</td>\n",
       "      <td>9.080743</td>\n",
       "    </tr>\n",
       "    <tr>\n",
       "      <th>2497</th>\n",
       "      <td>2020-02-28</td>\n",
       "      <td>9.067908</td>\n",
       "    </tr>\n",
       "    <tr>\n",
       "      <th>2498</th>\n",
       "      <td>2020-02-29</td>\n",
       "      <td>9.059461</td>\n",
       "    </tr>\n",
       "    <tr>\n",
       "      <th>2499</th>\n",
       "      <td>2020-03-01</td>\n",
       "      <td>9.055142</td>\n",
       "    </tr>\n",
       "    <tr>\n",
       "      <th>2500</th>\n",
       "      <td>2020-03-02</td>\n",
       "      <td>9.090393</td>\n",
       "    </tr>\n",
       "  </tbody>\n",
       "</table>\n",
       "<p>2501 rows × 2 columns</p>\n",
       "</div>"
      ],
      "text/plain": [
       "           Date     Close\n",
       "0    2013-04-28  4.899406\n",
       "1    2013-04-29  4.973556\n",
       "2    2013-04-30  4.934474\n",
       "3    2013-05-01  4.762088\n",
       "4    2013-05-02  4.655958\n",
       "...         ...       ...\n",
       "2496 2020-02-27  9.080743\n",
       "2497 2020-02-28  9.067908\n",
       "2498 2020-02-29  9.059461\n",
       "2499 2020-03-01  9.055142\n",
       "2500 2020-03-02  9.090393\n",
       "\n",
       "[2501 rows x 2 columns]"
      ]
     },
     "execution_count": 167,
     "metadata": {},
     "output_type": "execute_result"
    }
   ],
   "source": [
    "df = pd.DataFrame(btc_log_train).reset_index()\n",
    "df"
   ]
  },
  {
   "cell_type": "code",
   "execution_count": 168,
   "metadata": {},
   "outputs": [
    {
     "name": "stderr",
     "output_type": "stream",
     "text": [
      "INFO:fbprophet:Disabling daily seasonality. Run prophet with daily_seasonality=True to override this.\n"
     ]
    },
    {
     "data": {
      "text/plain": [
       "<fbprophet.forecaster.Prophet at 0x7ff8ec38a1d0>"
      ]
     },
     "execution_count": 168,
     "metadata": {},
     "output_type": "execute_result"
    }
   ],
   "source": [
    "from fbprophet import Prophet\n",
    "furniture = df\n",
    "furniture = furniture.rename(columns={'Date': 'ds', 'Close': 'y'})\n",
    "furniture_model = Prophet(interval_width=0.95)\n",
    "furniture_model.fit(furniture)"
   ]
  },
  {
   "cell_type": "code",
   "execution_count": 169,
   "metadata": {},
   "outputs": [],
   "source": [
    "furniture_forecast = furniture_model.make_future_dataframe(periods=36, freq='D')\n",
    "furniture_forecast = furniture_model.predict(furniture_forecast)"
   ]
  },
  {
   "cell_type": "code",
   "execution_count": 163,
   "metadata": {},
   "outputs": [
    {
     "data": {
      "text/plain": [
       "<Figure size 1296x432 with 0 Axes>"
      ]
     },
     "metadata": {},
     "output_type": "display_data"
    },
    {
     "data": {
      "image/png": "[encoded data removed]",
      "text/plain": [
       "<Figure size 720x432 with 1 Axes>"
      ]
     },
     "metadata": {},
     "output_type": "display_data"
    }
   ],
   "source": [
    "plt.figure(figsize=(18, 6))\n",
    "furniture_model.plot(furniture_forecast, xlabel = 'Date', ylabel = 'Sales')\n",
    "plt.title('Furniture Sales');"
   ]
  },
  {
   "cell_type": "markdown",
   "metadata": {},
   "source": [
    "## LSTM"
   ]
  },
  {
   "cell_type": "code",
   "execution_count": 14,
   "metadata": {},
   "outputs": [],
   "source": [
    "btc_train, btc_test = btc[:\"2020-04-04\"], btc[\"2020-04-05\":]"
   ]
  },
  {
   "cell_type": "code",
   "execution_count": 15,
   "metadata": {},
   "outputs": [],
   "source": [
    "X, y = preprocess_lstm(btc_train)\n",
    "X, y = X[[\"Close\"]], y[[\"Close\"]]"
   ]
  },
  {
   "cell_type": "code",
   "execution_count": 16,
   "metadata": {},
   "outputs": [],
   "source": [
    "batch_size = 2\n",
    "lstm_pipe = Pipeline([(\"scaler\", MinMaxScaler()),\n",
    "                      (\"reshaper\", LSTM_Reshaper()),\n",
    "                      ('LSTM', Keras_Custom_Fitter(keras_model_wrapper,\n",
    "                                                   l1_batch_input_shape=(batch_size, 1, X.shape[1]),\n",
    "                                                   l1_neurons = 5, mod_lr = 0.0002,\n",
    "                                                   epochs=2, batch_size=batch_size, shuffle=False))])"
   ]
  },
  {
   "cell_type": "code",
   "execution_count": null,
   "metadata": {},
   "outputs": [
    {
     "name": "stdout",
     "output_type": "stream",
     "text": [
      "Train on 2532 samples\n",
      "Epoch 1/2\n",
      "2532/2532 [==============================] - 3s 1ms/sample - loss: 0.0039\n",
      "Epoch 2/2\n",
      "2532/2532 [==============================] - 2s 782us/sample - loss: 0.0029\n",
      "MSE: 3451919.1537837414, RMSE: 1857.9341091071399)\n",
      "Train on 2532 samples\n",
      "Epoch 1/2\n",
      "2532/2532 [==============================] - 3s 1ms/sample - loss: 0.0534\n",
      "Epoch 2/2\n",
      "2532/2532 [==============================] - 2s 782us/sample - loss: 0.0028\n",
      "MSE: 2440283.218422058, RMSE: 1562.1405885585516)\n",
      "Train on 2532 samples\n",
      "Epoch 1/2\n",
      "2532/2532 [==============================] - 3s 1ms/sample - loss: 0.1700\n",
      "Epoch 2/2\n",
      "2532/2532 [==============================] - 2s 774us/sample - loss: 0.0028\n",
      "MSE: 1892347.8953159493, RMSE: 1375.6263647211583)\n",
      "Train on 2532 samples\n",
      "Epoch 1/2\n",
      "2532/2532 [==============================] - 3s 1ms/sample - loss: 0.0140\n",
      "Epoch 2/2\n",
      "2532/2532 [==============================] - 2s 778us/sample - loss: 0.0029\n",
      "MSE: 3646148.58562506, RMSE: 1909.489090208441)\n",
      "Train on 2532 samples\n",
      "Epoch 1/2\n",
      "2532/2532 [==============================] - 3s 1ms/sample - loss: 0.0366\n",
      "Epoch 2/2\n",
      "2532/2532 [==============================] - 2s 785us/sample - loss: 0.0029\n",
      "MSE: 2032250.2925042408, RMSE: 1425.5701640060515)\n",
      "Train on 2532 samples\n",
      "Epoch 1/2\n",
      "2532/2532 [==============================] - 3s 1ms/sample - loss: 0.0232\n",
      "Epoch 2/2\n",
      "2532/2532 [==============================] - 2s 776us/sample - loss: 0.0030\n",
      "MSE: 1989459.368877793, RMSE: 1410.481963329483)\n",
      "Train on 2532 samples\n",
      "Epoch 1/2\n",
      "2532/2532 [==============================] - 3s 1ms/sample - loss: 0.0231\n",
      "Epoch 2/2\n",
      "2532/2532 [==============================] - 2s 780us/sample - loss: 0.0029\n",
      "MSE: 2190198.5682275547, RMSE: 1479.9319471609344)\n",
      "Train on 2532 samples\n",
      "Epoch 1/2\n",
      "2532/2532 [==============================] - 3s 1ms/sample - loss: 0.0171\n",
      "Epoch 2/2\n",
      "2532/2532 [==============================] - 2s 793us/sample - loss: 0.0029\n",
      "MSE: 1992055.4074207307, RMSE: 1411.4019297920527)\n",
      "Train on 2532 samples\n",
      "Epoch 1/2\n",
      "2532/2532 [==============================] - 3s 1ms/sample - loss: 0.1511\n",
      "Epoch 2/2\n",
      "2532/2532 [==============================] - 2s 784us/sample - loss: 0.0028\n",
      "MSE: 1520858.9172876661, RMSE: 1233.2310883559765)\n",
      "Train on 2532 samples\n",
      "Epoch 1/2\n",
      "2532/2532 [==============================] - 3s 1ms/sample - loss: 0.0326\n",
      "Epoch 2/2\n",
      "2532/2532 [==============================] - 2s 780us/sample - loss: 0.0028\n",
      "MSE: 2113397.6714707413, RMSE: 1453.7529609499481)\n",
      "Train on 2532 samples\n",
      "Epoch 1/2\n",
      "2532/2532 [==============================] - 3s 1ms/sample - loss: 0.0068\n",
      "Epoch 2/2\n",
      "2532/2532 [==============================] - 2s 788us/sample - loss: 0.0029\n",
      "MSE: 4721479.126025185, RMSE: 2172.8964830440464)\n",
      "Train on 2532 samples\n",
      "Epoch 1/2\n",
      "2532/2532 [==============================] - 3s 1ms/sample - loss: 0.0405\n",
      "Epoch 2/2\n",
      "2532/2532 [==============================] - 2s 791us/sample - loss: 0.0029\n",
      "MSE: 2140343.1735463724, RMSE: 1462.9911734341983)\n",
      "Train on 2532 samples\n",
      "Epoch 1/2\n",
      "2532/2532 [==============================] - 3s 1ms/sample - loss: 0.0337\n",
      "Epoch 2/2\n",
      "2532/2532 [==============================] - 2s 790us/sample - loss: 0.0029\n",
      "MSE: 1741842.6722634337, RMSE: 1319.7888741247343)\n",
      "Train on 2532 samples\n",
      "Epoch 1/2\n",
      "2532/2532 [==============================] - 3s 1ms/sample - loss: 0.0201\n",
      "Epoch 2/2\n",
      "2532/2532 [==============================] - 2s 789us/sample - loss: 0.0028\n",
      "MSE: 1985528.1254661367, RMSE: 1409.0876926104127)\n",
      "Train on 2532 samples\n",
      "Epoch 1/2\n",
      "2532/2532 [==============================] - 3s 1ms/sample - loss: 0.0425\n",
      "Epoch 2/2\n",
      "2532/2532 [==============================] - 2s 774us/sample - loss: 0.0028\n",
      "MSE: 1846118.1590160236, RMSE: 1358.719308398914)\n",
      "Train on 2532 samples\n",
      "Epoch 1/2\n",
      "2532/2532 [==============================] - 3s 1ms/sample - loss: 0.0103\n",
      "Epoch 2/2\n",
      "2532/2532 [==============================] - 2s 781us/sample - loss: 0.0030\n",
      "MSE: 3699530.2214052365, RMSE: 1923.416289159795)\n",
      "Train on 2532 samples\n",
      "Epoch 1/2\n",
      "2532/2532 [==============================] - 3s 1ms/sample - loss: 0.0316\n",
      "Epoch 2/2\n",
      "2532/2532 [==============================] - 2s 793us/sample - loss: 0.0028\n",
      "MSE: 2018220.3506276538, RMSE: 1420.6408239339223)\n",
      "Train on 2532 samples\n",
      "Epoch 1/2\n",
      "2532/2532 [==============================] - 3s 1ms/sample - loss: 0.0390\n",
      "Epoch 2/2\n",
      "2532/2532 [==============================] - 2s 782us/sample - loss: 0.0029\n",
      "MSE: 1750177.4769136691, RMSE: 1322.9427337997927)\n",
      "Train on 2532 samples\n",
      "Epoch 1/2\n",
      "2532/2532 [==============================] - 3s 1ms/sample - loss: 0.0428\n",
      "Epoch 2/2\n",
      "2532/2532 [==============================] - 2s 787us/sample - loss: 0.0028\n",
      "MSE: 1920811.7308244442, RMSE: 1385.9335232342294)\n",
      "Train on 2532 samples\n",
      "Epoch 1/2\n",
      "2532/2532 [==============================] - 3s 1ms/sample - loss: 0.0282\n",
      "Epoch 2/2\n",
      "2532/2532 [==============================] - 2s 788us/sample - loss: 0.0029\n",
      "MSE: 2600539.210362214, RMSE: 1612.6187430270722)\n",
      "Train on 2532 samples\n",
      "Epoch 1/2\n",
      "2532/2532 [==============================] - 3s 1ms/sample - loss: 0.1364\n",
      "Epoch 2/2\n",
      "2532/2532 [==============================] - 2s 785us/sample - loss: 0.0028\n",
      "MSE: 2229553.32830243, RMSE: 1493.1688880707466)\n",
      "Train on 2532 samples\n",
      "Epoch 1/2\n",
      "2532/2532 [==============================] - 3s 1ms/sample - loss: 0.0228\n",
      "Epoch 2/2\n",
      "2532/2532 [==============================] - 2s 787us/sample - loss: 0.0028\n",
      "MSE: 2311935.078671918, RMSE: 1520.5048762407564)\n",
      "Train on 2532 samples\n",
      "Epoch 1/2\n",
      "2532/2532 [==============================] - 3s 1ms/sample - loss: 0.0828\n",
      "Epoch 2/2\n",
      "2532/2532 [==============================] - 2s 794us/sample - loss: 0.0028\n",
      "MSE: 1729938.1379433726, RMSE: 1315.271127161002)\n",
      "Train on 2532 samples\n",
      "Epoch 1/2\n",
      "2532/2532 [==============================] - 3s 1ms/sample - loss: 0.0871\n",
      "Epoch 2/2\n",
      "2532/2532 [==============================] - 2s 781us/sample - loss: 0.0029\n",
      "MSE: 1410933.5545259796, RMSE: 1187.8272410270695)\n",
      "Train on 2532 samples\n",
      "Epoch 1/2\n",
      "2532/2532 [==============================] - 3s 1ms/sample - loss: 0.0978\n",
      "Epoch 2/2\n",
      "2532/2532 [==============================] - 2s 782us/sample - loss: 0.0028\n",
      "MSE: 1898633.1773673547, RMSE: 1377.9089873309322)\n",
      "Train on 2532 samples\n",
      "Epoch 1/2\n",
      "2532/2532 [==============================] - 3s 1ms/sample - loss: 0.0162\n",
      "Epoch 2/2\n",
      "2532/2532 [==============================] - 2s 786us/sample - loss: 0.0029\n",
      "MSE: 2655701.0379362567, RMSE: 1629.6321787250818)\n",
      "Train on 2532 samples\n",
      "Epoch 1/2\n",
      "2532/2532 [==============================] - 3s 1ms/sample - loss: 0.0437\n",
      "Epoch 2/2\n",
      "2532/2532 [==============================] - 2s 786us/sample - loss: 0.0029\n",
      "MSE: 2278606.108955611, RMSE: 1509.5052530400849)\n",
      "Train on 2532 samples\n",
      "Epoch 1/2\n",
      "2532/2532 [==============================] - 3s 1ms/sample - loss: 0.0955\n",
      "Epoch 2/2\n",
      "2532/2532 [==============================] - 2s 785us/sample - loss: 0.0028\n",
      "MSE: 1804324.9233650446, RMSE: 1343.2516232504781)\n",
      "Train on 2532 samples\n",
      "Epoch 1/2\n",
      "2532/2532 [==============================] - 3s 1ms/sample - loss: 0.0169\n",
      "Epoch 2/2\n",
      "2532/2532 [==============================] - 2s 778us/sample - loss: 0.0029\n",
      "MSE: 2246782.7779410616, RMSE: 1498.9272090201919)\n",
      "Train on 2532 samples\n",
      "Epoch 1/2\n",
      "2532/2532 [==============================] - 3s 1ms/sample - loss: 0.1377\n",
      "Epoch 2/2\n",
      "2532/2532 [==============================] - 2s 781us/sample - loss: 0.0028\n",
      "MSE: 2240969.682497792, RMSE: 1496.9868678441344)\n",
      "Train on 2532 samples\n",
      "Epoch 1/2\n",
      "2532/2532 [==============================] - 3s 1ms/sample - loss: 0.0048\n",
      "Epoch 2/2\n",
      "2532/2532 [==============================] - 2s 778us/sample - loss: 0.0031\n",
      "MSE: 2325237.485529872, RMSE: 1524.8729407822384)\n",
      "Train on 2532 samples\n",
      "Epoch 1/2\n",
      "2532/2532 [==============================] - 3s 1ms/sample - loss: 0.1601\n",
      "Epoch 2/2\n",
      "2532/2532 [==============================] - 2s 778us/sample - loss: 0.0028\n",
      "MSE: 1462338.6955946344, RMSE: 1209.2719692420867)\n",
      "Train on 2532 samples\n",
      "Epoch 1/2\n",
      "2532/2532 [==============================] - 3s 1ms/sample - loss: 0.0771\n",
      "Epoch 2/2\n",
      "2532/2532 [==============================] - 2s 775us/sample - loss: 0.0028\n",
      "MSE: 2000440.9759605613, RMSE: 1414.3694623260787)\n",
      "Train on 2532 samples\n",
      "Epoch 1/2\n",
      "2532/2532 [==============================] - 3s 1ms/sample - loss: 0.0243\n",
      "Epoch 2/2\n",
      "2532/2532 [==============================] - 2s 778us/sample - loss: 0.0030\n",
      "MSE: 2573739.3004908008, RMSE: 1604.287786056729)\n",
      "Train on 2532 samples\n",
      "Epoch 1/2\n",
      "2532/2532 [==============================] - 3s 1ms/sample - loss: 0.1321\n",
      "Epoch 2/2\n",
      "2532/2532 [==============================] - 2s 778us/sample - loss: 0.0029\n",
      "MSE: 2596959.6119681844, RMSE: 1611.5084895737236)\n",
      "Train on 2532 samples\n",
      "Epoch 1/2\n",
      "2532/2532 [==============================] - 3s 1ms/sample - loss: 0.0041\n",
      "Epoch 2/2\n",
      "2532/2532 [==============================] - 2s 781us/sample - loss: 0.0029\n",
      "MSE: 2846654.2254520487, RMSE: 1687.2030777153202)\n",
      "Train on 2532 samples\n",
      "Epoch 1/2\n",
      "2532/2532 [==============================] - 3s 1ms/sample - loss: 0.0091\n",
      "Epoch 2/2\n",
      "2532/2532 [==============================] - 2s 788us/sample - loss: 0.0029\n",
      "MSE: 2510246.5758603318, RMSE: 1584.3757685158946)\n",
      "Train on 2532 samples\n",
      "Epoch 1/2\n",
      "2532/2532 [==============================] - 3s 1ms/sample - loss: 0.0436\n",
      "Epoch 2/2\n",
      "2532/2532 [==============================] - 2s 775us/sample - loss: 0.0028\n",
      "MSE: 2078529.729406705, RMSE: 1441.7106954610224)\n",
      "Train on 2532 samples\n",
      "Epoch 1/2\n",
      "2532/2532 [==============================] - 3s 1ms/sample - loss: 0.0051\n",
      "Epoch 2/2\n",
      "2532/2532 [==============================] - 2s 776us/sample - loss: 0.0029\n",
      "MSE: 2382406.0178544573, RMSE: 1543.5044599399307)\n",
      "Train on 2532 samples\n",
      "Epoch 1/2\n",
      "2532/2532 [==============================] - 3s 1ms/sample - loss: 0.0993\n",
      "Epoch 2/2\n",
      "2532/2532 [==============================] - 2s 791us/sample - loss: 0.0028\n",
      "MSE: 1994218.1252510785, RMSE: 1412.1678813976328)\n",
      "Train on 2532 samples\n",
      "Epoch 1/2\n",
      "2532/2532 [==============================] - 3s 1ms/sample - loss: 0.0492\n",
      "Epoch 2/2\n",
      "2532/2532 [==============================] - 2s 779us/sample - loss: 0.0029\n",
      "MSE: 1847718.5433697635, RMSE: 1359.3081120076358)\n",
      "Train on 2532 samples\n",
      "Epoch 1/2\n",
      "2532/2532 [==============================] - 3s 1ms/sample - loss: 0.0075\n",
      "Epoch 2/2\n",
      "2532/2532 [==============================] - 2s 781us/sample - loss: 0.0029\n",
      "MSE: 2997323.307577562, RMSE: 1731.2779405911583)\n",
      "Train on 2532 samples\n",
      "Epoch 1/2\n",
      "2532/2532 [==============================] - 3s 1ms/sample - loss: 0.0913\n",
      "Epoch 2/2\n",
      "2532/2532 [==============================] - 2s 784us/sample - loss: 0.0029\n",
      "MSE: 1956403.8799569146, RMSE: 1398.7150817650156)\n",
      "Train on 2532 samples\n",
      "Epoch 1/2\n",
      "2532/2532 [==============================] - 3s 1ms/sample - loss: 0.0854\n",
      "Epoch 2/2\n",
      "2532/2532 [==============================] - 2s 785us/sample - loss: 0.0028\n",
      "MSE: 1559071.4284209965, RMSE: 1248.6278182152585)\n",
      "Train on 2532 samples\n",
      "Epoch 1/2\n",
      "2532/2532 [==============================] - 3s 1ms/sample - loss: 0.0358\n",
      "Epoch 2/2\n",
      "2532/2532 [==============================] - 2s 782us/sample - loss: 0.0029\n",
      "MSE: 2163868.129454587, RMSE: 1471.009221403655)\n",
      "Train on 2532 samples\n",
      "Epoch 1/2\n",
      "2532/2532 [==============================] - 3s 1ms/sample - loss: 0.0233\n",
      "Epoch 2/2\n",
      "2532/2532 [==============================] - 2s 779us/sample - loss: 0.0030\n",
      "MSE: 1793129.409904626, RMSE: 1339.0778207052142)\n",
      "Train on 2532 samples\n",
      "Epoch 1/2\n",
      "2532/2532 [==============================] - 3s 1ms/sample - loss: 0.0101\n",
      "Epoch 2/2\n",
      "2532/2532 [==============================] - 2s 777us/sample - loss: 0.0029\n",
      "MSE: 1850778.0105556797, RMSE: 1360.4330231788992)\n",
      "Train on 2532 samples\n",
      "Epoch 1/2\n",
      "2532/2532 [==============================] - 3s 1ms/sample - loss: 0.0938\n",
      "Epoch 2/2\n",
      "2532/2532 [==============================] - 2s 777us/sample - loss: 0.0028\n",
      "MSE: 1658387.5553441404, RMSE: 1287.7839707591256)\n",
      "Train on 2532 samples\n",
      "Epoch 1/2\n",
      "2532/2532 [==============================] - 3s 1ms/sample - loss: 0.0365\n",
      "Epoch 2/2\n",
      "2532/2532 [==============================] - 2s 777us/sample - loss: 0.0028\n",
      "MSE: 1861568.4086930347, RMSE: 1364.393055058928)\n",
      "Train on 2532 samples\n",
      "Epoch 1/2\n",
      "2532/2532 [==============================] - 3s 1ms/sample - loss: 0.0351\n",
      "Epoch 2/2\n",
      "2532/2532 [==============================] - 2s 785us/sample - loss: 0.0028\n",
      "MSE: 1964161.8471849086, RMSE: 1401.4855857927716)\n",
      "Train on 2532 samples\n",
      "Epoch 1/2\n",
      "2532/2532 [==============================] - 3s 1ms/sample - loss: 0.0743\n",
      "Epoch 2/2\n",
      "2532/2532 [==============================] - 2s 778us/sample - loss: 0.0028\n",
      "MSE: 1783414.3779763207, RMSE: 1335.4453856209623)\n",
      "Train on 2532 samples\n",
      "Epoch 1/2\n",
      "2532/2532 [==============================] - 3s 1ms/sample - loss: 0.1904\n",
      "Epoch 2/2\n",
      "2532/2532 [==============================] - 2s 778us/sample - loss: 0.0028\n",
      "MSE: 1481337.1632339836, RMSE: 1217.1019526867844)\n",
      "Train on 2532 samples\n",
      "Epoch 1/2\n",
      "2532/2532 [==============================] - 3s 1ms/sample - loss: 0.1320\n",
      "Epoch 2/2\n",
      "2532/2532 [==============================] - 2s 775us/sample - loss: 0.0028\n",
      "MSE: 1461406.8757223857, RMSE: 1208.886626496623)\n",
      "Train on 2532 samples\n",
      "Epoch 1/2\n",
      "2532/2532 [==============================] - 3s 1ms/sample - loss: 0.0693\n",
      "Epoch 2/2\n",
      "2532/2532 [==============================] - 2s 787us/sample - loss: 0.0028\n",
      "MSE: 1982503.8776948897, RMSE: 1408.0141610420294)\n",
      "Train on 2532 samples\n",
      "Epoch 1/2\n",
      "2532/2532 [==============================] - 3s 1ms/sample - loss: 0.0308\n",
      "Epoch 2/2\n",
      "2532/2532 [==============================] - 2s 778us/sample - loss: 0.0029\n",
      "MSE: 2087510.3197958514, RMSE: 1444.821898988194)\n",
      "Train on 2532 samples\n",
      "Epoch 1/2\n",
      "2532/2532 [==============================] - 3s 1ms/sample - loss: 0.1290\n",
      "Epoch 2/2\n",
      "2532/2532 [==============================] - 2s 780us/sample - loss: 0.0028\n",
      "MSE: 1466327.7610844388, RMSE: 1210.9202125179177)\n",
      "Train on 2532 samples\n",
      "Epoch 1/2\n",
      "2532/2532 [==============================] - 3s 1ms/sample - loss: 0.0205\n",
      "Epoch 2/2\n",
      "2532/2532 [==============================] - 2s 773us/sample - loss: 0.0029\n",
      "MSE: 3702060.677182102, RMSE: 1924.073979134405)\n",
      "Train on 2532 samples\n",
      "Epoch 1/2\n",
      "2532/2532 [==============================] - 3s 1ms/sample - loss: 0.0365\n",
      "Epoch 2/2\n",
      "2532/2532 [==============================] - 2s 783us/sample - loss: 0.0029\n",
      "MSE: 2152983.776174613, RMSE: 1467.3049363287146)\n",
      "Train on 2532 samples\n",
      "Epoch 1/2\n",
      "2532/2532 [==============================] - 3s 1ms/sample - loss: 0.1745\n",
      "Epoch 2/2\n",
      "2532/2532 [==============================] - 2s 781us/sample - loss: 0.0029\n",
      "MSE: 1709773.274352271, RMSE: 1307.5829894703704)\n",
      "Train on 2532 samples\n",
      "Epoch 1/2\n",
      "2532/2532 [==============================] - 3s 1ms/sample - loss: 0.0755\n",
      "Epoch 2/2\n",
      "2532/2532 [==============================] - 2s 781us/sample - loss: 0.0028\n",
      "MSE: 2001748.8609721367, RMSE: 1414.8317429900055)\n",
      "Train on 2532 samples\n",
      "Epoch 1/2\n",
      "2532/2532 [==============================] - 3s 1ms/sample - loss: 0.0387\n",
      "Epoch 2/2\n",
      "2532/2532 [==============================] - 2s 780us/sample - loss: 0.0029\n",
      "MSE: 3553962.2500226963, RMSE: 1885.1955468923368)\n",
      "Train on 2532 samples\n",
      "Epoch 1/2\n",
      "2532/2532 [==============================] - 3s 1ms/sample - loss: 0.0345\n",
      "Epoch 2/2\n",
      "2532/2532 [==============================] - 2s 784us/sample - loss: 0.0029\n",
      "MSE: 1920525.2663101577, RMSE: 1385.8301722470028)\n",
      "Train on 2532 samples\n",
      "Epoch 1/2\n",
      "2532/2532 [==============================] - 3s 1ms/sample - loss: 0.1439\n",
      "Epoch 2/2\n",
      "2532/2532 [==============================] - 2s 782us/sample - loss: 0.0028\n",
      "MSE: 1461470.1513407852, RMSE: 1208.9127972441954)\n",
      "Train on 2532 samples\n",
      "Epoch 1/2\n",
      "2532/2532 [==============================] - 3s 1ms/sample - loss: 0.0397\n",
      "Epoch 2/2\n",
      "2532/2532 [==============================] - 2s 777us/sample - loss: 0.0029\n",
      "MSE: 3115734.8612635834, RMSE: 1765.1444307091654)\n",
      "Train on 2532 samples\n",
      "Epoch 1/2\n",
      "2532/2532 [==============================] - 3s 1ms/sample - loss: 0.0596\n",
      "Epoch 2/2\n",
      "2532/2532 [==============================] - 2s 786us/sample - loss: 0.0028\n",
      "MSE: 2163860.106520355, RMSE: 1471.006494384153)\n",
      "Train on 2532 samples\n",
      "Epoch 1/2\n",
      "2532/2532 [==============================] - 3s 1ms/sample - loss: 0.0835\n",
      "Epoch 2/2\n",
      "2532/2532 [==============================] - 2s 782us/sample - loss: 0.0028\n",
      "MSE: 1679628.5933875008, RMSE: 1296.0048585508855)\n",
      "Train on 2532 samples\n",
      "Epoch 1/2\n",
      "2532/2532 [==============================] - 3s 1ms/sample - loss: 0.0222\n",
      "Epoch 2/2\n",
      "2532/2532 [==============================] - 2s 776us/sample - loss: 0.0030\n",
      "MSE: 2952470.9941703677, RMSE: 1718.2755873754268)\n",
      "Train on 2532 samples\n",
      "Epoch 1/2\n",
      "2532/2532 [==============================] - 3s 1ms/sample - loss: 0.1140\n",
      "Epoch 2/2\n",
      "2532/2532 [==============================] - 2s 777us/sample - loss: 0.0028\n",
      "MSE: 1594531.216951476, RMSE: 1262.7474874065185)\n",
      "Train on 2532 samples\n",
      "Epoch 1/2\n",
      "2532/2532 [==============================] - 3s 1ms/sample - loss: 0.0278\n",
      "Epoch 2/2\n",
      "2532/2532 [==============================] - 2s 776us/sample - loss: 0.0029\n",
      "MSE: 5013009.905130936, RMSE: 2238.9751908252438)\n",
      "Train on 2532 samples\n",
      "Epoch 1/2\n",
      "2532/2532 [==============================] - 3s 1ms/sample - loss: 0.0469\n",
      "Epoch 2/2\n",
      "2532/2532 [==============================] - 2s 780us/sample - loss: 0.0028\n",
      "MSE: 2078950.5362818304, RMSE: 1441.856628199153)\n",
      "Train on 2532 samples\n",
      "Epoch 1/2\n",
      "2532/2532 [==============================] - 3s 1ms/sample - loss: 0.0057\n",
      "Epoch 2/2\n",
      "2532/2532 [==============================] - 2s 796us/sample - loss: 0.0029\n",
      "MSE: 1945404.1769002553, RMSE: 1394.7774650101912)\n",
      "Train on 2532 samples\n",
      "Epoch 1/2\n",
      "2532/2532 [==============================] - 3s 1ms/sample - loss: 0.0406\n",
      "Epoch 2/2\n",
      "2532/2532 [==============================] - 2s 788us/sample - loss: 0.0028\n",
      "MSE: 2312767.6233533113, RMSE: 1520.7786240453643)\n",
      "Train on 2532 samples\n",
      "Epoch 1/2\n",
      "2532/2532 [==============================] - 3s 1ms/sample - loss: 0.0112\n",
      "Epoch 2/2\n",
      "2532/2532 [==============================] - 2s 769us/sample - loss: 0.0029\n",
      "MSE: 3228876.0736246877, RMSE: 1796.907363673678)\n",
      "Train on 2532 samples\n",
      "Epoch 1/2\n",
      "2532/2532 [==============================] - 3s 1ms/sample - loss: 0.0388\n",
      "Epoch 2/2\n",
      "2532/2532 [==============================] - 2s 766us/sample - loss: 0.0028\n",
      "MSE: 2325681.38972175, RMSE: 1525.0184883212892)\n",
      "Train on 2532 samples\n",
      "Epoch 1/2\n",
      "2532/2532 [==============================] - 3s 1ms/sample - loss: 0.1696\n",
      "Epoch 2/2\n",
      "2532/2532 [==============================] - 2s 781us/sample - loss: 0.0028\n",
      "MSE: 1691959.9931039535, RMSE: 1300.7536250589324)\n",
      "Train on 2532 samples\n",
      "Epoch 1/2\n",
      "2532/2532 [==============================] - 3s 1ms/sample - loss: 0.1651\n",
      "Epoch 2/2\n",
      "2532/2532 [==============================] - 2s 773us/sample - loss: 0.0028\n",
      "MSE: 1365220.409524875, RMSE: 1168.4264673161401)\n",
      "Train on 2532 samples\n",
      "Epoch 1/2\n",
      "2532/2532 [==============================] - 3s 1ms/sample - loss: 0.2093\n",
      "Epoch 2/2\n",
      "2532/2532 [==============================] - 2s 772us/sample - loss: 0.0028\n",
      "MSE: 1528865.9298172505, RMSE: 1236.4731820048708)\n",
      "Train on 2532 samples\n",
      "Epoch 1/2\n",
      "2532/2532 [==============================] - 3s 1ms/sample - loss: 0.0317\n",
      "Epoch 2/2\n",
      "2532/2532 [==============================] - 2s 770us/sample - loss: 0.0029\n",
      "MSE: 2304543.779187836, RMSE: 1518.0723893108116)\n",
      "Train on 2532 samples\n",
      "Epoch 1/2\n",
      "2532/2532 [==============================] - 3s 1ms/sample - loss: 0.0200\n",
      "Epoch 2/2\n",
      "2532/2532 [==============================] - 2s 769us/sample - loss: 0.0029\n",
      "MSE: 1730046.39693417, RMSE: 1315.312281146257)\n",
      "Train on 2532 samples\n",
      "Epoch 1/2\n",
      "2532/2532 [==============================] - 3s 1ms/sample - loss: 0.1024\n",
      "Epoch 2/2\n",
      "2532/2532 [==============================] - 2s 775us/sample - loss: 0.0028\n",
      "MSE: 2143110.248464252, RMSE: 1463.9365588932642)\n",
      "Train on 2532 samples\n",
      "Epoch 1/2\n",
      "2532/2532 [==============================] - 3s 1ms/sample - loss: 0.1796\n",
      "Epoch 2/2\n",
      "2532/2532 [==============================] - 2s 771us/sample - loss: 0.0028\n",
      "MSE: 1399869.1224680692, RMSE: 1183.1606494758305)\n",
      "Train on 2532 samples\n",
      "Epoch 1/2\n",
      "2532/2532 [==============================] - 3s 1ms/sample - loss: 0.1108\n",
      "Epoch 2/2\n",
      "2532/2532 [==============================] - 2s 774us/sample - loss: 0.0028\n",
      "MSE: 1814758.7701645906, RMSE: 1347.1298267667414)\n",
      "Train on 2532 samples\n",
      "Epoch 1/2\n",
      "2532/2532 [==============================] - 3s 1ms/sample - loss: 0.0210\n",
      "Epoch 2/2\n",
      "2532/2532 [==============================] - 2s 771us/sample - loss: 0.0029\n",
      "MSE: 1949401.7686994923, RMSE: 1396.2097867797277)\n",
      "Train on 2532 samples\n",
      "Epoch 1/2\n",
      "2532/2532 [==============================] - 3s 1ms/sample - loss: 0.0989\n",
      "Epoch 2/2\n",
      "2532/2532 [==============================] - 2s 771us/sample - loss: 0.0029\n",
      "MSE: 1367610.1898333074, RMSE: 1169.4486691742)\n",
      "Train on 2532 samples\n",
      "Epoch 1/2\n",
      "2532/2532 [==============================] - 3s 1ms/sample - loss: 0.0502\n",
      "Epoch 2/2\n",
      "2532/2532 [==============================] - 2s 766us/sample - loss: 0.0028\n",
      "MSE: 1753357.1564126888, RMSE: 1324.1439334198865)\n",
      "Train on 2532 samples\n",
      "Epoch 1/2\n",
      "2532/2532 [==============================] - 3s 1ms/sample - loss: 0.0670\n",
      "Epoch 2/2\n",
      "2532/2532 [==============================] - 2s 768us/sample - loss: 0.0029\n",
      "MSE: 1828455.3453926633, RMSE: 1352.2038845502047)\n",
      "Train on 2532 samples\n",
      "Epoch 1/2\n",
      "2532/2532 [==============================] - 3s 1ms/sample - loss: 0.0730\n",
      "Epoch 2/2\n",
      "2532/2532 [==============================] - 2s 781us/sample - loss: 0.0028\n",
      "MSE: 1934967.4687333084, RMSE: 1391.031081152865)\n",
      "Train on 2532 samples\n",
      "Epoch 1/2\n",
      "2532/2532 [==============================] - 3s 1ms/sample - loss: 0.0469\n",
      "Epoch 2/2\n",
      "2532/2532 [==============================] - 2s 781us/sample - loss: 0.0028\n",
      "MSE: 1661133.8609863615, RMSE: 1288.8498209591223)\n",
      "Train on 2532 samples\n",
      "Epoch 1/2\n",
      "2532/2532 [==============================] - 3s 1ms/sample - loss: 0.1598\n",
      "Epoch 2/2\n",
      "2532/2532 [==============================] - 2s 780us/sample - loss: 0.0028\n",
      "MSE: 1510585.7882914222, RMSE: 1229.058903507648)\n",
      "Train on 2532 samples\n",
      "Epoch 1/2\n",
      "2532/2532 [==============================] - 3s 1ms/sample - loss: 0.0360\n",
      "Epoch 2/2\n",
      "2532/2532 [==============================] - 2s 765us/sample - loss: 0.0028\n",
      "MSE: 2041173.2482628373, RMSE: 1428.6963457162049)\n",
      "Train on 2532 samples\n",
      "Epoch 1/2\n",
      "2532/2532 [==============================] - 3s 1ms/sample - loss: 0.0457\n",
      "Epoch 2/2\n",
      "2532/2532 [==============================] - 2s 768us/sample - loss: 0.0028\n",
      "MSE: 2062803.357210412, RMSE: 1436.246273175465)\n",
      "Train on 2532 samples\n",
      "Epoch 1/2\n",
      "2532/2532 [==============================] - 3s 1ms/sample - loss: 0.1622\n",
      "Epoch 2/2\n",
      "2532/2532 [==============================] - 2s 772us/sample - loss: 0.0028\n",
      "MSE: 1461647.849594756, RMSE: 1208.9862900772514)\n",
      "Train on 2532 samples\n",
      "Epoch 1/2\n",
      "2532/2532 [==============================] - 3s 1ms/sample - loss: 0.0962\n",
      "Epoch 2/2\n",
      "2532/2532 [==============================] - 2s 774us/sample - loss: 0.0028\n",
      "MSE: 2208909.866277903, RMSE: 1486.2401778575033)\n",
      "Train on 2532 samples\n",
      "Epoch 1/2\n",
      "2532/2532 [==============================] - 3s 1ms/sample - loss: 0.0050\n",
      "Epoch 2/2\n",
      "2532/2532 [==============================] - 2s 779us/sample - loss: 0.0031\n",
      "MSE: 2024479.2440393814, RMSE: 1422.8419603172313)\n",
      "Train on 2532 samples\n",
      "Epoch 1/2\n",
      "2532/2532 [==============================] - 3s 1ms/sample - loss: 0.1964\n",
      "Epoch 2/2\n",
      "2532/2532 [==============================] - 2s 770us/sample - loss: 0.0028\n",
      "MSE: 1811229.2792123752, RMSE: 1345.819185185133)\n",
      "Train on 2532 samples\n",
      "Epoch 1/2\n",
      "2532/2532 [==============================] - 3s 1ms/sample - loss: 0.0302\n",
      "Epoch 2/2\n",
      "2532/2532 [==============================] - 2s 769us/sample - loss: 0.0028\n",
      "MSE: 1628222.6346578458, RMSE: 1276.0182736378997)\n",
      "Train on 2532 samples\n",
      "Epoch 1/2\n",
      "2532/2532 [==============================] - 3s 1ms/sample - loss: 0.0137\n",
      "Epoch 2/2\n",
      "2532/2532 [==============================] - 2s 781us/sample - loss: 0.0029\n",
      "MSE: 2608512.9664446358, RMSE: 1615.0891512373662)\n",
      "Train on 2532 samples\n",
      "Epoch 1/2\n",
      "2532/2532 [==============================] - 3s 1ms/sample - loss: 0.0151\n",
      "Epoch 2/2\n",
      "2532/2532 [==============================] - 2s 771us/sample - loss: 0.0029\n",
      "MSE: 1656799.7564957808, RMSE: 1287.1673381871453)\n",
      "Train on 2532 samples\n",
      "Epoch 1/2\n",
      "2532/2532 [==============================] - 3s 1ms/sample - loss: 0.0152\n",
      "Epoch 2/2\n",
      "2532/2532 [==============================] - 2s 781us/sample - loss: 0.0029\n",
      "MSE: 1872164.1704757025, RMSE: 1368.2705034004432)\n",
      "Train on 2532 samples\n",
      "Epoch 1/2\n",
      "2532/2532 [==============================] - 3s 1ms/sample - loss: 0.0045\n",
      "Epoch 2/2\n",
      "2532/2532 [==============================] - 2s 785us/sample - loss: 0.0029\n",
      "MSE: 2759326.49765618, RMSE: 1661.1220598306977)\n",
      "Train on 2532 samples\n",
      "Epoch 1/2\n",
      "2532/2532 [==============================] - 3s 1ms/sample - loss: 0.0315\n",
      "Epoch 2/2\n",
      "2532/2532 [==============================] - 2s 773us/sample - loss: 0.0029\n",
      "MSE: 1794656.0081050338, RMSE: 1339.6477179113297)\n",
      "Train on 2532 samples\n",
      "Epoch 1/2\n",
      "2532/2532 [==============================] - 3s 1ms/sample - loss: 0.0190\n",
      "Epoch 2/2\n",
      "2532/2532 [==============================] - 2s 779us/sample - loss: 0.0029\n",
      "MSE: 2915616.3655177536, RMSE: 1707.5176032819554)\n",
      "Train on 2532 samples\n",
      "Epoch 1/2\n",
      "2532/2532 [==============================] - 3s 1ms/sample - loss: 0.0104\n",
      "Epoch 2/2\n",
      "2532/2532 [==============================] - 2s 771us/sample - loss: 0.0030\n",
      "MSE: 2693849.7133283764, RMSE: 1641.295132914363)\n",
      "Train on 2532 samples\n",
      "Epoch 1/2\n",
      "2532/2532 [==============================] - 3s 1ms/sample - loss: 0.0161\n",
      "Epoch 2/2\n",
      "2532/2532 [==============================] - 2s 769us/sample - loss: 0.0029\n",
      "MSE: 1823924.3818334225, RMSE: 1350.5274457905039)\n",
      "Train on 2532 samples\n",
      "Epoch 1/2\n",
      "2532/2532 [==============================] - 3s 1ms/sample - loss: 0.0489\n",
      "Epoch 2/2\n",
      "2532/2532 [==============================] - 2s 775us/sample - loss: 0.0029\n",
      "MSE: 2164781.011574869, RMSE: 1471.3194797782257)\n",
      "Train on 2532 samples\n",
      "Epoch 1/2\n",
      "2532/2532 [==============================] - 3s 1ms/sample - loss: 0.0799\n",
      "Epoch 2/2\n",
      "2532/2532 [==============================] - 2s 779us/sample - loss: 0.0028\n",
      "MSE: 1334470.716031938, RMSE: 1155.1929345490034)\n",
      "Train on 2532 samples\n",
      "Epoch 1/2\n",
      "2532/2532 [==============================] - 3s 1ms/sample - loss: 0.0270\n",
      "Epoch 2/2\n",
      "2532/2532 [==============================] - 2s 779us/sample - loss: 0.0029\n",
      "MSE: 4021513.5375331813, RMSE: 2005.371172011102)\n",
      "Train on 2532 samples\n",
      "Epoch 1/2\n",
      "2532/2532 [==============================] - 3s 1ms/sample - loss: 0.2155\n",
      "Epoch 2/2\n",
      "2532/2532 [==============================] - 2s 778us/sample - loss: 0.0029\n",
      "MSE: 1700475.7715090825, RMSE: 1304.022918322022)\n",
      "Train on 2532 samples\n",
      "Epoch 1/2\n",
      "2532/2532 [==============================] - 3s 1ms/sample - loss: 0.0320\n",
      "Epoch 2/2\n",
      "2532/2532 [==============================] - 2s 774us/sample - loss: 0.0030\n",
      "MSE: 2173198.554774903, RMSE: 1474.1772467294777)\n",
      "Train on 2532 samples\n",
      "Epoch 1/2\n",
      "2532/2532 [==============================] - 3s 1ms/sample - loss: 0.0245\n",
      "Epoch 2/2\n",
      "2532/2532 [==============================] - 2s 770us/sample - loss: 0.0029\n",
      "MSE: 2190085.0619177218, RMSE: 1479.8935981744505)\n",
      "Train on 2532 samples\n",
      "Epoch 1/2\n",
      "2532/2532 [==============================] - 3s 1ms/sample - loss: 0.0086\n",
      "Epoch 2/2\n",
      "2532/2532 [==============================] - 2s 771us/sample - loss: 0.0030\n",
      "MSE: 2791758.1488184957, RMSE: 1670.8555140461715)\n",
      "Train on 2532 samples\n",
      "Epoch 1/2\n",
      "2532/2532 [==============================] - 3s 1ms/sample - loss: 0.0352\n",
      "Epoch 2/2\n",
      "2532/2532 [==============================] - 2s 762us/sample - loss: 0.0028\n",
      "MSE: 1699201.8847706814, RMSE: 1303.5343818905128)\n",
      "Train on 2532 samples\n",
      "Epoch 1/2\n",
      "2532/2532 [==============================] - 3s 1ms/sample - loss: 0.0098\n",
      "Epoch 2/2\n",
      "2532/2532 [==============================] - 2s 776us/sample - loss: 0.0029\n",
      "MSE: 2832617.4691065005, RMSE: 1683.0381662655486)\n",
      "Train on 2532 samples\n",
      "Epoch 1/2\n",
      "2532/2532 [==============================] - 3s 1ms/sample - loss: 0.0451\n",
      "Epoch 2/2\n",
      "2532/2532 [==============================] - 2s 777us/sample - loss: 0.0029\n",
      "MSE: 2609286.613156421, RMSE: 1615.3286393661263)\n",
      "Train on 2532 samples\n",
      "Epoch 1/2\n",
      "2532/2532 [==============================] - 3s 1ms/sample - loss: 0.0443\n",
      "Epoch 2/2\n",
      "2532/2532 [==============================] - 2s 774us/sample - loss: 0.0029\n",
      "MSE: 2253446.926058736, RMSE: 1501.1485356415387)\n",
      "Train on 2532 samples\n",
      "Epoch 1/2\n",
      "2532/2532 [==============================] - 3s 1ms/sample - loss: 0.0709\n",
      "Epoch 2/2\n",
      "2532/2532 [==============================] - 2s 774us/sample - loss: 0.0028\n",
      "MSE: 1590345.6126446617, RMSE: 1261.0890581733954)\n",
      "Train on 2532 samples\n",
      "Epoch 1/2\n",
      "2532/2532 [==============================] - 3s 1ms/sample - loss: 0.0249\n",
      "Epoch 2/2\n",
      "2532/2532 [==============================] - 2s 769us/sample - loss: 0.0029\n",
      "MSE: 1949662.0565102224, RMSE: 1396.3029959540381)\n",
      "Train on 2532 samples\n",
      "Epoch 1/2\n",
      "2532/2532 [==============================] - 3s 1ms/sample - loss: 0.0241\n",
      "Epoch 2/2\n",
      "2532/2532 [==============================] - 2s 772us/sample - loss: 0.0030\n",
      "MSE: 1893490.9233076226, RMSE: 1376.0417592891658)\n",
      "Train on 2532 samples\n",
      "Epoch 1/2\n",
      "2532/2532 [==============================] - 3s 1ms/sample - loss: 0.0173\n",
      "Epoch 2/2\n",
      "2532/2532 [==============================] - 2s 771us/sample - loss: 0.0028\n",
      "MSE: 2006727.8541448393, RMSE: 1416.5902209689432)\n",
      "Train on 2532 samples\n",
      "Epoch 1/2\n",
      "2532/2532 [==============================] - 3s 1ms/sample - loss: 0.0884\n",
      "Epoch 2/2\n",
      "2532/2532 [==============================] - 2s 772us/sample - loss: 0.0028\n",
      "MSE: 1657725.6529494158, RMSE: 1287.526952319607)\n",
      "Train on 2532 samples\n",
      "Epoch 1/2\n",
      "2532/2532 [==============================] - 3s 1ms/sample - loss: 0.0744\n",
      "Epoch 2/2\n",
      "2532/2532 [==============================] - 2s 778us/sample - loss: 0.0029\n",
      "MSE: 2069013.9539266566, RMSE: 1438.406741477061)\n",
      "Train on 2532 samples\n",
      "Epoch 1/2\n",
      "2532/2532 [==============================] - 3s 1ms/sample - loss: 0.0300\n",
      "Epoch 2/2\n",
      "2532/2532 [==============================] - 2s 780us/sample - loss: 0.0029\n",
      "MSE: 2543529.345879315, RMSE: 1594.844614963889)\n",
      "Train on 2532 samples\n",
      "Epoch 1/2\n",
      "2532/2532 [==============================] - 3s 1ms/sample - loss: 0.0682\n",
      "Epoch 2/2\n",
      "2532/2532 [==============================] - 2s 769us/sample - loss: 0.0028\n",
      "MSE: 2138277.46060458, RMSE: 1462.2850134650837)\n",
      "Train on 2532 samples\n",
      "Epoch 1/2\n",
      "2532/2532 [==============================] - 3s 1ms/sample - loss: 0.0212\n",
      "Epoch 2/2\n",
      "2532/2532 [==============================] - 2s 780us/sample - loss: 0.0030\n",
      "MSE: 2200335.163618999, RMSE: 1483.3526767491942)\n",
      "Train on 2532 samples\n",
      "Epoch 1/2\n",
      "2532/2532 [==============================] - 3s 1ms/sample - loss: 0.0079\n",
      "Epoch 2/2\n",
      "2532/2532 [==============================] - 2s 775us/sample - loss: 0.0030\n",
      "MSE: 2763117.0583423106, RMSE: 1662.2626321800988)\n",
      "Train on 2532 samples\n",
      "Epoch 1/2\n",
      "2532/2532 [==============================] - 3s 1ms/sample - loss: 0.0989\n",
      "Epoch 2/2\n",
      "2532/2532 [==============================] - 2s 775us/sample - loss: 0.0028\n",
      "MSE: 1541171.8186825789, RMSE: 1241.4394140201039)\n",
      "Train on 2532 samples\n",
      "Epoch 1/2\n",
      "2532/2532 [==============================] - 3s 1ms/sample - loss: 0.0889\n",
      "Epoch 2/2\n",
      "2532/2532 [==============================] - 2s 773us/sample - loss: 0.0028\n",
      "MSE: 2264377.357561914, RMSE: 1504.7848210165844)\n",
      "Train on 2532 samples\n",
      "Epoch 1/2\n",
      "2532/2532 [==============================] - 3s 1ms/sample - loss: 0.0172\n",
      "Epoch 2/2\n",
      "2532/2532 [==============================] - 2s 773us/sample - loss: 0.0029\n",
      "MSE: 4215314.499623915, RMSE: 2053.123108735547)\n",
      "Train on 2532 samples\n",
      "Epoch 1/2\n",
      "2532/2532 [==============================] - 3s 1ms/sample - loss: 0.0232\n",
      "Epoch 2/2\n",
      "2532/2532 [==============================] - 2s 772us/sample - loss: 0.0030\n",
      "MSE: 2116405.271931764, RMSE: 1454.7870194402217)\n",
      "Train on 2532 samples\n",
      "Epoch 1/2\n",
      "2532/2532 [==============================] - 3s 1ms/sample - loss: 0.0301\n",
      "Epoch 2/2\n",
      "2532/2532 [==============================] - 2s 767us/sample - loss: 0.0028\n",
      "MSE: 2411352.271277436, RMSE: 1552.8529457992588)\n",
      "Train on 2532 samples\n",
      "Epoch 1/2\n",
      "2532/2532 [==============================] - 3s 1ms/sample - loss: 0.0422\n",
      "Epoch 2/2\n",
      "2532/2532 [==============================] - 2s 769us/sample - loss: 0.0029\n",
      "MSE: 1739203.6910587428, RMSE: 1318.7887211599675)\n",
      "Train on 2532 samples\n",
      "Epoch 1/2\n",
      "2532/2532 [==============================] - 3s 1ms/sample - loss: 0.1416\n",
      "Epoch 2/2\n",
      "2532/2532 [==============================] - 2s 772us/sample - loss: 0.0028\n",
      "MSE: 1704407.6565426502, RMSE: 1305.5296459838246)\n",
      "Train on 2532 samples\n",
      "Epoch 1/2\n",
      "2532/2532 [==============================] - 3s 1ms/sample - loss: 0.1303\n",
      "Epoch 2/2\n",
      "2532/2532 [==============================] - 2s 771us/sample - loss: 0.0028\n",
      "MSE: 1614742.3957665488, RMSE: 1270.725145641869)\n",
      "Train on 2532 samples\n",
      "Epoch 1/2\n",
      "2532/2532 [==============================] - 3s 1ms/sample - loss: 0.0039\n",
      "Epoch 2/2\n",
      "2532/2532 [==============================] - 2s 777us/sample - loss: 0.0031\n",
      "MSE: 2835240.0647917283, RMSE: 1683.8171114440333)\n",
      "Train on 2532 samples\n",
      "Epoch 1/2\n",
      "2532/2532 [==============================] - 3s 1ms/sample - loss: 0.1172\n",
      "Epoch 2/2\n",
      "2532/2532 [==============================] - 2s 777us/sample - loss: 0.0028\n",
      "MSE: 1888070.0157208487, RMSE: 1374.070600704654)\n",
      "Train on 2532 samples\n",
      "Epoch 1/2\n",
      "2532/2532 [==============================] - 3s 1ms/sample - loss: 0.1925\n",
      "Epoch 2/2\n",
      "2532/2532 [==============================] - 2s 777us/sample - loss: 0.0028\n",
      "MSE: 1897596.976030308, RMSE: 1377.53293101483)\n",
      "Train on 2532 samples\n",
      "Epoch 1/2\n",
      "2532/2532 [==============================] - 3s 1ms/sample - loss: 0.0274\n",
      "Epoch 2/2\n",
      "2532/2532 [==============================] - 2s 780us/sample - loss: 0.0029\n",
      "MSE: 1952170.71943554, RMSE: 1397.2010304303171)\n",
      "Train on 2532 samples\n",
      "Epoch 1/2\n",
      "2532/2532 [==============================] - 3s 1ms/sample - loss: 0.0410\n",
      "Epoch 2/2\n",
      "2532/2532 [==============================] - 2s 775us/sample - loss: 0.0028\n",
      "MSE: 2034519.8751540654, RMSE: 1426.3659681701836)\n",
      "Train on 2532 samples\n",
      "Epoch 1/2\n",
      "2532/2532 [==============================] - 3s 1ms/sample - loss: 0.0050\n",
      "Epoch 2/2\n",
      "2532/2532 [==============================] - 2s 771us/sample - loss: 0.0031\n",
      "MSE: 2811915.124192125, RMSE: 1676.8765977829512)\n",
      "Train on 2532 samples\n",
      "Epoch 1/2\n",
      "2532/2532 [==============================] - 3s 1ms/sample - loss: 0.0043\n",
      "Epoch 2/2\n",
      "2532/2532 [==============================] - 2s 767us/sample - loss: 0.0030\n",
      "MSE: 3281292.0871736286, RMSE: 1811.4337104000324)\n",
      "Train on 2532 samples\n",
      "Epoch 1/2\n",
      "2532/2532 [==============================] - 3s 1ms/sample - loss: 0.1617\n",
      "Epoch 2/2\n",
      "2532/2532 [==============================] - 2s 767us/sample - loss: 0.0029\n",
      "MSE: 1721989.456456146, RMSE: 1312.2459588263725)\n",
      "Train on 2532 samples\n",
      "Epoch 1/2\n",
      "2532/2532 [==============================] - 3s 1ms/sample - loss: 0.0979\n",
      "Epoch 2/2\n",
      "2532/2532 [==============================] - 2s 776us/sample - loss: 0.0028\n",
      "MSE: 1752709.6280149512, RMSE: 1323.899402528361)\n",
      "Train on 2532 samples\n",
      "Epoch 1/2\n",
      "2532/2532 [==============================] - 3s 1ms/sample - loss: 0.0610\n",
      "Epoch 2/2\n",
      "2532/2532 [==============================] - 2s 776us/sample - loss: 0.0028\n",
      "MSE: 2461789.2547052917, RMSE: 1569.0090040230145)\n",
      "Train on 2532 samples\n",
      "Epoch 1/2\n",
      "2532/2532 [==============================] - 3s 1ms/sample - loss: 0.0077\n",
      "Epoch 2/2\n",
      "2532/2532 [==============================] - 2s 778us/sample - loss: 0.0030\n",
      "MSE: 2419699.048379383, RMSE: 1555.5381860884622)\n",
      "Train on 2532 samples\n",
      "Epoch 1/2\n",
      "2532/2532 [==============================] - 3s 1ms/sample - loss: 0.0825\n",
      "Epoch 2/2\n",
      "2532/2532 [==============================] - 2s 769us/sample - loss: 0.0028\n",
      "MSE: 1564552.5383170408, RMSE: 1250.8207458772984)\n",
      "Train on 2532 samples\n",
      "Epoch 1/2\n",
      "2532/2532 [==============================] - 3s 1ms/sample - loss: 0.0035\n",
      "Epoch 2/2\n",
      "2532/2532 [==============================] - 2s 775us/sample - loss: 0.0030\n",
      "MSE: 2745329.302473332, RMSE: 1656.903528414775)\n",
      "Train on 2532 samples\n",
      "Epoch 1/2\n",
      "2532/2532 [==============================] - 3s 1ms/sample - loss: 0.0193\n",
      "Epoch 2/2\n",
      "2532/2532 [==============================] - 2s 774us/sample - loss: 0.0029\n",
      "MSE: 1771475.0903554182, RMSE: 1330.9677270149784)\n",
      "Train on 2532 samples\n",
      "Epoch 1/2\n",
      "2532/2532 [==============================] - 3s 1ms/sample - loss: 0.0042\n",
      "Epoch 2/2\n",
      "2532/2532 [==============================] - 2s 771us/sample - loss: 0.0029\n",
      "MSE: 4047421.7693638583, RMSE: 2011.8205112195915)\n",
      "Train on 2532 samples\n",
      "Epoch 1/2\n",
      "2532/2532 [==============================] - 3s 1ms/sample - loss: 0.0794\n",
      "Epoch 2/2\n",
      "2532/2532 [==============================] - 2s 773us/sample - loss: 0.0029\n",
      "MSE: 1333554.252720556, RMSE: 1154.7961953178387)\n",
      "Train on 2532 samples\n",
      "Epoch 1/2\n",
      "2532/2532 [==============================] - 3s 1ms/sample - loss: 0.0744\n",
      "Epoch 2/2\n",
      "2532/2532 [==============================] - 2s 780us/sample - loss: 0.0029\n",
      "MSE: 2318114.6385601875, RMSE: 1522.5355951701713)\n",
      "Train on 2532 samples\n",
      "Epoch 1/2\n",
      "2532/2532 [==============================] - 3s 1ms/sample - loss: 0.0136\n",
      "Epoch 2/2\n",
      "2532/2532 [==============================] - 2s 780us/sample - loss: 0.0031\n",
      "MSE: 2435400.369435762, RMSE: 1560.5769348019219)\n",
      "Train on 2532 samples\n",
      "Epoch 1/2\n",
      "2532/2532 [==============================] - 3s 1ms/sample - loss: 0.0780\n",
      "Epoch 2/2\n",
      "2532/2532 [==============================] - 2s 779us/sample - loss: 0.0028\n",
      "MSE: 1751480.7861672123, RMSE: 1323.435221749524)\n",
      "Train on 2532 samples\n",
      "Epoch 1/2\n",
      "2532/2532 [==============================] - 3s 1ms/sample - loss: 0.2202\n",
      "Epoch 2/2\n",
      "2532/2532 [==============================] - 2s 771us/sample - loss: 0.0029\n",
      "MSE: 1160476.2087423482, RMSE: 1077.2540131010644)\n",
      "Train on 2532 samples\n",
      "Epoch 1/2\n",
      "2532/2532 [==============================] - 3s 1ms/sample - loss: 0.0802\n",
      "Epoch 2/2\n",
      "2532/2532 [==============================] - 2s 773us/sample - loss: 0.0030\n",
      "MSE: 1522309.630308713, RMSE: 1233.8191238219292)\n",
      "Train on 2532 samples\n",
      "Epoch 1/2\n",
      "2532/2532 [==============================] - 3s 1ms/sample - loss: 0.1306\n",
      "Epoch 2/2\n",
      "2532/2532 [==============================] - 2s 769us/sample - loss: 0.0028\n",
      "MSE: 1505649.4291815113, RMSE: 1227.049073664746)\n",
      "Train on 2532 samples\n",
      "Epoch 1/2\n",
      "2532/2532 [==============================] - 3s 1ms/sample - loss: 0.0554\n",
      "Epoch 2/2\n",
      "2532/2532 [==============================] - 2s 778us/sample - loss: 0.0029\n",
      "MSE: 2522068.971594694, RMSE: 1588.1023177348159)\n",
      "Train on 2532 samples\n",
      "Epoch 1/2\n",
      "2532/2532 [==============================] - 3s 1ms/sample - loss: 0.0419\n",
      "Epoch 2/2\n",
      "2532/2532 [==============================] - 2s 775us/sample - loss: 0.0030\n",
      "MSE: 2229057.975437271, RMSE: 1493.0030058366497)\n",
      "Train on 2532 samples\n",
      "Epoch 1/2\n",
      "2532/2532 [==============================] - 3s 1ms/sample - loss: 0.0511\n",
      "Epoch 2/2\n",
      "2532/2532 [==============================] - 2s 778us/sample - loss: 0.0029\n",
      "MSE: 1542019.9359513253, RMSE: 1241.780953288995)\n",
      "Train on 2532 samples\n",
      "Epoch 1/2\n",
      "2532/2532 [==============================] - 3s 1ms/sample - loss: 0.0349\n",
      "Epoch 2/2\n",
      "2532/2532 [==============================] - 2s 784us/sample - loss: 0.0029\n",
      "MSE: 1844312.2189239992, RMSE: 1358.0545714086747)\n",
      "Train on 2532 samples\n",
      "Epoch 1/2\n",
      "2532/2532 [==============================] - 3s 1ms/sample - loss: 0.0536\n",
      "Epoch 2/2\n",
      "2532/2532 [==============================] - 2s 781us/sample - loss: 0.0028\n",
      "MSE: 2017111.3689683324, RMSE: 1420.2504599430104)\n",
      "Train on 2532 samples\n",
      "Epoch 1/2\n",
      "2532/2532 [==============================] - 3s 1ms/sample - loss: 0.0056\n",
      "Epoch 2/2\n",
      "2532/2532 [==============================] - 2s 775us/sample - loss: 0.0029\n",
      "MSE: 4665569.317138955, RMSE: 2159.992897474192)\n",
      "Train on 2532 samples\n",
      "Epoch 1/2\n",
      "2532/2532 [==============================] - 3s 1ms/sample - loss: 0.1490\n",
      "Epoch 2/2\n",
      "2532/2532 [==============================] - 2s 773us/sample - loss: 0.0028\n",
      "MSE: 1905386.3941164534, RMSE: 1380.357342906703)\n",
      "Train on 2532 samples\n",
      "Epoch 1/2\n",
      "2532/2532 [==============================] - 3s 1ms/sample - loss: 0.0402\n",
      "Epoch 2/2\n",
      "2532/2532 [==============================] - 2s 777us/sample - loss: 0.0030\n",
      "MSE: 1913275.2677407435, RMSE: 1383.2119388368303)\n",
      "Train on 2532 samples\n",
      "Epoch 1/2\n",
      "2532/2532 [==============================] - 3s 1ms/sample - loss: 0.0492\n",
      "Epoch 2/2\n",
      "2532/2532 [==============================] - 2s 771us/sample - loss: 0.0029\n",
      "MSE: 1901834.0457377082, RMSE: 1379.0699930524586)\n",
      "Train on 2532 samples\n",
      "Epoch 1/2\n",
      "2532/2532 [==============================] - 3s 1ms/sample - loss: 0.0036\n",
      "Epoch 2/2\n",
      "2532/2532 [==============================] - 2s 774us/sample - loss: 0.0030\n",
      "MSE: 2005473.5639449505, RMSE: 1416.1474372200623)\n",
      "Train on 2532 samples\n",
      "Epoch 1/2\n",
      "2532/2532 [==============================] - 3s 1ms/sample - loss: 0.0685\n",
      "Epoch 2/2\n",
      "2532/2532 [==============================] - 2s 774us/sample - loss: 0.0028\n",
      "MSE: 1747930.4784910975, RMSE: 1322.0932185330569)\n",
      "Train on 2532 samples\n",
      "Epoch 1/2\n",
      "2532/2532 [==============================] - 3s 1ms/sample - loss: 0.0638\n",
      "Epoch 2/2\n",
      "2532/2532 [==============================] - 2s 777us/sample - loss: 0.0028\n",
      "MSE: 1826304.0342634025, RMSE: 1351.4081671587612)\n",
      "Train on 2532 samples\n",
      "Epoch 1/2\n",
      "2532/2532 [==============================] - 3s 1ms/sample - loss: 0.0214\n",
      "Epoch 2/2\n",
      "2532/2532 [==============================] - 2s 774us/sample - loss: 0.0030\n",
      "MSE: 1741092.4714372687, RMSE: 1319.5046310783712)\n",
      "Train on 2532 samples\n",
      "Epoch 1/2\n",
      "2532/2532 [==============================] - 3s 1ms/sample - loss: 0.0866\n",
      "Epoch 2/2\n",
      "2532/2532 [==============================] - 2s 776us/sample - loss: 0.0028\n",
      "MSE: 1286573.2447814553, RMSE: 1134.2721211338376)\n",
      "Train on 2532 samples\n",
      "Epoch 1/2\n",
      "2532/2532 [==============================] - 3s 1ms/sample - loss: 0.0277\n",
      "Epoch 2/2\n",
      "2532/2532 [==============================] - 2s 782us/sample - loss: 0.0030\n",
      "MSE: 2717385.5543103, RMSE: 1648.4494394158105)\n",
      "Train on 2532 samples\n",
      "Epoch 1/2\n",
      "2532/2532 [==============================] - 3s 1ms/sample - loss: 0.0272\n",
      "Epoch 2/2\n",
      "2532/2532 [==============================] - 2s 773us/sample - loss: 0.0029\n",
      "MSE: 6295393.67084345, RMSE: 2509.0623090795193)\n",
      "Train on 2532 samples\n",
      "Epoch 1/2\n",
      "2532/2532 [==============================] - 3s 1ms/sample - loss: 0.0088\n",
      "Epoch 2/2\n",
      "2532/2532 [==============================] - 2s 775us/sample - loss: 0.0029\n",
      "MSE: 3431249.6320793163, RMSE: 1852.363255973114)\n",
      "Train on 2532 samples\n",
      "Epoch 1/2\n",
      "2532/2532 [==============================] - 3s 1ms/sample - loss: 0.0157\n",
      "Epoch 2/2\n",
      "2532/2532 [==============================] - 2s 777us/sample - loss: 0.0031\n",
      "MSE: 2504924.1341641597, RMSE: 1582.695212024147)\n",
      "Train on 2532 samples\n",
      "Epoch 1/2\n",
      "2532/2532 [==============================] - 3s 1ms/sample - loss: 0.0372\n",
      "Epoch 2/2\n",
      "2532/2532 [==============================] - 2s 773us/sample - loss: 0.0028\n",
      "MSE: 2313662.3323049545, RMSE: 1521.072757071454)\n",
      "Train on 2532 samples\n",
      "Epoch 1/2\n",
      "2532/2532 [==============================] - 3s 1ms/sample - loss: 0.0131\n",
      "Epoch 2/2\n",
      "2532/2532 [==============================] - 2s 772us/sample - loss: 0.0028\n",
      "MSE: 3219575.6797068818, RMSE: 1794.3176083700682)\n",
      "Train on 2532 samples\n",
      "Epoch 1/2\n",
      "2532/2532 [==============================] - 3s 1ms/sample - loss: 0.0097\n",
      "Epoch 2/2\n",
      "2532/2532 [==============================] - 2s 775us/sample - loss: 0.0029\n",
      "MSE: 1981684.9372231916, RMSE: 1407.7233169991864)\n",
      "Train on 2532 samples\n",
      "Epoch 1/2\n",
      "2532/2532 [==============================] - 3s 1ms/sample - loss: 0.0291\n",
      "Epoch 2/2\n",
      "2532/2532 [==============================] - 2s 781us/sample - loss: 0.0029\n",
      "MSE: 1591662.6194062375, RMSE: 1261.6111205146526)\n",
      "Train on 2532 samples\n",
      "Epoch 1/2\n",
      "2532/2532 [==============================] - 3s 1ms/sample - loss: 0.1598\n",
      "Epoch 2/2\n",
      "2532/2532 [==============================] - 2s 777us/sample - loss: 0.0029\n",
      "MSE: 2272329.047713911, RMSE: 1507.4246408075965)\n",
      "Train on 2532 samples\n",
      "Epoch 1/2\n",
      "2532/2532 [==============================] - 3s 1ms/sample - loss: 0.0039\n",
      "Epoch 2/2\n",
      "2532/2532 [==============================] - 2s 776us/sample - loss: 0.0030\n",
      "MSE: 2432870.494287876, RMSE: 1559.7661665415992)\n",
      "Train on 2532 samples\n",
      "Epoch 1/2\n",
      "2532/2532 [==============================] - 3s 1ms/sample - loss: 0.1104\n",
      "Epoch 2/2\n",
      "2532/2532 [==============================] - 2s 778us/sample - loss: 0.0028\n",
      "MSE: 1821772.3319330162, RMSE: 1349.7304664017242)\n",
      "Train on 2532 samples\n",
      "Epoch 1/2\n",
      "2532/2532 [==============================] - 3s 1ms/sample - loss: 0.0379\n",
      "Epoch 2/2\n",
      "2532/2532 [==============================] - 2s 777us/sample - loss: 0.0028\n",
      "MSE: 1695446.1131309713, RMSE: 1302.0929740732693)\n",
      "Train on 2532 samples\n",
      "Epoch 1/2\n",
      "2532/2532 [==============================] - 3s 1ms/sample - loss: 0.0379\n",
      "Epoch 2/2\n",
      "2532/2532 [==============================] - 2s 769us/sample - loss: 0.0029\n",
      "MSE: 1804771.0703802938, RMSE: 1343.4176827704382)\n",
      "Train on 2532 samples\n",
      "Epoch 1/2\n",
      "2532/2532 [==============================] - 3s 1ms/sample - loss: 0.0095\n",
      "Epoch 2/2\n",
      "2532/2532 [==============================] - 2s 769us/sample - loss: 0.0029\n",
      "MSE: 2780320.7208708455, RMSE: 1667.429375077351)\n",
      "Train on 2532 samples\n",
      "Epoch 1/2\n",
      "2532/2532 [==============================] - 3s 1ms/sample - loss: 0.0093\n",
      "Epoch 2/2\n",
      "2532/2532 [==============================] - 2s 780us/sample - loss: 0.0029\n",
      "MSE: 2631603.3738081744, RMSE: 1622.2217400245179)\n",
      "Train on 2532 samples\n",
      "Epoch 1/2\n",
      "2532/2532 [==============================] - 3s 1ms/sample - loss: 0.0058\n",
      "Epoch 2/2\n",
      "2532/2532 [==============================] - 2s 781us/sample - loss: 0.0029\n",
      "MSE: 1954134.32291399, RMSE: 1397.9035456403958)\n",
      "Train on 2532 samples\n",
      "Epoch 1/2\n",
      "2532/2532 [==============================] - 3s 1ms/sample - loss: 0.2817\n",
      "Epoch 2/2\n",
      "2532/2532 [==============================] - 2s 777us/sample - loss: 0.0029\n",
      "MSE: 1519258.1405456632, RMSE: 1232.5819001371322)\n",
      "Train on 2532 samples\n",
      "Epoch 1/2\n",
      "2532/2532 [==============================] - 3s 1ms/sample - loss: 0.1240\n",
      "Epoch 2/2\n",
      "2532/2532 [==============================] - 2s 780us/sample - loss: 0.0028\n",
      "MSE: 1897509.8268067937, RMSE: 1377.5012982958651)\n",
      "Train on 2532 samples\n",
      "Epoch 1/2\n",
      "2532/2532 [==============================] - 3s 1ms/sample - loss: 0.1161\n",
      "Epoch 2/2\n",
      "2532/2532 [==============================] - 2s 776us/sample - loss: 0.0028\n",
      "MSE: 2140903.9867588975, RMSE: 1463.182827523238)\n",
      "Train on 2532 samples\n",
      "Epoch 1/2\n",
      "2532/2532 [==============================] - 3s 1ms/sample - loss: 0.0298\n",
      "Epoch 2/2\n",
      "2532/2532 [==============================] - 2s 772us/sample - loss: 0.0028\n",
      "MSE: 3066302.593964987, RMSE: 1751.086118374818)\n",
      "Train on 2532 samples\n",
      "Epoch 1/2\n",
      "2532/2532 [==============================] - 3s 1ms/sample - loss: 0.0580\n",
      "Epoch 2/2\n",
      "2532/2532 [==============================] - 2s 774us/sample - loss: 0.0028\n",
      "MSE: 2107221.1574482066, RMSE: 1451.627072442577)\n",
      "Train on 2532 samples\n",
      "Epoch 1/2\n",
      "2532/2532 [==============================] - 3s 1ms/sample - loss: 0.0111\n",
      "Epoch 2/2\n",
      "2532/2532 [==============================] - 2s 770us/sample - loss: 0.0030\n",
      "MSE: 1851971.2873368924, RMSE: 1360.8715175713292)\n",
      "Train on 2532 samples\n",
      "Epoch 1/2\n",
      "2532/2532 [==============================] - 3s 1ms/sample - loss: 0.0879\n",
      "Epoch 2/2\n",
      "2532/2532 [==============================] - 2s 773us/sample - loss: 0.0029\n",
      "MSE: 2456790.94438121, RMSE: 1567.4153707237945)\n",
      "Train on 2532 samples\n",
      "Epoch 1/2\n",
      "2532/2532 [==============================] - 3s 1ms/sample - loss: 0.1072\n",
      "Epoch 2/2\n",
      "2532/2532 [==============================] - 2s 769us/sample - loss: 0.0029\n",
      "MSE: 1897157.9119426077, RMSE: 1377.3735557003436)\n",
      "Train on 2532 samples\n",
      "Epoch 1/2\n",
      "2532/2532 [==============================] - 3s 1ms/sample - loss: 0.0386\n",
      "Epoch 2/2\n",
      "2532/2532 [==============================] - 2s 774us/sample - loss: 0.0028\n",
      "MSE: 1719166.6798355866, RMSE: 1311.1699660362826)\n",
      "Train on 2532 samples\n",
      "Epoch 1/2\n",
      "2532/2532 [==============================] - 3s 1ms/sample - loss: 0.0176\n",
      "Epoch 2/2\n",
      "2532/2532 [==============================] - 2s 777us/sample - loss: 0.0029\n",
      "MSE: 1963783.4022015778, RMSE: 1401.3505636355158)\n",
      "Train on 2532 samples\n",
      "Epoch 1/2\n",
      "2532/2532 [==============================] - 3s 1ms/sample - loss: 0.0818\n",
      "Epoch 2/2\n",
      "2532/2532 [==============================] - 2s 776us/sample - loss: 0.0029\n",
      "MSE: 2293334.505668225, RMSE: 1514.3759459487678)\n",
      "Train on 2532 samples\n",
      "Epoch 1/2\n",
      "2532/2532 [==============================] - 3s 1ms/sample - loss: 0.0035\n",
      "Epoch 2/2\n",
      "2532/2532 [==============================] - 2s 770us/sample - loss: 0.0032\n",
      "MSE: 1933308.4509927344, RMSE: 1390.4346266519453)\n",
      "Train on 2532 samples\n",
      "Epoch 1/2\n",
      "2532/2532 [==============================] - 3s 1ms/sample - loss: 0.0380\n",
      "Epoch 2/2\n",
      "2532/2532 [==============================] - 2s 770us/sample - loss: 0.0028\n",
      "MSE: 1835230.8733687638, RMSE: 1354.7069326495541)\n",
      "Train on 2532 samples\n",
      "Epoch 1/2\n",
      "2532/2532 [==============================] - 3s 1ms/sample - loss: 0.0625\n",
      "Epoch 2/2\n",
      "2532/2532 [==============================] - 2s 776us/sample - loss: 0.0029\n",
      "MSE: 2706577.7696320075, RMSE: 1645.1680065063288)\n",
      "Train on 2532 samples\n",
      "Epoch 1/2\n",
      "2532/2532 [==============================] - 3s 1ms/sample - loss: 0.1445\n",
      "Epoch 2/2\n",
      "2532/2532 [==============================] - 2s 779us/sample - loss: 0.0028\n",
      "MSE: 1609067.3458399738, RMSE: 1268.490183580454)\n",
      "Train on 2532 samples\n",
      "Epoch 1/2\n",
      "2532/2532 [==============================] - 3s 1ms/sample - loss: 0.0824\n",
      "Epoch 2/2\n",
      "2532/2532 [==============================] - 2s 778us/sample - loss: 0.0028\n",
      "MSE: 1561651.92792816, RMSE: 1249.6607251282885)\n",
      "Train on 2532 samples\n",
      "Epoch 1/2\n",
      "2532/2532 [==============================] - 3s 1ms/sample - loss: 0.0583\n",
      "Epoch 2/2\n",
      "2532/2532 [==============================] - 2s 768us/sample - loss: 0.0028\n",
      "MSE: 1803665.94823568, RMSE: 1343.0063098272026)\n",
      "Train on 2532 samples\n",
      "Epoch 1/2\n",
      "2532/2532 [==============================] - 3s 1ms/sample - loss: 0.1290\n",
      "Epoch 2/2\n",
      "2532/2532 [==============================] - 2s 773us/sample - loss: 0.0028\n",
      "MSE: 2466477.8455199627, RMSE: 1570.5024181834178)\n",
      "Train on 2532 samples\n",
      "Epoch 1/2\n",
      "2532/2532 [==============================] - 3s 1ms/sample - loss: 0.0104\n",
      "Epoch 2/2\n",
      "2532/2532 [==============================] - 2s 772us/sample - loss: 0.0030\n",
      "MSE: 2151789.510511519, RMSE: 1466.89792095821)\n",
      "Train on 2532 samples\n",
      "Epoch 1/2\n",
      "2532/2532 [==============================] - 3s 1ms/sample - loss: 0.0836\n",
      "Epoch 2/2\n",
      "2532/2532 [==============================] - 2s 779us/sample - loss: 0.0028\n",
      "MSE: 2021551.3737642297, RMSE: 1421.8127069921093)\n",
      "Train on 2532 samples\n",
      "Epoch 1/2\n",
      "2532/2532 [==============================] - 3s 1ms/sample - loss: 0.0864\n",
      "Epoch 2/2\n",
      "2532/2532 [==============================] - 2s 775us/sample - loss: 0.0029\n",
      "MSE: 1754226.3132672405, RMSE: 1324.472088519513)\n",
      "Train on 2532 samples\n",
      "Epoch 1/2\n",
      "2532/2532 [==============================] - 3s 1ms/sample - loss: 0.0704\n",
      "Epoch 2/2\n",
      "2532/2532 [==============================] - 2s 778us/sample - loss: 0.0029\n",
      "MSE: 1598312.1755485719, RMSE: 1264.2437168317554)\n",
      "Train on 2532 samples\n",
      "Epoch 1/2\n",
      "2532/2532 [==============================] - 3s 1ms/sample - loss: 0.0225\n",
      "Epoch 2/2\n",
      "2532/2532 [==============================] - 2s 775us/sample - loss: 0.0029\n",
      "MSE: 2297038.83628299, RMSE: 1515.598507614398)\n",
      "Train on 2532 samples\n",
      "Epoch 1/2\n",
      "2532/2532 [==============================] - 3s 1ms/sample - loss: 0.0172\n",
      "Epoch 2/2\n",
      "2532/2532 [==============================] - 2s 777us/sample - loss: 0.0030\n",
      "MSE: 1794387.7092376584, RMSE: 1339.5475763248046)\n",
      "Train on 2532 samples\n",
      "Epoch 1/2\n",
      "2532/2532 [==============================] - 3s 1ms/sample - loss: 0.0120\n",
      "Epoch 2/2\n",
      "2532/2532 [==============================] - 2s 772us/sample - loss: 0.0029\n",
      "MSE: 3804298.6985868863, RMSE: 1950.4611502377807)\n",
      "Train on 2532 samples\n",
      "Epoch 1/2\n",
      "2532/2532 [==============================] - 3s 1ms/sample - loss: 0.0394\n",
      "Epoch 2/2\n",
      "2532/2532 [==============================] - 2s 771us/sample - loss: 0.0030\n",
      "MSE: 1956570.6901628845, RMSE: 1398.7747102957233)\n",
      "Train on 2532 samples\n",
      "Epoch 1/2\n",
      "2532/2532 [==============================] - 3s 1ms/sample - loss: 0.0050\n",
      "Epoch 2/2\n",
      "2532/2532 [==============================] - 2s 774us/sample - loss: 0.0030\n",
      "MSE: 3008134.233221919, RMSE: 1734.3973688926994)\n",
      "Train on 2532 samples\n",
      "Epoch 1/2\n",
      "2532/2532 [==============================] - 3s 1ms/sample - loss: 0.0075\n",
      "Epoch 2/2\n",
      "2532/2532 [==============================] - 2s 773us/sample - loss: 0.0029\n",
      "MSE: 2066373.2048655336, RMSE: 1437.4885059942335)\n",
      "Train on 2532 samples\n",
      "Epoch 1/2\n",
      "2532/2532 [==============================] - 3s 1ms/sample - loss: 0.1233\n",
      "Epoch 2/2\n",
      "2532/2532 [==============================] - 2s 772us/sample - loss: 0.0028\n",
      "MSE: 2307499.6991861355, RMSE: 1519.0456540822383)\n",
      "Train on 2532 samples\n",
      "Epoch 1/2\n",
      "2532/2532 [==============================] - 3s 1ms/sample - loss: 0.1698\n",
      "Epoch 2/2\n",
      "2532/2532 [==============================] - 2s 768us/sample - loss: 0.0029\n",
      "MSE: 1129759.246028333, RMSE: 1062.901334098482)\n",
      "Train on 2532 samples\n",
      "Epoch 1/2\n",
      "2532/2532 [==============================] - 3s 1ms/sample - loss: 0.0494\n",
      "Epoch 2/2\n",
      "2532/2532 [==============================] - 2s 788us/sample - loss: 0.0029\n",
      "MSE: 1997249.1761417715, RMSE: 1413.2406646221907)\n",
      "Train on 2532 samples\n",
      "Epoch 1/2\n",
      "2532/2532 [==============================] - 3s 1ms/sample - loss: 0.0635\n",
      "Epoch 2/2\n",
      "2532/2532 [==============================] - 2s 766us/sample - loss: 0.0028\n",
      "MSE: 1780822.9878677214, RMSE: 1334.4747985135282)\n",
      "Train on 2532 samples\n",
      "Epoch 1/2\n",
      "2532/2532 [==============================] - 3s 1ms/sample - loss: 0.0970\n",
      "Epoch 2/2\n",
      "2532/2532 [==============================] - 2s 780us/sample - loss: 0.0028\n",
      "MSE: 1782975.721033982, RMSE: 1335.2811393238437)\n",
      "Train on 2532 samples\n",
      "Epoch 1/2\n",
      "2532/2532 [==============================] - 3s 1ms/sample - loss: 0.0472\n",
      "Epoch 2/2\n",
      "2532/2532 [==============================] - 2s 784us/sample - loss: 0.0028\n",
      "MSE: 2757877.60469251, RMSE: 1660.68588381202)\n",
      "Train on 2532 samples\n",
      "Epoch 1/2\n",
      "2532/2532 [==============================] - 3s 1ms/sample - loss: 0.2108\n",
      "Epoch 2/2\n",
      "2532/2532 [==============================] - 2s 801us/sample - loss: 0.0028\n",
      "MSE: 1616547.5692133477, RMSE: 1271.4352398818226)\n",
      "Train on 2532 samples\n",
      "Epoch 1/2\n",
      "2532/2532 [==============================] - 3s 1ms/sample - loss: 0.1249\n",
      "Epoch 2/2\n",
      "2532/2532 [==============================] - 2s 817us/sample - loss: 0.0028\n",
      "MSE: 2014556.0893627766, RMSE: 1419.3505871921766)\n",
      "Train on 2532 samples\n",
      "Epoch 1/2\n",
      "2532/2532 [==============================] - 3s 1ms/sample - loss: 0.0123\n",
      "Epoch 2/2\n",
      "2532/2532 [==============================] - 2s 787us/sample - loss: 0.0029\n",
      "MSE: 3998363.2697562557, RMSE: 1999.590775572906)\n",
      "Train on 2532 samples\n",
      "Epoch 1/2\n",
      "2532/2532 [==============================] - 3s 1ms/sample - loss: 0.0685\n",
      "Epoch 2/2\n",
      "2532/2532 [==============================] - 2s 785us/sample - loss: 0.0029\n",
      "MSE: 2164666.0628692214, RMSE: 1471.2804161237318)\n",
      "Train on 2532 samples\n",
      "Epoch 1/2\n",
      "2532/2532 [==============================] - 3s 1ms/sample - loss: 0.1388\n",
      "Epoch 2/2\n",
      "2532/2532 [==============================] - 2s 782us/sample - loss: 0.0029\n",
      "MSE: 1978198.845004563, RMSE: 1406.4845697712303)\n",
      "Train on 2532 samples\n",
      "Epoch 1/2\n",
      "2532/2532 [==============================] - 3s 1ms/sample - loss: 0.0044\n",
      "Epoch 2/2\n",
      "2532/2532 [==============================] - 2s 781us/sample - loss: 0.0030\n",
      "MSE: 2198455.2121580513, RMSE: 1482.7188580975328)\n",
      "Train on 2532 samples\n",
      "Epoch 1/2\n",
      "2532/2532 [==============================] - 3s 1ms/sample - loss: 0.0347\n",
      "Epoch 2/2\n",
      "2532/2532 [==============================] - 2s 791us/sample - loss: 0.0029\n",
      "MSE: 2342807.0768913147, RMSE: 1530.6231008616442)\n",
      "Train on 2532 samples\n",
      "Epoch 1/2\n",
      "2532/2532 [==============================] - 3s 1ms/sample - loss: 0.0812\n",
      "Epoch 2/2\n",
      "2532/2532 [==============================] - 2s 796us/sample - loss: 0.0029\n",
      "MSE: 1968882.4415479724, RMSE: 1403.168714569981)\n",
      "Train on 2532 samples\n",
      "Epoch 1/2\n",
      "2532/2532 [==============================] - 3s 1ms/sample - loss: 0.0604\n",
      "Epoch 2/2\n",
      "2532/2532 [==============================] - 2s 796us/sample - loss: 0.0029\n",
      "MSE: 1910529.8122689384, RMSE: 1382.2191621696388)\n",
      "Train on 2532 samples\n",
      "Epoch 1/2\n",
      "2532/2532 [==============================] - 3s 1ms/sample - loss: 0.0495\n",
      "Epoch 2/2\n",
      "2532/2532 [==============================] - 2s 831us/sample - loss: 0.0029\n",
      "MSE: 1770792.0685375605, RMSE: 1330.71111385513)\n",
      "Train on 2532 samples\n",
      "Epoch 1/2\n",
      "2532/2532 [==============================] - 3s 1ms/sample - loss: 0.0288\n",
      "Epoch 2/2\n",
      "2532/2532 [==============================] - 2s 783us/sample - loss: 0.0029\n",
      "MSE: 1854992.1008270548, RMSE: 1361.98094730692)\n",
      "Train on 2532 samples\n",
      "Epoch 1/2\n",
      "2532/2532 [==============================] - 3s 1ms/sample - loss: 0.0145\n",
      "Epoch 2/2\n",
      "2532/2532 [==============================] - 2s 778us/sample - loss: 0.0028\n",
      "MSE: 2157794.13958154, RMSE: 1468.9432050224202)\n",
      "Train on 2532 samples\n",
      "Epoch 1/2\n",
      "2532/2532 [==============================] - 3s 1ms/sample - loss: 0.0672\n",
      "Epoch 2/2\n",
      "2532/2532 [==============================] - 2s 788us/sample - loss: 0.0029\n",
      "MSE: 2508971.3280487903, RMSE: 1583.9732725171818)\n",
      "Train on 2532 samples\n",
      "Epoch 1/2\n",
      "2532/2532 [==============================] - 3s 1ms/sample - loss: 0.0110\n",
      "Epoch 2/2\n",
      "2532/2532 [==============================] - 2s 787us/sample - loss: 0.0029\n",
      "MSE: 2270601.4072723407, RMSE: 1506.8514881275928)\n",
      "Train on 2532 samples\n",
      "Epoch 1/2\n",
      "2532/2532 [==============================] - 3s 1ms/sample - loss: 0.0443\n",
      "Epoch 2/2\n",
      "2532/2532 [==============================] - 2s 819us/sample - loss: 0.0028\n",
      "MSE: 1553287.5465072829, RMSE: 1246.3095708961248)\n",
      "Train on 2532 samples\n",
      "Epoch 1/2\n",
      "2532/2532 [==============================] - 3s 1ms/sample - loss: 0.0924\n",
      "Epoch 2/2\n",
      "2532/2532 [==============================] - 2s 786us/sample - loss: 0.0028\n",
      "MSE: 1918565.139274461, RMSE: 1385.1227885189317)\n",
      "Train on 2532 samples\n",
      "Epoch 1/2\n",
      "2532/2532 [==============================] - 3s 1ms/sample - loss: 0.0461\n",
      "Epoch 2/2\n",
      "2532/2532 [==============================] - 2s 793us/sample - loss: 0.0029\n",
      "MSE: 1748397.2072983405, RMSE: 1322.2697180599503)\n",
      "Train on 2532 samples\n",
      "Epoch 1/2\n",
      "2532/2532 [==============================] - 3s 1ms/sample - loss: 0.1163\n",
      "Epoch 2/2\n",
      "2532/2532 [==============================] - 2s 790us/sample - loss: 0.0028\n",
      "MSE: 1588139.1997763878, RMSE: 1260.2139500007083)\n",
      "Train on 2532 samples\n",
      "Epoch 1/2\n",
      "2532/2532 [==============================] - 3s 1ms/sample - loss: 0.1006\n",
      "Epoch 2/2\n",
      "2532/2532 [==============================] - 2s 786us/sample - loss: 0.0028\n",
      "MSE: 1693624.7210057883, RMSE: 1301.3933767334872)\n",
      "Train on 2532 samples\n",
      "Epoch 1/2\n",
      "2532/2532 [==============================] - 3s 1ms/sample - loss: 0.0504\n",
      "Epoch 2/2\n",
      "2532/2532 [==============================] - 2s 786us/sample - loss: 0.0029\n",
      "MSE: 5024972.203214613, RMSE: 2241.6449770680933)\n",
      "Train on 2532 samples\n",
      "Epoch 1/2\n",
      "2532/2532 [==============================] - 3s 1ms/sample - loss: 0.1000\n",
      "Epoch 2/2\n",
      "2532/2532 [==============================] - 2s 779us/sample - loss: 0.0029\n",
      "MSE: 1441955.6309581697, RMSE: 1200.8145697642788)\n",
      "Train on 2532 samples\n",
      "Epoch 1/2\n",
      "2532/2532 [==============================] - 3s 1ms/sample - loss: 0.0692\n",
      "Epoch 2/2\n",
      "2532/2532 [==============================] - 2s 768us/sample - loss: 0.0028\n",
      "MSE: 1805995.300575404, RMSE: 1343.8732457249844)\n",
      "Train on 2532 samples\n",
      "Epoch 1/2\n",
      "2532/2532 [==============================] - 3s 1ms/sample - loss: 0.0131\n",
      "Epoch 2/2\n",
      "2532/2532 [==============================] - 2s 796us/sample - loss: 0.0029\n",
      "MSE: 3304309.9779866766, RMSE: 1817.7761077719877)\n",
      "Train on 2532 samples\n",
      "Epoch 1/2\n",
      "2532/2532 [==============================] - 3s 1ms/sample - loss: 0.0896\n",
      "Epoch 2/2\n",
      "2532/2532 [==============================] - 2s 777us/sample - loss: 0.0028\n",
      "MSE: 1748935.8496702241, RMSE: 1322.4733833503888)\n",
      "Train on 2532 samples\n",
      "Epoch 1/2\n",
      "2532/2532 [==============================] - 3s 1ms/sample - loss: 0.0304\n",
      "Epoch 2/2\n",
      "2532/2532 [==============================] - 2s 780us/sample - loss: 0.0029\n",
      "MSE: 2309041.612340167, RMSE: 1519.5530962556613)\n",
      "Train on 2532 samples\n",
      "Epoch 1/2\n",
      "2532/2532 [==============================] - 3s 1ms/sample - loss: 0.0350\n",
      "Epoch 2/2\n",
      "2532/2532 [==============================] - 2s 801us/sample - loss: 0.0030\n",
      "MSE: 2107676.2578586848, RMSE: 1451.7838192577726)\n",
      "Train on 2532 samples\n",
      "Epoch 1/2\n",
      "2532/2532 [==============================] - 3s 1ms/sample - loss: 0.0939\n",
      "Epoch 2/2\n",
      "2532/2532 [==============================] - 2s 797us/sample - loss: 0.0028\n",
      "MSE: 1753637.716858075, RMSE: 1324.2498694952078)\n",
      "Train on 2532 samples\n",
      "Epoch 1/2\n",
      "2532/2532 [==============================] - 3s 1ms/sample - loss: 0.0124\n",
      "Epoch 2/2\n",
      "2532/2532 [==============================] - 2s 803us/sample - loss: 0.0029\n",
      "MSE: 2690617.220753328, RMSE: 1640.310098960964)\n",
      "Train on 2532 samples\n",
      "Epoch 1/2\n",
      "2532/2532 [==============================] - 3s 1ms/sample - loss: 0.1069\n",
      "Epoch 2/2\n",
      "2532/2532 [==============================] - 2s 829us/sample - loss: 0.0028\n",
      "MSE: 2016290.693069881, RMSE: 1419.9615111227067)\n",
      "Train on 2532 samples\n",
      "Epoch 1/2\n",
      "2532/2532 [==============================] - 3s 1ms/sample - loss: 0.0926\n",
      "Epoch 2/2\n",
      "2532/2532 [==============================] - 2s 798us/sample - loss: 0.0028\n",
      "MSE: 1836149.1501888405, RMSE: 1355.0458111033886)\n",
      "Train on 2532 samples\n",
      "Epoch 1/2\n",
      "2532/2532 [==============================] - 3s 1ms/sample - loss: 0.0832\n",
      "Epoch 2/2\n",
      "2532/2532 [==============================] - 2s 797us/sample - loss: 0.0028\n",
      "MSE: 2041362.3697562523, RMSE: 1428.7625309183652)\n",
      "Train on 2532 samples\n",
      "Epoch 1/2\n",
      "2532/2532 [==============================] - 3s 1ms/sample - loss: 0.0643\n",
      "Epoch 2/2\n",
      "2532/2532 [==============================] - 2s 782us/sample - loss: 0.0028\n",
      "MSE: 1947214.376313141, RMSE: 1395.4262346369803)\n",
      "Train on 2532 samples\n",
      "Epoch 1/2\n",
      "2532/2532 [==============================] - 3s 1ms/sample - loss: 0.0307\n",
      "Epoch 2/2\n",
      "2532/2532 [==============================] - 2s 790us/sample - loss: 0.0029\n",
      "MSE: 3453810.0291899364, RMSE: 1858.4429044740482)\n",
      "Train on 2532 samples\n",
      "Epoch 1/2\n",
      "2532/2532 [==============================] - 3s 1ms/sample - loss: 0.0803\n",
      "Epoch 2/2\n",
      "2532/2532 [==============================] - 2s 787us/sample - loss: 0.0029\n",
      "MSE: 1559371.037210959, RMSE: 1248.747787670096)\n",
      "Train on 2532 samples\n",
      "Epoch 1/2\n",
      "2532/2532 [==============================] - 3s 1ms/sample - loss: 0.0844\n",
      "Epoch 2/2\n",
      "2532/2532 [==============================] - 2s 793us/sample - loss: 0.0028\n",
      "MSE: 2230786.2606118, RMSE: 1493.5816886303205)\n",
      "Train on 2532 samples\n",
      "Epoch 1/2\n",
      "2532/2532 [==============================] - 3s 1ms/sample - loss: 0.0447\n",
      "Epoch 2/2\n",
      "2532/2532 [==============================] - 2s 794us/sample - loss: 0.0029\n",
      "MSE: 1934855.2797863313, RMSE: 1390.9907547450957)\n",
      "Train on 2532 samples\n",
      "Epoch 1/2\n",
      "2532/2532 [==============================] - 3s 1ms/sample - loss: 0.0342\n",
      "Epoch 2/2\n",
      "2532/2532 [==============================] - 2s 816us/sample - loss: 0.0029\n",
      "MSE: 2520435.4754824555, RMSE: 1587.5879425979701)\n",
      "Train on 2532 samples\n",
      "Epoch 1/2\n",
      "2532/2532 [==============================] - 3s 1ms/sample - loss: 0.0253\n",
      "Epoch 2/2\n",
      "2532/2532 [==============================] - 2s 789us/sample - loss: 0.0029\n",
      "MSE: 1904281.1507691003, RMSE: 1379.9569380125963)\n",
      "Train on 2532 samples\n",
      "Epoch 1/2\n",
      "2532/2532 [==============================] - 3s 1ms/sample - loss: 0.0307\n",
      "Epoch 2/2\n",
      "2532/2532 [==============================] - 2s 790us/sample - loss: 0.0029\n",
      "MSE: 2587552.552620377, RMSE: 1608.587129321995)\n",
      "Train on 2532 samples\n",
      "Epoch 1/2\n",
      "2532/2532 [==============================] - 3s 1ms/sample - loss: 0.0801\n",
      "Epoch 2/2\n",
      "2532/2532 [==============================] - 2s 800us/sample - loss: 0.0029\n",
      "MSE: 1871973.8809847315, RMSE: 1368.2009651307558)\n",
      "Train on 2532 samples\n",
      "Epoch 1/2\n",
      "2532/2532 [==============================] - 3s 1ms/sample - loss: 0.1154\n",
      "Epoch 2/2\n",
      "2532/2532 [==============================] - 2s 785us/sample - loss: 0.0028\n",
      "MSE: 1385301.543203123, RMSE: 1176.9883360522836)\n",
      "Train on 2532 samples\n",
      "Epoch 1/2\n",
      "2532/2532 [==============================] - 3s 1ms/sample - loss: 0.0827\n",
      "Epoch 2/2\n",
      "2532/2532 [==============================] - 2s 794us/sample - loss: 0.0028\n",
      "MSE: 2307994.2618624745, RMSE: 1519.2084326590852)\n",
      "Train on 2532 samples\n",
      "Epoch 1/2\n",
      "2532/2532 [==============================] - 3s 1ms/sample - loss: 0.1079\n",
      "Epoch 2/2\n",
      "2532/2532 [==============================] - 2s 822us/sample - loss: 0.0028\n",
      "MSE: 1629249.0097993459, RMSE: 1276.420389134922)\n",
      "Train on 2532 samples\n",
      "Epoch 1/2\n",
      "2532/2532 [==============================] - 3s 1ms/sample - loss: 0.1611\n",
      "Epoch 2/2\n",
      "2532/2532 [==============================] - 2s 801us/sample - loss: 0.0028\n",
      "MSE: 1484639.933421909, RMSE: 1218.4580146323915)\n",
      "Train on 2532 samples\n",
      "Epoch 1/2\n",
      "2532/2532 [==============================] - 3s 1ms/sample - loss: 0.0310\n",
      "Epoch 2/2\n",
      "2532/2532 [==============================] - 2s 811us/sample - loss: 0.0029\n",
      "MSE: 2346324.4902318246, RMSE: 1531.7716834541056)\n",
      "Train on 2532 samples\n",
      "Epoch 1/2\n",
      "2532/2532 [==============================] - 3s 1ms/sample - loss: 0.0426\n",
      "Epoch 2/2\n",
      "2532/2532 [==============================] - 2s 814us/sample - loss: 0.0029\n",
      "MSE: 2358742.8381237704, RMSE: 1535.8199237292667)\n",
      "Train on 2532 samples\n",
      "Epoch 1/2\n",
      "2532/2532 [==============================] - 3s 1ms/sample - loss: 0.0335\n",
      "Epoch 2/2\n",
      "2532/2532 [==============================] - 2s 787us/sample - loss: 0.0028\n",
      "MSE: 1675740.2679933023, RMSE: 1294.503869439293)\n",
      "Train on 2532 samples\n",
      "Epoch 1/2\n",
      "2532/2532 [==============================] - 3s 1ms/sample - loss: 0.1748\n",
      "Epoch 2/2\n",
      "2532/2532 [==============================] - 2s 793us/sample - loss: 0.0028\n",
      "MSE: 1455751.3022727822, RMSE: 1206.5451928016548)\n",
      "Train on 2532 samples\n",
      "Epoch 1/2\n",
      "2532/2532 [==============================] - 3s 1ms/sample - loss: 0.0570\n",
      "Epoch 2/2\n",
      "2532/2532 [==============================] - 2s 786us/sample - loss: 0.0028\n",
      "MSE: 1748861.3837398852, RMSE: 1322.4452290132417)\n",
      "Train on 2532 samples\n",
      "Epoch 1/2\n",
      "2532/2532 [==============================] - 3s 1ms/sample - loss: 0.0275\n",
      "Epoch 2/2\n",
      "2532/2532 [==============================] - 2s 796us/sample - loss: 0.0029\n",
      "MSE: 2247953.8297801227, RMSE: 1499.317788122359)\n",
      "Train on 2532 samples\n",
      "Epoch 1/2\n",
      "2532/2532 [==============================] - 3s 1ms/sample - loss: 0.0195\n",
      "Epoch 2/2\n",
      "2532/2532 [==============================] - 2s 793us/sample - loss: 0.0029\n",
      "MSE: 2038268.720825256, RMSE: 1427.6794881293406)\n",
      "Train on 2532 samples\n",
      "Epoch 1/2\n",
      "2532/2532 [==============================] - 3s 1ms/sample - loss: 0.0126\n",
      "Epoch 2/2\n",
      "2532/2532 [==============================] - 2s 802us/sample - loss: 0.0029\n",
      "MSE: 2128308.6252208664, RMSE: 1458.8723814031391)\n",
      "Train on 2532 samples\n",
      "Epoch 1/2\n",
      "2532/2532 [==============================] - 3s 1ms/sample - loss: 0.0238\n",
      "Epoch 2/2\n",
      "2532/2532 [==============================] - 2s 811us/sample - loss: 0.0029\n",
      "MSE: 2628823.1273463317, RMSE: 1621.3645880388322)\n",
      "Train on 2532 samples\n",
      "Epoch 1/2\n",
      "2532/2532 [==============================] - 3s 1ms/sample - loss: 0.0204\n",
      "Epoch 2/2\n",
      "2532/2532 [==============================] - 2s 786us/sample - loss: 0.0028\n",
      "MSE: 2189028.382820188, RMSE: 1479.5365432527133)\n",
      "Train on 2532 samples\n",
      "Epoch 1/2\n",
      "2532/2532 [==============================] - 3s 1ms/sample - loss: 0.0172\n",
      "Epoch 2/2\n",
      "2532/2532 [==============================] - 2s 793us/sample - loss: 0.0028\n",
      "MSE: 2530693.60345276, RMSE: 1590.81538949457)\n",
      "Train on 2532 samples\n",
      "Epoch 1/2\n",
      "2532/2532 [==============================] - 3s 1ms/sample - loss: 0.1222\n",
      "Epoch 2/2\n",
      "2532/2532 [==============================] - 2s 793us/sample - loss: 0.0028\n",
      "MSE: 1933932.3581548913, RMSE: 1390.6589654386482)\n",
      "Train on 2532 samples\n",
      "Epoch 1/2\n",
      "2532/2532 [==============================] - 3s 1ms/sample - loss: 0.1106\n",
      "Epoch 2/2\n",
      "2532/2532 [==============================] - 2s 814us/sample - loss: 0.0028\n",
      "MSE: 1537608.1243366476, RMSE: 1240.0032759378694)\n",
      "Train on 2532 samples\n",
      "Epoch 1/2\n",
      "2532/2532 [==============================] - 3s 1ms/sample - loss: 0.0084\n",
      "Epoch 2/2\n",
      "2532/2532 [==============================] - 2s 813us/sample - loss: 0.0029\n",
      "MSE: 2006092.263494425, RMSE: 1416.3658649849003)\n",
      "Train on 2532 samples\n",
      "Epoch 1/2\n",
      "2532/2532 [==============================] - 3s 1ms/sample - loss: 0.2650\n",
      "Epoch 2/2\n",
      "2532/2532 [==============================] - 2s 822us/sample - loss: 0.0028\n",
      "MSE: 1893842.2341576493, RMSE: 1376.1694060535024)\n",
      "Train on 2532 samples\n",
      "Epoch 1/2\n",
      "2532/2532 [==============================] - 3s 1ms/sample - loss: 0.0090\n",
      "Epoch 2/2\n",
      "2532/2532 [==============================] - 2s 797us/sample - loss: 0.0029\n",
      "MSE: 3475939.3683279995, RMSE: 1864.3871294149183)\n",
      "Train on 2532 samples\n",
      "Epoch 1/2\n",
      "2532/2532 [==============================] - 3s 1ms/sample - loss: 0.0155\n",
      "Epoch 2/2\n",
      "2532/2532 [==============================] - 2s 806us/sample - loss: 0.0028\n",
      "MSE: 2090431.7028438444, RMSE: 1445.832529321375)\n",
      "Train on 2532 samples\n",
      "Epoch 1/2\n",
      "2532/2532 [==============================] - 3s 1ms/sample - loss: 0.1350\n",
      "Epoch 2/2\n",
      "2532/2532 [==============================] - 2s 804us/sample - loss: 0.0028\n",
      "MSE: 1638751.136241444, RMSE: 1280.1371552460478)\n",
      "Train on 2532 samples\n",
      "Epoch 1/2\n",
      "2532/2532 [==============================] - 3s 1ms/sample - loss: 0.0464\n",
      "Epoch 2/2\n",
      "2532/2532 [==============================] - 2s 785us/sample - loss: 0.0028\n",
      "MSE: 1815363.8621973994, RMSE: 1347.354393690613)\n",
      "Train on 2532 samples\n",
      "Epoch 1/2\n",
      "2532/2532 [==============================] - 3s 1ms/sample - loss: 0.0795\n",
      "Epoch 2/2\n",
      "2532/2532 [==============================] - 2s 794us/sample - loss: 0.0029\n",
      "MSE: 3206143.1148240287, RMSE: 1790.5706115157896)\n",
      "Train on 2532 samples\n",
      "Epoch 1/2\n",
      "2532/2532 [==============================] - 3s 1ms/sample - loss: 0.0822\n",
      "Epoch 2/2\n",
      "2532/2532 [==============================] - 2s 785us/sample - loss: 0.0028\n",
      "MSE: 2016659.5506435623, RMSE: 1420.0913881309057)\n",
      "Train on 2532 samples\n",
      "Epoch 1/2\n",
      "2532/2532 [==============================] - 3s 1ms/sample - loss: 0.0466\n",
      "Epoch 2/2\n",
      "2532/2532 [==============================] - 2s 799us/sample - loss: 0.0028\n",
      "MSE: 1883689.4950815851, RMSE: 1372.4756810528868)\n",
      "Train on 2532 samples\n",
      "Epoch 1/2\n",
      "2532/2532 [==============================] - 3s 1ms/sample - loss: 0.0855\n",
      "Epoch 2/2\n",
      "2532/2532 [==============================] - 2s 788us/sample - loss: 0.0028\n",
      "MSE: 1529031.7334931933, RMSE: 1236.540227203787)\n",
      "Train on 2532 samples\n",
      "Epoch 1/2\n",
      "2532/2532 [==============================] - 3s 1ms/sample - loss: 0.0123\n",
      "Epoch 2/2\n",
      "2532/2532 [==============================] - 2s 788us/sample - loss: 0.0029\n",
      "MSE: 2675993.3675880907, RMSE: 1635.846376524425)\n",
      "Train on 2532 samples\n",
      "Epoch 1/2\n",
      "2532/2532 [==============================] - 3s 1ms/sample - loss: 0.1384\n",
      "Epoch 2/2\n",
      "2532/2532 [==============================] - 2s 789us/sample - loss: 0.0028\n",
      "MSE: 1752841.0944903907, RMSE: 1323.9490528303538)\n",
      "Train on 2532 samples\n",
      "Epoch 1/2\n",
      "2532/2532 [==============================] - 3s 1ms/sample - loss: 0.0730\n",
      "Epoch 2/2\n",
      "2532/2532 [==============================] - 2s 793us/sample - loss: 0.0028\n",
      "MSE: 1940706.0026081274, RMSE: 1393.092244830947)\n",
      "Train on 2532 samples\n",
      "Epoch 1/2\n",
      "2532/2532 [==============================] - 3s 1ms/sample - loss: 0.0925\n",
      "Epoch 2/2\n",
      "2532/2532 [==============================] - 2s 785us/sample - loss: 0.0028\n",
      "MSE: 1717588.7739217419, RMSE: 1310.568111134153)\n",
      "Train on 2532 samples\n",
      "Epoch 1/2\n",
      "2532/2532 [==============================] - 3s 1ms/sample - loss: 0.0121\n",
      "Epoch 2/2\n",
      "2532/2532 [==============================] - 2s 781us/sample - loss: 0.0030\n",
      "MSE: 2952637.530961792, RMSE: 1718.3240471348215)\n",
      "Train on 2532 samples\n",
      "Epoch 1/2\n",
      "2532/2532 [==============================] - 3s 1ms/sample - loss: 0.0257\n",
      "Epoch 2/2\n",
      "2532/2532 [==============================] - 2s 790us/sample - loss: 0.0028\n",
      "MSE: 2509874.7480578288, RMSE: 1584.258422119898)\n",
      "Train on 2532 samples\n",
      "Epoch 1/2\n",
      "2532/2532 [==============================] - 3s 1ms/sample - loss: 0.0862\n",
      "Epoch 2/2\n",
      "2532/2532 [==============================] - 2s 808us/sample - loss: 0.0029\n",
      "MSE: 3871115.2082887213, RMSE: 1967.5149829896395)\n",
      "Train on 2532 samples\n",
      "Epoch 1/2\n",
      "2532/2532 [==============================] - 3s 1ms/sample - loss: 0.0633\n",
      "Epoch 2/2\n",
      "2532/2532 [==============================] - 2s 800us/sample - loss: 0.0029\n",
      "MSE: 4127451.2077295403, RMSE: 2031.6129571671718)\n",
      "Train on 2532 samples\n",
      "Epoch 1/2\n",
      "2532/2532 [==============================] - 3s 1ms/sample - loss: 0.0559\n",
      "Epoch 2/2\n",
      "2532/2532 [==============================] - 2s 792us/sample - loss: 0.0028\n",
      "MSE: 1755821.8253695117, RMSE: 1325.07427164273)\n",
      "Train on 2532 samples\n",
      "Epoch 1/2\n",
      "2532/2532 [==============================] - 4s 1ms/sample - loss: 0.0047\n",
      "Epoch 2/2\n",
      "2532/2532 [==============================] - 2s 809us/sample - loss: 0.0029\n",
      "MSE: 3168126.4356374443, RMSE: 1779.9231544191575)\n",
      "Train on 2532 samples\n",
      "Epoch 1/2\n",
      "2532/2532 [==============================] - 3s 1ms/sample - loss: 0.1303\n",
      "Epoch 2/2\n",
      "2532/2532 [==============================] - 2s 803us/sample - loss: 0.0028\n",
      "MSE: 1815890.7383601188, RMSE: 1347.5499019925455)\n",
      "Train on 2532 samples\n",
      "Epoch 1/2\n",
      "2532/2532 [==============================] - 3s 1ms/sample - loss: 0.0463\n",
      "Epoch 2/2\n",
      "2532/2532 [==============================] - 2s 830us/sample - loss: 0.0029\n",
      "MSE: 2209967.2115289937, RMSE: 1486.595846734745)\n",
      "Train on 2532 samples\n",
      "Epoch 1/2\n",
      "2532/2532 [==============================] - 3s 1ms/sample - loss: 0.0362\n",
      "Epoch 2/2\n",
      "2532/2532 [==============================] - 2s 829us/sample - loss: 0.0029\n",
      "MSE: 3682992.5262469356, RMSE: 1919.1124318931747)\n",
      "Train on 2532 samples\n",
      "Epoch 1/2\n",
      "2532/2532 [==============================] - 3s 1ms/sample - loss: 0.0915\n",
      "Epoch 2/2\n",
      "2532/2532 [==============================] - 2s 791us/sample - loss: 0.0028\n",
      "MSE: 1969400.1900453183, RMSE: 1403.3531950458225)\n",
      "Train on 2532 samples\n",
      "Epoch 1/2\n",
      "2532/2532 [==============================] - 3s 1ms/sample - loss: 0.0150\n",
      "Epoch 2/2\n",
      "2532/2532 [==============================] - 2s 784us/sample - loss: 0.0030\n",
      "MSE: 2397595.7949716807, RMSE: 1548.4171902209303)\n",
      "Train on 2532 samples\n",
      "Epoch 1/2\n",
      "2532/2532 [==============================] - 3s 1ms/sample - loss: 0.0197\n",
      "Epoch 2/2\n",
      "2532/2532 [==============================] - 2s 789us/sample - loss: 0.0028\n",
      "MSE: 1849382.0704818324, RMSE: 1359.9198764934029)\n",
      "Train on 2532 samples\n",
      "Epoch 1/2\n",
      "2532/2532 [==============================] - 3s 1ms/sample - loss: 0.0301\n",
      "Epoch 2/2\n",
      "2532/2532 [==============================] - 2s 796us/sample - loss: 0.0029\n",
      "MSE: 1965463.727903335, RMSE: 1401.94997339539)\n",
      "Train on 2532 samples\n",
      "Epoch 1/2\n",
      "2532/2532 [==============================] - 3s 1ms/sample - loss: 0.0223\n",
      "Epoch 2/2\n",
      "2532/2532 [==============================] - 2s 809us/sample - loss: 0.0029\n",
      "MSE: 2306942.145917485, RMSE: 1518.8621220892583)\n",
      "Train on 2532 samples\n",
      "Epoch 1/2\n",
      "2532/2532 [==============================] - 3s 1ms/sample - loss: 0.0590\n",
      "Epoch 2/2\n",
      "2532/2532 [==============================] - 2s 795us/sample - loss: 0.0028\n",
      "MSE: 1745399.1031619438, RMSE: 1321.1355355004057)\n",
      "Train on 2532 samples\n",
      "Epoch 1/2\n",
      "2532/2532 [==============================] - 3s 1ms/sample - loss: 0.0056\n",
      "Epoch 2/2\n",
      "2532/2532 [==============================] - 2s 787us/sample - loss: 0.0030\n",
      "MSE: 2521976.556195035, RMSE: 1588.0732212952385)\n",
      "Train on 2532 samples\n",
      "Epoch 1/2\n",
      "2532/2532 [==============================] - 3s 1ms/sample - loss: 0.0495\n",
      "Epoch 2/2\n",
      "2532/2532 [==============================] - 2s 794us/sample - loss: 0.0028\n",
      "MSE: 1806574.0228921936, RMSE: 1344.088547266211)\n",
      "Train on 2532 samples\n",
      "Epoch 1/2\n",
      "2532/2532 [==============================] - 3s 1ms/sample - loss: 0.0073\n",
      "Epoch 2/2\n",
      "2532/2532 [==============================] - 2s 783us/sample - loss: 0.0029\n",
      "MSE: 2869816.635508989, RMSE: 1694.0533154269344)\n",
      "Train on 2532 samples\n",
      "Epoch 1/2\n",
      "2532/2532 [==============================] - 4s 1ms/sample - loss: 0.0161\n",
      "Epoch 2/2\n",
      "2532/2532 [==============================] - 2s 785us/sample - loss: 0.0029\n",
      "MSE: 1987654.6322920695, RMSE: 1409.8420593428434)\n",
      "Train on 2532 samples\n",
      "Epoch 1/2\n",
      "2532/2532 [==============================] - 3s 1ms/sample - loss: 0.1446\n",
      "Epoch 2/2\n",
      "2532/2532 [==============================] - 2s 794us/sample - loss: 0.0029\n",
      "MSE: 1853375.1223477474, RMSE: 1361.3872051505948)\n",
      "Train on 2532 samples\n",
      "Epoch 1/2\n",
      "2532/2532 [==============================] - 3s 1ms/sample - loss: 0.0798\n",
      "Epoch 2/2\n",
      "2532/2532 [==============================] - 2s 793us/sample - loss: 0.0029\n",
      "MSE: 2000788.0369703108, RMSE: 1414.4921480765847)\n",
      "Train on 2532 samples\n",
      "Epoch 1/2\n",
      "2532/2532 [==============================] - 3s 1ms/sample - loss: 0.0302\n",
      "Epoch 2/2\n",
      "2532/2532 [==============================] - 2s 788us/sample - loss: 0.0028\n",
      "MSE: 2162797.7206957317, RMSE: 1470.6453415748242)\n",
      "Train on 2532 samples\n",
      "Epoch 1/2\n",
      "2532/2532 [==============================] - 3s 1ms/sample - loss: 0.0255\n",
      "Epoch 2/2\n",
      "2532/2532 [==============================] - 2s 791us/sample - loss: 0.0029\n",
      "MSE: 5311377.648666208, RMSE: 2304.6426292738333)\n",
      "Train on 2532 samples\n",
      "Epoch 1/2\n",
      "2532/2532 [==============================] - 3s 1ms/sample - loss: 0.0362\n",
      "Epoch 2/2\n",
      "2532/2532 [==============================] - 2s 781us/sample - loss: 0.0029\n",
      "MSE: 1840703.1914650842, RMSE: 1356.725171678142)\n",
      "Train on 2532 samples\n",
      "Epoch 1/2\n",
      "2532/2532 [==============================] - 3s 1ms/sample - loss: 0.0303\n",
      "Epoch 2/2\n",
      "2532/2532 [==============================] - 2s 779us/sample - loss: 0.0029\n",
      "MSE: 1914604.4441194222, RMSE: 1383.6923227796785)\n",
      "Train on 2532 samples\n",
      "Epoch 1/2\n",
      "2532/2532 [==============================] - 3s 1ms/sample - loss: 0.0124\n",
      "Epoch 2/2\n",
      "2532/2532 [==============================] - 2s 787us/sample - loss: 0.0031\n",
      "MSE: 2816736.348609327, RMSE: 1678.3135429976505)\n",
      "Train on 2532 samples\n",
      "Epoch 1/2\n",
      "2532/2532 [==============================] - 3s 1ms/sample - loss: 0.0853\n",
      "Epoch 2/2\n",
      "2532/2532 [==============================] - 2s 792us/sample - loss: 0.0028\n",
      "MSE: 1865466.846550109, RMSE: 1365.820942345705)\n",
      "Train on 2532 samples\n",
      "Epoch 1/2\n",
      "2532/2532 [==============================] - 3s 1ms/sample - loss: 0.0367\n",
      "Epoch 2/2\n",
      "2532/2532 [==============================] - 2s 792us/sample - loss: 0.0029\n",
      "MSE: 2255494.699272966, RMSE: 1501.8304495757723)\n",
      "Train on 2532 samples\n",
      "Epoch 1/2\n",
      "2532/2532 [==============================] - 3s 1ms/sample - loss: 0.0202\n",
      "Epoch 2/2\n",
      "2532/2532 [==============================] - 2s 789us/sample - loss: 0.0028\n",
      "MSE: 1801554.0580901627, RMSE: 1342.2198248014975)\n",
      "Train on 2532 samples\n",
      "Epoch 1/2\n",
      "2532/2532 [==============================] - 3s 1ms/sample - loss: 0.0114\n",
      "Epoch 2/2\n",
      "2532/2532 [==============================] - 2s 782us/sample - loss: 0.0028\n",
      "MSE: 1888898.1805329202, RMSE: 1374.3719222004356)\n",
      "Train on 2532 samples\n",
      "Epoch 1/2\n",
      "2532/2532 [==============================] - 3s 1ms/sample - loss: 0.1291\n",
      "Epoch 2/2\n",
      "2532/2532 [==============================] - 2s 792us/sample - loss: 0.0028\n",
      "MSE: 1262882.3688283782, RMSE: 1123.7803917262386)\n",
      "Train on 2532 samples\n",
      "Epoch 1/2\n",
      "2532/2532 [==============================] - 3s 1ms/sample - loss: 0.0516\n",
      "Epoch 2/2\n",
      "2532/2532 [==============================] - 2s 778us/sample - loss: 0.0029\n",
      "MSE: 2533047.8780108797, RMSE: 1591.5551759241273)\n",
      "Train on 2532 samples\n",
      "Epoch 1/2\n",
      "2532/2532 [==============================] - 3s 1ms/sample - loss: 0.0256\n",
      "Epoch 2/2\n",
      "2532/2532 [==============================] - 2s 788us/sample - loss: 0.0030\n",
      "MSE: 2284333.775570402, RMSE: 1511.4012622630703)\n",
      "Train on 2532 samples\n",
      "Epoch 1/2\n",
      "2532/2532 [==============================] - 3s 1ms/sample - loss: 0.0531\n",
      "Epoch 2/2\n",
      "2532/2532 [==============================] - 2s 787us/sample - loss: 0.0028\n",
      "MSE: 1711166.4014612213, RMSE: 1308.1155917812544)\n",
      "Train on 2532 samples\n",
      "Epoch 1/2\n",
      "2532/2532 [==============================] - 3s 1ms/sample - loss: 0.0336\n",
      "Epoch 2/2\n",
      "2532/2532 [==============================] - 2s 783us/sample - loss: 0.0028\n",
      "MSE: 2273199.4716915814, RMSE: 1507.7133254341097)\n",
      "Train on 2532 samples\n",
      "Epoch 1/2\n",
      "2532/2532 [==============================] - 3s 1ms/sample - loss: 0.0247\n",
      "Epoch 2/2\n",
      "2532/2532 [==============================] - 2s 799us/sample - loss: 0.0029\n",
      "MSE: 3659770.249216914, RMSE: 1913.0525996994736)\n",
      "Train on 2532 samples\n",
      "Epoch 1/2\n",
      "2532/2532 [==============================] - 3s 1ms/sample - loss: 0.0192\n",
      "Epoch 2/2\n",
      "2532/2532 [==============================] - 2s 794us/sample - loss: 0.0029\n",
      "MSE: 2622008.4173169243, RMSE: 1619.2616889548533)\n",
      "Train on 2532 samples\n",
      "Epoch 1/2\n",
      "2532/2532 [==============================] - 3s 1ms/sample - loss: 0.0717\n",
      "Epoch 2/2\n",
      "2532/2532 [==============================] - 2s 795us/sample - loss: 0.0028\n",
      "MSE: 2569328.5107335746, RMSE: 1602.9125087582213)\n",
      "Train on 2532 samples\n",
      "Epoch 1/2\n",
      "2532/2532 [==============================] - 3s 1ms/sample - loss: 0.0136\n",
      "Epoch 2/2\n",
      "2532/2532 [==============================] - 2s 793us/sample - loss: 0.0029\n",
      "MSE: 2460806.1206496754, RMSE: 1568.6956749636545)\n",
      "Train on 2532 samples\n",
      "Epoch 1/2\n",
      "2532/2532 [==============================] - 3s 1ms/sample - loss: 0.1416\n",
      "Epoch 2/2\n",
      "2532/2532 [==============================] - 2s 791us/sample - loss: 0.0028\n",
      "MSE: 1521295.8274698148, RMSE: 1233.4082160703385)\n",
      "Train on 2532 samples\n",
      "Epoch 1/2\n",
      "2532/2532 [==============================] - 3s 1ms/sample - loss: 0.0551\n",
      "Epoch 2/2\n",
      "2532/2532 [==============================] - 2s 784us/sample - loss: 0.0029\n",
      "MSE: 2193696.180304538, RMSE: 1481.113155806989)\n",
      "Train on 2532 samples\n",
      "Epoch 1/2\n",
      "2532/2532 [==============================] - 3s 1ms/sample - loss: 0.0431\n",
      "Epoch 2/2\n",
      "2532/2532 [==============================] - 2s 775us/sample - loss: 0.0028\n",
      "MSE: 1815163.4226158708, RMSE: 1347.2800089869481)\n",
      "Train on 2532 samples\n",
      "Epoch 1/2\n",
      "2532/2532 [==============================] - 3s 1ms/sample - loss: 0.0306\n",
      "Epoch 2/2\n",
      "2532/2532 [==============================] - 2s 788us/sample - loss: 0.0029\n",
      "MSE: 1579447.2172410649, RMSE: 1256.760604586675)\n",
      "Train on 2532 samples\n",
      "Epoch 1/2\n",
      "2532/2532 [==============================] - 3s 1ms/sample - loss: 0.0111\n",
      "Epoch 2/2\n",
      "2532/2532 [==============================] - 2s 792us/sample - loss: 0.0029\n",
      "MSE: 2832621.1913292804, RMSE: 1683.0392720698114)\n",
      "Train on 2532 samples\n",
      "Epoch 1/2\n",
      "2532/2532 [==============================] - 3s 1ms/sample - loss: 0.0554\n",
      "Epoch 2/2\n",
      "2532/2532 [==============================] - 2s 784us/sample - loss: 0.0029\n",
      "MSE: 1997348.055760428, RMSE: 1413.2756474801467)\n",
      "Train on 2532 samples\n",
      "Epoch 1/2\n",
      "2532/2532 [==============================] - 3s 1ms/sample - loss: 0.0062\n",
      "Epoch 2/2\n",
      "2532/2532 [==============================] - 2s 793us/sample - loss: 0.0029\n",
      "MSE: 2810439.9938100004, RMSE: 1676.4366954376776)\n",
      "Train on 2532 samples\n",
      "Epoch 1/2\n",
      "2532/2532 [==============================] - 4s 1ms/sample - loss: 0.0249\n",
      "Epoch 2/2\n",
      "2532/2532 [==============================] - 2s 793us/sample - loss: 0.0030\n",
      "MSE: 2847429.364240478, RMSE: 1687.432773250679)\n",
      "Train on 2532 samples\n",
      "Epoch 1/2\n",
      "2532/2532 [==============================] - 3s 1ms/sample - loss: 0.1041\n",
      "Epoch 2/2\n",
      "2532/2532 [==============================] - 2s 794us/sample - loss: 0.0029\n",
      "MSE: 2333326.083602359, RMSE: 1527.5228586186065)\n",
      "Train on 2532 samples\n",
      "Epoch 1/2\n",
      "2532/2532 [==============================] - 3s 1ms/sample - loss: 0.0176\n",
      "Epoch 2/2\n",
      "2532/2532 [==============================] - 2s 790us/sample - loss: 0.0028\n",
      "MSE: 1904074.229795445, RMSE: 1379.881962269036)\n",
      "Train on 2532 samples\n",
      "Epoch 1/2\n",
      "2532/2532 [==============================] - 3s 1ms/sample - loss: 0.0705\n",
      "Epoch 2/2\n",
      "2532/2532 [==============================] - 2s 789us/sample - loss: 0.0028\n",
      "MSE: 2439312.5571770547, RMSE: 1561.8298745948787)\n",
      "Train on 2532 samples\n",
      "Epoch 1/2\n",
      "2532/2532 [==============================] - 3s 1ms/sample - loss: 0.1145\n",
      "Epoch 2/2\n",
      "2532/2532 [==============================] - 2s 791us/sample - loss: 0.0029\n",
      "MSE: 1629331.9931810729, RMSE: 1276.4528950106514)\n",
      "Train on 2532 samples\n",
      "Epoch 1/2\n",
      "2532/2532 [==============================] - 3s 1ms/sample - loss: 0.0282\n",
      "Epoch 2/2\n",
      "2532/2532 [==============================] - 2s 788us/sample - loss: 0.0029\n",
      "MSE: 2707600.8239549613, RMSE: 1645.4789041354986)\n",
      "Train on 2532 samples\n",
      "Epoch 1/2\n",
      "2532/2532 [==============================] - 3s 1ms/sample - loss: 0.0069\n",
      "Epoch 2/2\n",
      "2532/2532 [==============================] - 2s 799us/sample - loss: 0.0029\n",
      "MSE: 2228174.753037625, RMSE: 1492.707189316654)\n",
      "Train on 2532 samples\n",
      "Epoch 1/2\n",
      "2532/2532 [==============================] - 3s 1ms/sample - loss: 0.0043\n",
      "Epoch 2/2\n",
      "2532/2532 [==============================] - 2s 794us/sample - loss: 0.0029\n",
      "MSE: 2040262.297354263, RMSE: 1428.3775051975101)\n",
      "Train on 2532 samples\n",
      "Epoch 1/2\n",
      "2532/2532 [==============================] - 3s 1ms/sample - loss: 0.0816\n",
      "Epoch 2/2\n",
      "2532/2532 [==============================] - 2s 811us/sample - loss: 0.0028\n",
      "MSE: 1599501.0975952887, RMSE: 1264.7138402007345)\n",
      "Train on 2532 samples\n",
      "Epoch 1/2\n",
      "2532/2532 [==============================] - 3s 1ms/sample - loss: 0.0240\n",
      "Epoch 2/2\n",
      "2532/2532 [==============================] - 2s 804us/sample - loss: 0.0029\n",
      "MSE: 2170835.115794302, RMSE: 1473.3754157696205)\n",
      "Train on 2532 samples\n",
      "Epoch 1/2\n",
      "2532/2532 [==============================] - 3s 1ms/sample - loss: 0.0445\n",
      "Epoch 2/2\n",
      "2532/2532 [==============================] - 2s 803us/sample - loss: 0.0028\n",
      "MSE: 1590610.9285088766, RMSE: 1261.1942469377493)\n",
      "Train on 2532 samples\n",
      "Epoch 1/2\n",
      "2532/2532 [==============================] - 3s 1ms/sample - loss: 0.0368\n",
      "Epoch 2/2\n",
      "2532/2532 [==============================] - 2s 798us/sample - loss: 0.0029\n",
      "MSE: 1889262.3396220468, RMSE: 1374.5043978183726)\n",
      "Train on 2532 samples\n",
      "Epoch 1/2\n",
      "2532/2532 [==============================] - 3s 1ms/sample - loss: 0.0172\n",
      "Epoch 2/2\n",
      "2532/2532 [==============================] - 2s 798us/sample - loss: 0.0030\n",
      "MSE: 2064503.2629251971, RMSE: 1436.8379389914498)\n",
      "Train on 2532 samples\n",
      "Epoch 1/2\n",
      "2532/2532 [==============================] - 3s 1ms/sample - loss: 0.0035\n",
      "Epoch 2/2\n",
      "2532/2532 [==============================] - 2s 808us/sample - loss: 0.0031\n",
      "MSE: 3367944.694695843, RMSE: 1835.1960916195967)\n",
      "Train on 2532 samples\n",
      "Epoch 1/2\n",
      "2532/2532 [==============================] - 3s 1ms/sample - loss: 0.0104\n",
      "Epoch 2/2\n",
      "2532/2532 [==============================] - 2s 805us/sample - loss: 0.0030\n",
      "MSE: 2006532.1735284412, RMSE: 1416.5211518111691)\n",
      "Train on 2532 samples\n",
      "Epoch 1/2\n",
      "2532/2532 [==============================] - 3s 1ms/sample - loss: 0.0090\n",
      "Epoch 2/2\n",
      "2532/2532 [==============================] - 2s 797us/sample - loss: 0.0030\n",
      "MSE: 3313960.6943835462, RMSE: 1820.428711700501)\n",
      "Train on 2532 samples\n",
      "Epoch 1/2\n",
      "2532/2532 [==============================] - 3s 1ms/sample - loss: 0.1957\n",
      "Epoch 2/2\n",
      "2532/2532 [==============================] - 2s 793us/sample - loss: 0.0028\n",
      "MSE: 2065160.469791818, RMSE: 1437.066619816847)\n",
      "Train on 2532 samples\n",
      "Epoch 1/2\n",
      "2532/2532 [==============================] - 3s 1ms/sample - loss: 0.0155\n",
      "Epoch 2/2\n",
      "2532/2532 [==============================] - 2s 798us/sample - loss: 0.0029\n",
      "MSE: 1923111.4675917998, RMSE: 1386.762945709107)\n",
      "Train on 2532 samples\n",
      "Epoch 1/2\n",
      "2532/2532 [==============================] - 3s 1ms/sample - loss: 0.0407\n",
      "Epoch 2/2\n",
      "2532/2532 [==============================] - 2s 795us/sample - loss: 0.0029\n",
      "MSE: 2700791.057063529, RMSE: 1643.4083658858283)\n",
      "Train on 2532 samples\n",
      "Epoch 1/2\n",
      "2532/2532 [==============================] - 3s 1ms/sample - loss: 0.0034\n",
      "Epoch 2/2\n",
      "2532/2532 [==============================] - 2s 798us/sample - loss: 0.0030\n",
      "MSE: 2914904.8427850427, RMSE: 1707.3092405258758)\n",
      "Train on 2532 samples\n",
      "Epoch 1/2\n",
      "2532/2532 [==============================] - 3s 1ms/sample - loss: 0.0283\n",
      "Epoch 2/2\n",
      "2532/2532 [==============================] - 2s 793us/sample - loss: 0.0030\n",
      "MSE: 2408923.4874155917, RMSE: 1552.0707095411574)\n",
      "Train on 2532 samples\n",
      "Epoch 1/2\n",
      "2532/2532 [==============================] - 3s 1ms/sample - loss: 0.0122\n",
      "Epoch 2/2\n",
      "2532/2532 [==============================] - 2s 815us/sample - loss: 0.0029\n",
      "MSE: 2973454.1488111704, RMSE: 1724.3706529662265)\n",
      "Train on 2532 samples\n",
      "Epoch 1/2\n",
      "2532/2532 [==============================] - 3s 1ms/sample - loss: 0.0220\n",
      "Epoch 2/2\n",
      "2532/2532 [==============================] - 2s 787us/sample - loss: 0.0030\n",
      "MSE: 2286556.1009376785, RMSE: 1512.1362706243372)\n",
      "Train on 2532 samples\n",
      "Epoch 1/2\n",
      "2532/2532 [==============================] - 3s 1ms/sample - loss: 0.0355\n",
      "Epoch 2/2\n",
      "2532/2532 [==============================] - 2s 805us/sample - loss: 0.0029\n",
      "MSE: 2229368.972377021, RMSE: 1493.10715368222)\n",
      "Train on 2532 samples\n",
      "Epoch 1/2\n",
      "2532/2532 [==============================] - 3s 1ms/sample - loss: 0.0456\n",
      "Epoch 2/2\n",
      "2532/2532 [==============================] - 2s 786us/sample - loss: 0.0029\n",
      "MSE: 1799002.4127524206, RMSE: 1341.2689561577204)\n",
      "Train on 2532 samples\n",
      "Epoch 1/2\n",
      "2532/2532 [==============================] - 3s 1ms/sample - loss: 0.0108\n",
      "Epoch 2/2\n",
      "2532/2532 [==============================] - 2s 819us/sample - loss: 0.0029\n",
      "MSE: 2586660.935812525, RMSE: 1608.309962604387)\n",
      "Train on 2532 samples\n",
      "Epoch 1/2\n",
      "2532/2532 [==============================] - 3s 1ms/sample - loss: 0.0884\n",
      "Epoch 2/2\n",
      "2532/2532 [==============================] - 2s 788us/sample - loss: 0.0028\n",
      "MSE: 1946616.5111848454, RMSE: 1395.2119950691526)\n",
      "Train on 2532 samples\n",
      "Epoch 1/2\n",
      "2532/2532 [==============================] - 3s 1ms/sample - loss: 0.0719\n",
      "Epoch 2/2\n",
      "2532/2532 [==============================] - 2s 811us/sample - loss: 0.0028\n",
      "MSE: 2800990.171419483, RMSE: 1673.6158972176033)\n",
      "Train on 2532 samples\n",
      "Epoch 1/2\n",
      "2532/2532 [==============================] - 3s 1ms/sample - loss: 0.0049\n",
      "Epoch 2/2\n",
      "2532/2532 [==============================] - 2s 819us/sample - loss: 0.0030\n",
      "MSE: 2240792.5804564334, RMSE: 1496.9277138380576)\n",
      "Train on 2532 samples\n",
      "Epoch 1/2\n",
      "2532/2532 [==============================] - 3s 1ms/sample - loss: 0.0762\n",
      "Epoch 2/2\n",
      "2532/2532 [==============================] - 2s 789us/sample - loss: 0.0028\n",
      "MSE: 1553410.8344754952, RMSE: 1246.3590311284686)\n",
      "Train on 2532 samples\n",
      "Epoch 1/2\n",
      "2532/2532 [==============================] - 3s 1ms/sample - loss: 0.0060\n",
      "Epoch 2/2\n",
      "2532/2532 [==============================] - 2s 815us/sample - loss: 0.0030\n",
      "MSE: 2013707.971876766, RMSE: 1419.051786185679)\n",
      "Train on 2532 samples\n",
      "Epoch 1/2\n",
      "2532/2532 [==============================] - 3s 1ms/sample - loss: 0.0392\n",
      "Epoch 2/2\n",
      "2532/2532 [==============================] - 2s 810us/sample - loss: 0.0029\n",
      "MSE: 2367019.653152928, RMSE: 1538.5121556727877)\n",
      "Train on 2532 samples\n",
      "Epoch 1/2\n",
      "2532/2532 [==============================] - 3s 1ms/sample - loss: 0.0246\n",
      "Epoch 2/2\n",
      "2532/2532 [==============================] - 2s 794us/sample - loss: 0.0029\n",
      "MSE: 4193924.9256452164, RMSE: 2047.9074504589353)\n",
      "Train on 2532 samples\n",
      "Epoch 1/2\n",
      "2532/2532 [==============================] - 3s 1ms/sample - loss: 0.0195\n",
      "Epoch 2/2\n",
      "2532/2532 [==============================] - 2s 818us/sample - loss: 0.0030\n",
      "MSE: 2123374.597410097, RMSE: 1457.1803585727118)\n",
      "Train on 2532 samples\n",
      "Epoch 1/2\n",
      "2532/2532 [==============================] - 3s 1ms/sample - loss: 0.0958\n",
      "Epoch 2/2\n",
      "2532/2532 [==============================] - 2s 841us/sample - loss: 0.0028\n",
      "MSE: 2464051.0688823215, RMSE: 1569.7296164888785)\n",
      "Train on 2532 samples\n",
      "Epoch 1/2\n",
      "2532/2532 [==============================] - 3s 1ms/sample - loss: 0.0782\n",
      "Epoch 2/2\n",
      "2532/2532 [==============================] - 2s 813us/sample - loss: 0.0029\n",
      "MSE: 1783410.3139401367, RMSE: 1335.4438640168057)\n",
      "Train on 2532 samples\n",
      "Epoch 1/2\n",
      "2532/2532 [==============================] - 3s 1ms/sample - loss: 0.0137\n",
      "Epoch 2/2\n",
      "2532/2532 [==============================] - 2s 797us/sample - loss: 0.0030\n",
      "MSE: 2316627.428209645, RMSE: 1522.0471176049857)\n",
      "Train on 2532 samples\n",
      "Epoch 1/2\n",
      "2532/2532 [==============================] - 3s 1ms/sample - loss: 0.0168\n",
      "Epoch 2/2\n",
      "2532/2532 [==============================] - 2s 805us/sample - loss: 0.0029\n",
      "MSE: 1946788.7920237423, RMSE: 1395.273733725301)\n",
      "Train on 2532 samples\n",
      "Epoch 1/2\n",
      "2532/2532 [==============================] - 3s 1ms/sample - loss: 0.1448\n",
      "Epoch 2/2\n",
      "2532/2532 [==============================] - 2s 811us/sample - loss: 0.0028\n",
      "MSE: 1465972.440310412, RMSE: 1210.7734884405143)\n",
      "Train on 2532 samples\n",
      "Epoch 1/2\n",
      "2532/2532 [==============================] - 3s 1ms/sample - loss: 0.0232\n",
      "Epoch 2/2\n",
      "2532/2532 [==============================] - 2s 824us/sample - loss: 0.0029\n",
      "MSE: 2074224.0029909513, RMSE: 1440.216651407333)\n",
      "Train on 2532 samples\n",
      "Epoch 1/2\n",
      "2532/2532 [==============================] - 3s 1ms/sample - loss: 0.0252\n",
      "Epoch 2/2\n",
      "2532/2532 [==============================] - 2s 798us/sample - loss: 0.0029\n",
      "MSE: 2758962.15773236, RMSE: 1661.0123893976108)\n",
      "Train on 2532 samples\n",
      "Epoch 1/2\n",
      "2532/2532 [==============================] - 3s 1ms/sample - loss: 0.0976\n",
      "Epoch 2/2\n",
      "2532/2532 [==============================] - 2s 787us/sample - loss: 0.0029\n",
      "MSE: 1760049.840281578, RMSE: 1326.668700272068)\n",
      "Train on 2532 samples\n",
      "Epoch 1/2\n",
      "2532/2532 [==============================] - 3s 1ms/sample - loss: 0.0276\n",
      "Epoch 2/2\n",
      "2532/2532 [==============================] - 2s 789us/sample - loss: 0.0028\n",
      "MSE: 1876692.6507950125, RMSE: 1369.9243230175207)\n",
      "Train on 2532 samples\n",
      "Epoch 1/2\n",
      "2532/2532 [==============================] - 3s 1ms/sample - loss: 0.0998\n",
      "Epoch 2/2\n",
      "2532/2532 [==============================] - 2s 787us/sample - loss: 0.0028\n",
      "MSE: 1970765.2056992024, RMSE: 1403.8394515396703)\n",
      "Train on 2532 samples\n",
      "Epoch 1/2\n",
      "2532/2532 [==============================] - 3s 1ms/sample - loss: 0.0987\n",
      "Epoch 2/2\n",
      "2532/2532 [==============================] - 2s 789us/sample - loss: 0.0029\n",
      "MSE: 1703147.2415572866, RMSE: 1305.0468350052754)\n",
      "Train on 2532 samples\n",
      "Epoch 1/2\n",
      "2532/2532 [==============================] - 3s 1ms/sample - loss: 0.0341\n",
      "Epoch 2/2\n",
      "2532/2532 [==============================] - 2s 808us/sample - loss: 0.0029\n",
      "MSE: 3000130.2564563593, RMSE: 1732.0884089608012)\n",
      "Train on 2532 samples\n",
      "Epoch 1/2\n",
      "2532/2532 [==============================] - 3s 1ms/sample - loss: 0.0947\n",
      "Epoch 2/2\n",
      "2532/2532 [==============================] - 2s 822us/sample - loss: 0.0028\n",
      "MSE: 1710753.101497986, RMSE: 1307.9576069192708)\n",
      "Train on 2532 samples\n",
      "Epoch 1/2\n",
      "2532/2532 [==============================] - 3s 1ms/sample - loss: 0.0867\n",
      "Epoch 2/2\n",
      "2532/2532 [==============================] - 2s 795us/sample - loss: 0.0028\n",
      "MSE: 1561457.4014692777, RMSE: 1249.5828909957424)\n",
      "Train on 2532 samples\n",
      "Epoch 1/2\n",
      "2532/2532 [==============================] - 3s 1ms/sample - loss: 0.0076\n",
      "Epoch 2/2\n",
      "2532/2532 [==============================] - 2s 793us/sample - loss: 0.0029\n",
      "MSE: 2343611.883828615, RMSE: 1530.8859800222272)\n",
      "Train on 2532 samples\n",
      "Epoch 1/2\n",
      "2532/2532 [==============================] - 3s 1ms/sample - loss: 0.1600\n",
      "Epoch 2/2\n",
      "2532/2532 [==============================] - 2s 830us/sample - loss: 0.0028\n",
      "MSE: 1374403.336004968, RMSE: 1172.3494939671225)\n",
      "Train on 2532 samples\n",
      "Epoch 1/2\n",
      "2532/2532 [==============================] - 3s 1ms/sample - loss: 0.0279\n",
      "Epoch 2/2\n",
      "2532/2532 [==============================] - 2s 802us/sample - loss: 0.0029\n",
      "MSE: 2462042.841963506, RMSE: 1569.089813224057)\n",
      "Train on 2532 samples\n",
      "Epoch 1/2\n",
      "2532/2532 [==============================] - 3s 1ms/sample - loss: 0.0197\n",
      "Epoch 2/2\n",
      "2532/2532 [==============================] - 2s 831us/sample - loss: 0.0029\n",
      "MSE: 4245724.27347951, RMSE: 2060.515535850072)\n",
      "Train on 2532 samples\n",
      "Epoch 1/2\n",
      "2532/2532 [==============================] - 3s 1ms/sample - loss: 0.0333\n",
      "Epoch 2/2\n",
      "2532/2532 [==============================] - 2s 806us/sample - loss: 0.0028\n",
      "MSE: 1762869.489587964, RMSE: 1327.7309552721756)\n",
      "Train on 2532 samples\n",
      "Epoch 1/2\n",
      "2532/2532 [==============================] - 3s 1ms/sample - loss: 0.0104\n",
      "Epoch 2/2\n",
      "2532/2532 [==============================] - 2s 805us/sample - loss: 0.0029\n",
      "MSE: 1920412.6621032406, RMSE: 1385.789544665149)\n",
      "Train on 2532 samples\n",
      "Epoch 1/2\n",
      "2532/2532 [==============================] - 3s 1ms/sample - loss: 0.0286\n",
      "Epoch 2/2\n",
      "2532/2532 [==============================] - 2s 807us/sample - loss: 0.0028\n",
      "MSE: 2065077.1316137244, RMSE: 1437.0376235901845)\n",
      "Train on 2532 samples\n",
      "Epoch 1/2\n",
      "2532/2532 [==============================] - 3s 1ms/sample - loss: 0.1344\n",
      "Epoch 2/2\n",
      "2532/2532 [==============================] - 2s 808us/sample - loss: 0.0028\n",
      "MSE: 1601884.05558507, RMSE: 1265.655583318412)\n",
      "Train on 2532 samples\n",
      "Epoch 1/2\n",
      "2532/2532 [==============================] - 3s 1ms/sample - loss: 0.0371\n",
      "Epoch 2/2\n",
      "2532/2532 [==============================] - 2s 802us/sample - loss: 0.0028\n",
      "MSE: 1547738.6112394577, RMSE: 1244.0814327203254)\n",
      "Train on 2532 samples\n",
      "Epoch 1/2\n",
      "2532/2532 [==============================] - 3s 1ms/sample - loss: 0.0619\n",
      "Epoch 2/2\n",
      "2532/2532 [==============================] - 2s 799us/sample - loss: 0.0028\n",
      "MSE: 2180628.5466966843, RMSE: 1476.695143452664)\n",
      "Train on 2532 samples\n",
      "Epoch 1/2\n",
      "2532/2532 [==============================] - 3s 1ms/sample - loss: 0.0091\n",
      "Epoch 2/2\n",
      "2532/2532 [==============================] - 2s 801us/sample - loss: 0.0030\n",
      "MSE: 2952801.6892640498, RMSE: 1718.3718134513408)\n",
      "Train on 2532 samples\n",
      "Epoch 1/2\n",
      "2532/2532 [==============================] - 3s 1ms/sample - loss: 0.0224\n",
      "Epoch 2/2\n",
      "2532/2532 [==============================] - 2s 930us/sample - loss: 0.0029\n",
      "MSE: 1871297.730305343, RMSE: 1367.9538480173017)\n",
      "Train on 2532 samples\n",
      "Epoch 1/2\n",
      "2532/2532 [==============================] - 3s 1ms/sample - loss: 0.0048\n",
      "Epoch 2/2\n",
      "2532/2532 [==============================] - 2s 791us/sample - loss: 0.0029\n",
      "MSE: 4660714.700551614, RMSE: 2158.868847464249)\n",
      "Train on 2532 samples\n",
      "Epoch 1/2\n",
      "2532/2532 [==============================] - 3s 1ms/sample - loss: 0.0120\n",
      "Epoch 2/2\n",
      "2532/2532 [==============================] - 2s 809us/sample - loss: 0.0029\n",
      "MSE: 2988387.7444270537, RMSE: 1728.6953879810792)\n",
      "Train on 2532 samples\n",
      "Epoch 1/2\n",
      "2532/2532 [==============================] - 4s 1ms/sample - loss: 0.0150\n",
      "Epoch 2/2\n",
      "2532/2532 [==============================] - 2s 831us/sample - loss: 0.0030\n",
      "MSE: 2173382.403841455, RMSE: 1474.2396019105765)\n",
      "Train on 2532 samples\n",
      "Epoch 1/2\n",
      "2532/2532 [==============================] - 3s 1ms/sample - loss: 0.0733\n",
      "Epoch 2/2\n",
      "2532/2532 [==============================] - 2s 818us/sample - loss: 0.0029\n",
      "MSE: 2025938.0572638, RMSE: 1423.354508639292)\n",
      "Train on 2532 samples\n",
      "Epoch 1/2\n",
      "2532/2532 [==============================] - 3s 1ms/sample - loss: 0.0701\n",
      "Epoch 2/2\n",
      "2532/2532 [==============================] - 2s 818us/sample - loss: 0.0029\n",
      "MSE: 3669663.5467009307, RMSE: 1915.636590457838)\n",
      "Train on 2532 samples\n",
      "Epoch 1/2\n",
      "2532/2532 [==============================] - 3s 1ms/sample - loss: 0.0312\n",
      "Epoch 2/2\n",
      "2532/2532 [==============================] - 2s 795us/sample - loss: 0.0029\n",
      "MSE: 3421586.36540149, RMSE: 1849.7530552485891)\n",
      "Train on 2532 samples\n",
      "Epoch 1/2\n",
      "2532/2532 [==============================] - 3s 1ms/sample - loss: 0.0478\n",
      "Epoch 2/2\n",
      "2532/2532 [==============================] - 2s 786us/sample - loss: 0.0029\n",
      "MSE: 1830629.2662256896, RMSE: 1353.00748934575)\n",
      "Train on 2532 samples\n",
      "Epoch 1/2\n",
      "2532/2532 [==============================] - 3s 1ms/sample - loss: 0.0340\n",
      "Epoch 2/2\n",
      "2532/2532 [==============================] - 2s 799us/sample - loss: 0.0029\n",
      "MSE: 2387540.588554299, RMSE: 1545.1668481281556)\n",
      "Train on 2532 samples\n",
      "Epoch 1/2\n",
      "2532/2532 [==============================] - 3s 1ms/sample - loss: 0.0133\n",
      "Epoch 2/2\n",
      "2532/2532 [==============================] - 2s 804us/sample - loss: 0.0030\n",
      "MSE: 2926902.98459765, RMSE: 1710.8193898239667)\n",
      "Train on 2532 samples\n",
      "Epoch 1/2\n",
      "2532/2532 [==============================] - 3s 1ms/sample - loss: 0.0378\n",
      "Epoch 2/2\n",
      "2532/2532 [==============================] - 2s 801us/sample - loss: 0.0028\n",
      "MSE: 2097470.2497155024, RMSE: 1448.2645648207729)\n",
      "Train on 2532 samples\n",
      "Epoch 1/2\n",
      "2532/2532 [==============================] - 3s 1ms/sample - loss: 0.0094\n",
      "Epoch 2/2\n",
      "2532/2532 [==============================] - 2s 801us/sample - loss: 0.0030\n",
      "MSE: 2768718.387552484, RMSE: 1663.9466300192696)\n",
      "Train on 2532 samples\n",
      "Epoch 1/2\n",
      "2532/2532 [==============================] - 3s 1ms/sample - loss: 0.1242\n",
      "Epoch 2/2\n",
      "2532/2532 [==============================] - 2s 784us/sample - loss: 0.0028\n",
      "MSE: 1691883.0628689497, RMSE: 1300.7240533137494)\n",
      "Train on 2532 samples\n",
      "Epoch 1/2\n",
      "2532/2532 [==============================] - 3s 1ms/sample - loss: 0.0416\n",
      "Epoch 2/2\n",
      "2532/2532 [==============================] - 2s 795us/sample - loss: 0.0029\n",
      "MSE: 2124618.2328803386, RMSE: 1457.6070227878083)\n",
      "Train on 2532 samples\n",
      "Epoch 1/2\n",
      "2532/2532 [==============================] - 3s 1ms/sample - loss: 0.0086\n",
      "Epoch 2/2\n",
      "2532/2532 [==============================] - 2s 787us/sample - loss: 0.0029\n",
      "MSE: 2441812.5781640243, RMSE: 1562.6300196028567)\n",
      "Train on 2532 samples\n",
      "Epoch 1/2\n",
      "1216/2532 [=============>................] - ETA: 1s - loss: 0.0941"
     ]
    }
   ],
   "source": [
    "y_scale = MinMaxScaler()\n",
    "y_scaled = y_scale.fit_transform(y)\n",
    "pickle_dump(lstm_pipe, \"models/base_model.pickle\")\n",
    "i = 0\n",
    "rmse_list = []\n",
    "while i < 500:\n",
    "    lstm_pipe.fit(X, y_scaled)\n",
    "    predictions = lstm_predictions(lstm_pipe, btc_train, [\"Close\"], max_predictions=30)\n",
    "    lstm_pipe[2].model.save_weights(f\"models/backup_weights{i}.h5\")\n",
    "    rmse = evaluate_intersection_loss(predictions, btc_test[\"Close\"])\n",
    "    rmse_list.append(rmse)\n",
    "    i += 1"
   ]
  },
  {
   "cell_type": "code",
   "execution_count": 25,
   "metadata": {},
   "outputs": [
    {
     "data": {
      "text/plain": [
       "0.5895241"
      ]
     },
     "execution_count": 25,
     "metadata": {},
     "output_type": "execute_result"
    }
   ],
   "source": [
    "te.max()"
   ]
  },
  {
   "cell_type": "code",
   "execution_count": 23,
   "metadata": {},
   "outputs": [],
   "source": [
    "te = lstm_predictions(lstm_pipe, btc_train, btc_test, [\"Close\"])"
   ]
  },
  {
   "cell_type": "code",
   "execution_count": 33,
   "metadata": {},
   "outputs": [
    {
     "data": {
      "text/plain": [
       "<matplotlib.axes._subplots.AxesSubplot at 0x7f8e244a6790>"
      ]
     },
     "execution_count": 33,
     "metadata": {},
     "output_type": "execute_result"
    },
    {
     "data": {
      "image/png": "[encoded data removed]",
      "text/plain": [
       "<Figure size 1440x720 with 1 Axes>"
      ]
     },
     "metadata": {
      "needs_background": "light"
     },
     "output_type": "display_data"
    }
   ],
   "source": [
    "lstm_predictions(lstm_pipe, btc_train, btc_test, [\"Close\"], max_predictions=30).plot(figsize=(20,10))"
   ]
  },
  {
   "cell_type": "code",
   "execution_count": 28,
   "metadata": {},
   "outputs": [
    {
     "name": "stdout",
     "output_type": "stream",
     "text": [
      "Train on 2532 samples\n",
      "2532/2532 [==============================] - 3s 1ms/sample - loss: 0.0314\n",
      "Train on 2532 samples\n",
      "2532/2532 [==============================] - 3s 1ms/sample - loss: 0.0310\n"
     ]
    }
   ],
   "source": []
  },
  {
   "cell_type": "code",
   "execution_count": 9,
   "metadata": {},
   "outputs": [],
   "source": [
    "test = "
   ]
  },
  {
   "cell_type": "code",
   "execution_count": 31,
   "metadata": {},
   "outputs": [
    {
     "data": {
      "text/plain": [
       "0.43389037"
      ]
     },
     "execution_count": 31,
     "metadata": {},
     "output_type": "execute_result"
    }
   ],
   "source": [
    "test[0]"
   ]
  },
  {
   "cell_type": "code",
   "execution_count": 28,
   "metadata": {},
   "outputs": [
    {
     "data": {
      "text/html": [
       "<div>\n",
       "<style scoped>\n",
       "    .dataframe tbody tr th:only-of-type {\n",
       "        vertical-align: middle;\n",
       "    }\n",
       "\n",
       "    .dataframe tbody tr th {\n",
       "        vertical-align: top;\n",
       "    }\n",
       "\n",
       "    .dataframe thead th {\n",
       "        text-align: right;\n",
       "    }\n",
       "</style>\n",
       "<table border=\"1\" class=\"dataframe\">\n",
       "  <thead>\n",
       "    <tr style=\"text-align: right;\">\n",
       "      <th></th>\n",
       "      <th>Open</th>\n",
       "      <th>High</th>\n",
       "      <th>Low</th>\n",
       "      <th>Close</th>\n",
       "      <th>Volume</th>\n",
       "      <th>Market Cap</th>\n",
       "    </tr>\n",
       "    <tr>\n",
       "      <th>Date</th>\n",
       "      <th></th>\n",
       "      <th></th>\n",
       "      <th></th>\n",
       "      <th></th>\n",
       "      <th></th>\n",
       "      <th></th>\n",
       "    </tr>\n",
       "  </thead>\n",
       "  <tbody>\n",
       "    <tr>\n",
       "      <th>2020-03-03</th>\n",
       "      <td>8865.39</td>\n",
       "      <td>8901.60</td>\n",
       "      <td>8704.99</td>\n",
       "      <td>8787.79</td>\n",
       "      <td>4.238672e+10</td>\n",
       "      <td>160383579416</td>\n",
       "    </tr>\n",
       "    <tr>\n",
       "      <th>2020-03-04</th>\n",
       "      <td>8788.54</td>\n",
       "      <td>8843.37</td>\n",
       "      <td>8712.43</td>\n",
       "      <td>8755.25</td>\n",
       "      <td>3.474671e+10</td>\n",
       "      <td>159807857328</td>\n",
       "    </tr>\n",
       "    <tr>\n",
       "      <th>2020-03-05</th>\n",
       "      <td>8760.29</td>\n",
       "      <td>9142.05</td>\n",
       "      <td>8757.25</td>\n",
       "      <td>9078.76</td>\n",
       "      <td>3.969805e+10</td>\n",
       "      <td>165731679918</td>\n",
       "    </tr>\n",
       "    <tr>\n",
       "      <th>2020-03-06</th>\n",
       "      <td>9078.31</td>\n",
       "      <td>9167.70</td>\n",
       "      <td>9032.08</td>\n",
       "      <td>9122.55</td>\n",
       "      <td>4.082689e+10</td>\n",
       "      <td>166548261960</td>\n",
       "    </tr>\n",
       "    <tr>\n",
       "      <th>2020-03-07</th>\n",
       "      <td>9121.60</td>\n",
       "      <td>9163.22</td>\n",
       "      <td>8890.74</td>\n",
       "      <td>8909.95</td>\n",
       "      <td>3.621693e+10</td>\n",
       "      <td>162684945903</td>\n",
       "    </tr>\n",
       "    <tr>\n",
       "      <th>...</th>\n",
       "      <td>...</td>\n",
       "      <td>...</td>\n",
       "      <td>...</td>\n",
       "      <td>...</td>\n",
       "      <td>...</td>\n",
       "      <td>...</td>\n",
       "    </tr>\n",
       "    <tr>\n",
       "      <th>2020-04-28</th>\n",
       "      <td>7796.97</td>\n",
       "      <td>7814.53</td>\n",
       "      <td>7730.81</td>\n",
       "      <td>7807.06</td>\n",
       "      <td>3.318796e+10</td>\n",
       "      <td>143266252261</td>\n",
       "    </tr>\n",
       "    <tr>\n",
       "      <th>2020-04-29</th>\n",
       "      <td>7806.71</td>\n",
       "      <td>8871.75</td>\n",
       "      <td>7786.05</td>\n",
       "      <td>8801.04</td>\n",
       "      <td>6.020105e+10</td>\n",
       "      <td>161522471385</td>\n",
       "    </tr>\n",
       "    <tr>\n",
       "      <th>2020-04-30</th>\n",
       "      <td>8797.67</td>\n",
       "      <td>9440.65</td>\n",
       "      <td>8533.26</td>\n",
       "      <td>8658.55</td>\n",
       "      <td>6.696463e+10</td>\n",
       "      <td>158922133909</td>\n",
       "    </tr>\n",
       "    <tr>\n",
       "      <th>2020-05-01</th>\n",
       "      <td>8672.78</td>\n",
       "      <td>9048.02</td>\n",
       "      <td>8667.76</td>\n",
       "      <td>8864.77</td>\n",
       "      <td>4.406839e+10</td>\n",
       "      <td>162722652380</td>\n",
       "    </tr>\n",
       "    <tr>\n",
       "      <th>2020-05-02</th>\n",
       "      <td>8869.06</td>\n",
       "      <td>9007.19</td>\n",
       "      <td>8811.37</td>\n",
       "      <td>8988.60</td>\n",
       "      <td>4.013439e+10</td>\n",
       "      <td>165012307600</td>\n",
       "    </tr>\n",
       "  </tbody>\n",
       "</table>\n",
       "<p>61 rows × 6 columns</p>\n",
       "</div>"
      ],
      "text/plain": [
       "               Open     High      Low    Close        Volume    Market Cap\n",
       "Date                                                                      \n",
       "2020-03-03  8865.39  8901.60  8704.99  8787.79  4.238672e+10  160383579416\n",
       "2020-03-04  8788.54  8843.37  8712.43  8755.25  3.474671e+10  159807857328\n",
       "2020-03-05  8760.29  9142.05  8757.25  9078.76  3.969805e+10  165731679918\n",
       "2020-03-06  9078.31  9167.70  9032.08  9122.55  4.082689e+10  166548261960\n",
       "2020-03-07  9121.60  9163.22  8890.74  8909.95  3.621693e+10  162684945903\n",
       "...             ...      ...      ...      ...           ...           ...\n",
       "2020-04-28  7796.97  7814.53  7730.81  7807.06  3.318796e+10  143266252261\n",
       "2020-04-29  7806.71  8871.75  7786.05  8801.04  6.020105e+10  161522471385\n",
       "2020-04-30  8797.67  9440.65  8533.26  8658.55  6.696463e+10  158922133909\n",
       "2020-05-01  8672.78  9048.02  8667.76  8864.77  4.406839e+10  162722652380\n",
       "2020-05-02  8869.06  9007.19  8811.37  8988.60  4.013439e+10  165012307600\n",
       "\n",
       "[61 rows x 6 columns]"
      ]
     },
     "execution_count": 28,
     "metadata": {},
     "output_type": "execute_result"
    }
   ],
   "source": [
    "btc_test"
   ]
  },
  {
   "cell_type": "code",
   "execution_count": 8,
   "metadata": {},
   "outputs": [
    {
     "name": "stdout",
     "output_type": "stream",
     "text": [
      "Train on 2499 samples\n",
      "2499/2499 [==============================] - 5s 2ms/sample - loss: 0.0206\n",
      "Train on 2499 samples\n",
      "2499/2499 [==============================] - 5s 2ms/sample - loss: 0.0073\n",
      "Train on 2499 samples\n",
      "2499/2499 [==============================] - 4s 2ms/sample - loss: 0.0112\n",
      "Train on 2499 samples\n",
      "2499/2499 [==============================] - 4s 2ms/sample - loss: 0.0292\n",
      "Train on 2499 samples\n",
      "2499/2499 [==============================] - 5s 2ms/sample - loss: 0.0142\n",
      "Train on 2499 samples\n",
      "2499/2499 [==============================] - 4s 2ms/sample - loss: 0.0182\n",
      "Train on 2499 samples\n",
      "2499/2499 [==============================] - 4s 2ms/sample - loss: 0.0067\n",
      "Train on 2499 samples\n",
      "2499/2499 [==============================] - 5s 2ms/sample - loss: 0.0433\n",
      "Train on 2499 samples\n",
      "2499/2499 [==============================] - 4s 2ms/sample - loss: 0.0189\n"
     ]
    }
   ],
   "source": []
  },
  {
   "cell_type": "code",
   "execution_count": null,
   "metadata": {},
   "outputs": [],
   "source": []
  },
  {
   "cell_type": "code",
   "execution_count": 47,
   "metadata": {},
   "outputs": [
    {
     "data": {
      "text/plain": [
       "(              Open     High     Low   Close        Volume    Market Cap\n",
       " Date                                                                   \n",
       " 2013-04-29   -0.86    11.51    1.90   10.33           NaN -9.360000e+06\n",
       " 2013-04-30    9.56    -0.56    0.05   -5.54           NaN  1.066200e+08\n",
       " 2013-05-01   -5.00    -7.04  -26.33  -22.01           NaN -5.496000e+07\n",
       " 2013-05-02  -22.62   -14.29  -15.44  -11.78           NaN -2.506300e+08\n",
       " 2013-05-03  -10.13   -17.47  -13.18   -7.46           NaN -1.121200e+08\n",
       " ...            ...      ...     ...     ...           ...           ...\n",
       " 2020-04-27  109.28    95.01  118.01  115.73  3.091990e+09  2.137121e+09\n",
       " 2020-04-28  117.55    18.93   51.39   11.46 -2.974185e+09  2.252637e+08\n",
       " 2020-04-29    9.74  1057.22   55.24  993.98  2.701309e+10  1.825622e+10\n",
       " 2020-04-30  990.96   568.90  747.21 -142.49  6.763577e+09 -2.600337e+09\n",
       " 2020-05-01 -124.89  -392.63  134.50  206.22 -2.289624e+10  3.800518e+09\n",
       " \n",
       " [2560 rows x 6 columns],\n",
       "               Open     High     Low   Close        Volume    Market Cap\n",
       " Date                                                                   \n",
       " 2013-04-29    9.56    -0.56    0.05   -5.54           NaN  1.066200e+08\n",
       " 2013-04-30   -5.00    -7.04  -26.33  -22.01           NaN -5.496000e+07\n",
       " 2013-05-01  -22.62   -14.29  -15.44  -11.78           NaN -2.506300e+08\n",
       " 2013-05-02  -10.13   -17.47  -13.18   -7.46           NaN -1.121200e+08\n",
       " 2013-05-03   -8.15     6.87   13.40   14.75           NaN -9.018000e+07\n",
       " ...            ...      ...     ...     ...           ...           ...\n",
       " 2020-04-27  117.55    18.93   51.39   11.46 -2.974185e+09  2.252637e+08\n",
       " 2020-04-28    9.74  1057.22   55.24  993.98  2.701309e+10  1.825622e+10\n",
       " 2020-04-29  990.96   568.90  747.21 -142.49  6.763577e+09 -2.600337e+09\n",
       " 2020-04-30 -124.89  -392.63  134.50  206.22 -2.289624e+10  3.800518e+09\n",
       " 2020-05-01  196.28   -40.83  143.61  123.83 -3.934001e+09  2.289655e+09\n",
       " \n",
       " [2560 rows x 6 columns])"
      ]
     },
     "execution_count": 47,
     "metadata": {},
     "output_type": "execute_result"
    }
   ],
   "source": [
    "preprocess_lstm(btc, lag=1)"
   ]
  },
  {
   "cell_type": "code",
   "execution_count": 95,
   "metadata": {},
   "outputs": [],
   "source": []
  },
  {
   "cell_type": "code",
   "execution_count": null,
   "metadata": {},
   "outputs": [],
   "source": []
  }
 ],
 "metadata": {
  "kernelspec": {
   "display_name": "Python 3",
   "language": "python",
   "name": "python3"
  },
  "language_info": {
   "codemirror_mode": {
    "name": "ipython",
    "version": 3
   },
   "file_extension": ".py",
   "mimetype": "text/x-python",
   "name": "python",
   "nbconvert_exporter": "python",
   "pygments_lexer": "ipython3",
   "version": "3.7.6"
  }
 },
 "nbformat": 4,
 "nbformat_minor": 4
}
